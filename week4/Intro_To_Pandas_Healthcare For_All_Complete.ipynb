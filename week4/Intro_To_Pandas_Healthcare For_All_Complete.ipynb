{
 "cells": [
  {
   "cell_type": "markdown",
   "metadata": {
    "id": "TAS5MqM9xy-N"
   },
   "source": [
    "## Health Care for All Case Study using Pandas"
   ]
  },
  {
   "cell_type": "code",
   "execution_count": 1,
   "metadata": {
    "executionInfo": {
     "elapsed": 357,
     "status": "ok",
     "timestamp": 1623063461098,
     "user": {
      "displayName": "Ignacio Soteras",
      "photoUrl": "",
      "userId": "02050793736257155229"
     },
     "user_tz": -120
    },
    "id": "DVtwE6bRxy-V"
   },
   "outputs": [],
   "source": [
    "import numpy as np\n",
    "import pandas as pd\n",
    "import matplotlib.pyplot as plt\n",
    "%matplotlib inline\n",
    "import seaborn as sns\n",
    "from sklearn.preprocessing import StandardScaler\n",
    "from sklearn.preprocessing import minmax_scale\n",
    "from sklearn.preprocessing import OneHotEncoder\n",
    "from sklearn.linear_model import LinearRegression\n",
    "from sklearn.model_selection import train_test_split\n",
    "from sklearn.preprocessing import PowerTransformer\n",
    "from sklearn.linear_model import LinearRegression\n",
    "import statsmodels.api as sm\n",
    "from scipy.stats import boxcox\n",
    "from sklearn.model_selection import train_test_split\n",
    "from sklearn.metrics import r2_score\n",
    "from sklearn.metrics import mean_squared_error as mse\n",
    "from sklearn.metrics import mean_absolute_error as mae\n",
    "pd.options.display.max_rows = 50\n",
    "## Install xlrd package to load Excel files\n",
    "# conda install openpyxl\n",
    "## conda install xlrd"
   ]
  },
  {
   "cell_type": "markdown",
   "metadata": {},
   "source": [
    "### Loading Data"
   ]
  },
  {
   "cell_type": "code",
   "execution_count": 2,
   "metadata": {},
   "outputs": [],
   "source": [
    "def load_original_data():\n",
    "    file1 = pd.read_csv('Data/file1.csv')\n",
    "    file2 = pd.read_csv('Data/file2.txt', sep = '\\t')\n",
    "    file3 = pd.read_excel('Data/file3.xlsx')\n",
    "    file4 = pd.read_excel('Data/file4.xlsx')\n",
    "    return pd.concat([file1,file2,file3, file4], axis=0)"
   ]
  },
  {
   "cell_type": "code",
   "execution_count": 3,
   "metadata": {},
   "outputs": [],
   "source": [
    "hk_df=load_original_data()"
   ]
  },
  {
   "cell_type": "markdown",
   "metadata": {},
   "source": [
    "### Make the column names lower case"
   ]
  },
  {
   "cell_type": "markdown",
   "metadata": {
    "id": "LfeoMvYOYIf7"
   },
   "source": [
    "#### Excercise:"
   ]
  },
  {
   "cell_type": "markdown",
   "metadata": {
    "id": "H_BC40piXmwW"
   },
   "source": [
    "\n",
    "\n",
    "Can you figure out how to use list comprehension and string methods in order to have all the column names in lowercase in the data frame?"
   ]
  },
  {
   "cell_type": "code",
   "execution_count": 4,
   "metadata": {},
   "outputs": [],
   "source": [
    "def lower_case_column_names(hk_df):\n",
    "    hk_df.columns=[i.lower() for i in hk_df.columns]\n",
    "    return hk_df"
   ]
  },
  {
   "cell_type": "code",
   "execution_count": 5,
   "metadata": {
    "scrolled": false
   },
   "outputs": [
    {
     "data": {
      "text/html": [
       "<div>\n",
       "<style scoped>\n",
       "    .dataframe tbody tr th:only-of-type {\n",
       "        vertical-align: middle;\n",
       "    }\n",
       "\n",
       "    .dataframe tbody tr th {\n",
       "        vertical-align: top;\n",
       "    }\n",
       "\n",
       "    .dataframe thead th {\n",
       "        text-align: right;\n",
       "    }\n",
       "</style>\n",
       "<table border=\"1\" class=\"dataframe\">\n",
       "  <thead>\n",
       "    <tr style=\"text-align: right;\">\n",
       "      <th></th>\n",
       "      <th>controln</th>\n",
       "      <th>state</th>\n",
       "      <th>gender</th>\n",
       "      <th>hv1</th>\n",
       "      <th>ic1</th>\n",
       "      <th>ic4</th>\n",
       "      <th>hvp1</th>\n",
       "      <th>ic5</th>\n",
       "      <th>pobc1</th>\n",
       "      <th>pobc2</th>\n",
       "      <th>ic2</th>\n",
       "      <th>ic3</th>\n",
       "      <th>avggift</th>\n",
       "      <th>tcode</th>\n",
       "      <th>dob</th>\n",
       "      <th>domain</th>\n",
       "      <th>target_d</th>\n",
       "    </tr>\n",
       "  </thead>\n",
       "  <tbody>\n",
       "    <tr>\n",
       "      <th>0</th>\n",
       "      <td>44060</td>\n",
       "      <td>FL</td>\n",
       "      <td>M</td>\n",
       "      <td>AAA896</td>\n",
       "      <td>392</td>\n",
       "      <td>520.0</td>\n",
       "      <td>7</td>\n",
       "      <td>21975</td>\n",
       "      <td>6</td>\n",
       "      <td>16</td>\n",
       "      <td>430.0</td>\n",
       "      <td>466</td>\n",
       "      <td>28.000000</td>\n",
       "      <td>1</td>\n",
       "      <td>1901</td>\n",
       "      <td>C2</td>\n",
       "      <td>100.0</td>\n",
       "    </tr>\n",
       "    <tr>\n",
       "      <th>1</th>\n",
       "      <td>96093</td>\n",
       "      <td>IL</td>\n",
       "      <td>M</td>\n",
       "      <td>537.00</td>\n",
       "      <td>365</td>\n",
       "      <td>473.0</td>\n",
       "      <td>0</td>\n",
       "      <td>19387</td>\n",
       "      <td>1</td>\n",
       "      <td>89</td>\n",
       "      <td>415.0</td>\n",
       "      <td>410</td>\n",
       "      <td>5.666667</td>\n",
       "      <td>0</td>\n",
       "      <td>0</td>\n",
       "      <td>T2</td>\n",
       "      <td>7.0</td>\n",
       "    </tr>\n",
       "    <tr>\n",
       "      <th>2</th>\n",
       "      <td>43333</td>\n",
       "      <td>FL</td>\n",
       "      <td>F</td>\n",
       "      <td>725.00</td>\n",
       "      <td>301</td>\n",
       "      <td>436.0</td>\n",
       "      <td>3</td>\n",
       "      <td>18837</td>\n",
       "      <td>11</td>\n",
       "      <td>17</td>\n",
       "      <td>340.0</td>\n",
       "      <td>361</td>\n",
       "      <td>4.111111</td>\n",
       "      <td>0</td>\n",
       "      <td>2501</td>\n",
       "      <td>C2</td>\n",
       "      <td>5.0</td>\n",
       "    </tr>\n",
       "    <tr>\n",
       "      <th>3</th>\n",
       "      <td>21885</td>\n",
       "      <td>NC</td>\n",
       "      <td>M</td>\n",
       "      <td>AAA1095</td>\n",
       "      <td>401</td>\n",
       "      <td>413.0</td>\n",
       "      <td>7</td>\n",
       "      <td>14014</td>\n",
       "      <td>1</td>\n",
       "      <td>74</td>\n",
       "      <td>407.0</td>\n",
       "      <td>399</td>\n",
       "      <td>27.277778</td>\n",
       "      <td>0</td>\n",
       "      <td>2208</td>\n",
       "      <td>T2</td>\n",
       "      <td>38.0</td>\n",
       "    </tr>\n",
       "    <tr>\n",
       "      <th>4</th>\n",
       "      <td>190108</td>\n",
       "      <td>FL</td>\n",
       "      <td>F</td>\n",
       "      <td>995.00</td>\n",
       "      <td>252</td>\n",
       "      <td>348.0</td>\n",
       "      <td>0</td>\n",
       "      <td>17991</td>\n",
       "      <td>5</td>\n",
       "      <td>6</td>\n",
       "      <td>280.0</td>\n",
       "      <td>316</td>\n",
       "      <td>6.000000</td>\n",
       "      <td>28</td>\n",
       "      <td>0</td>\n",
       "      <td>C2</td>\n",
       "      <td>5.0</td>\n",
       "    </tr>\n",
       "    <tr>\n",
       "      <th>...</th>\n",
       "      <td>...</td>\n",
       "      <td>...</td>\n",
       "      <td>...</td>\n",
       "      <td>...</td>\n",
       "      <td>...</td>\n",
       "      <td>...</td>\n",
       "      <td>...</td>\n",
       "      <td>...</td>\n",
       "      <td>...</td>\n",
       "      <td>...</td>\n",
       "      <td>...</td>\n",
       "      <td>...</td>\n",
       "      <td>...</td>\n",
       "      <td>...</td>\n",
       "      <td>...</td>\n",
       "      <td>...</td>\n",
       "      <td>...</td>\n",
       "    </tr>\n",
       "    <tr>\n",
       "      <th>1001</th>\n",
       "      <td>41537</td>\n",
       "      <td>FL</td>\n",
       "      <td>F</td>\n",
       "      <td>742</td>\n",
       "      <td>396</td>\n",
       "      <td>470.0</td>\n",
       "      <td>0</td>\n",
       "      <td>15356</td>\n",
       "      <td>7</td>\n",
       "      <td>37</td>\n",
       "      <td>424.0</td>\n",
       "      <td>450</td>\n",
       "      <td>14.285714</td>\n",
       "      <td>2</td>\n",
       "      <td>6101</td>\n",
       "      <td>S2</td>\n",
       "      <td>50.0</td>\n",
       "    </tr>\n",
       "    <tr>\n",
       "      <th>1002</th>\n",
       "      <td>4881</td>\n",
       "      <td>FL</td>\n",
       "      <td>M</td>\n",
       "      <td>599</td>\n",
       "      <td>100</td>\n",
       "      <td>423.0</td>\n",
       "      <td>4</td>\n",
       "      <td>11670</td>\n",
       "      <td>10</td>\n",
       "      <td>27</td>\n",
       "      <td>406.0</td>\n",
       "      <td>200</td>\n",
       "      <td>9.230769</td>\n",
       "      <td>28</td>\n",
       "      <td>7401</td>\n",
       "      <td>C1</td>\n",
       "      <td>10.0</td>\n",
       "    </tr>\n",
       "    <tr>\n",
       "      <th>1003</th>\n",
       "      <td>66358</td>\n",
       "      <td>ND</td>\n",
       "      <td>M</td>\n",
       "      <td>593</td>\n",
       "      <td>258</td>\n",
       "      <td>299.0</td>\n",
       "      <td>0</td>\n",
       "      <td>10186</td>\n",
       "      <td>1</td>\n",
       "      <td>70</td>\n",
       "      <td>298.0</td>\n",
       "      <td>274</td>\n",
       "      <td>5.266667</td>\n",
       "      <td>1</td>\n",
       "      <td>3301</td>\n",
       "      <td>S2</td>\n",
       "      <td>5.0</td>\n",
       "    </tr>\n",
       "    <tr>\n",
       "      <th>1004</th>\n",
       "      <td>2231</td>\n",
       "      <td>WI</td>\n",
       "      <td>male</td>\n",
       "      <td>564</td>\n",
       "      <td>217</td>\n",
       "      <td>397.0</td>\n",
       "      <td>0</td>\n",
       "      <td>12315</td>\n",
       "      <td>0</td>\n",
       "      <td>96</td>\n",
       "      <td>386.0</td>\n",
       "      <td>295</td>\n",
       "      <td>11.400000</td>\n",
       "      <td>1</td>\n",
       "      <td>7301</td>\n",
       "      <td>T2</td>\n",
       "      <td>14.0</td>\n",
       "    </tr>\n",
       "    <tr>\n",
       "      <th>1005</th>\n",
       "      <td>68534</td>\n",
       "      <td>MI</td>\n",
       "      <td>M</td>\n",
       "      <td>651</td>\n",
       "      <td>431</td>\n",
       "      <td>505.0</td>\n",
       "      <td>0</td>\n",
       "      <td>14845</td>\n",
       "      <td>7</td>\n",
       "      <td>77</td>\n",
       "      <td>451.0</td>\n",
       "      <td>455</td>\n",
       "      <td>7.428571</td>\n",
       "      <td>1</td>\n",
       "      <td>1709</td>\n",
       "      <td>S2</td>\n",
       "      <td>9.0</td>\n",
       "    </tr>\n",
       "  </tbody>\n",
       "</table>\n",
       "<p>4028 rows × 17 columns</p>\n",
       "</div>"
      ],
      "text/plain": [
       "      controln state gender      hv1  ic1    ic4  hvp1    ic5  pobc1  pobc2  \\\n",
       "0        44060    FL      M   AAA896  392  520.0     7  21975      6     16   \n",
       "1        96093    IL      M   537.00  365  473.0     0  19387      1     89   \n",
       "2        43333    FL      F   725.00  301  436.0     3  18837     11     17   \n",
       "3        21885    NC      M  AAA1095  401  413.0     7  14014      1     74   \n",
       "4       190108    FL      F   995.00  252  348.0     0  17991      5      6   \n",
       "...        ...   ...    ...      ...  ...    ...   ...    ...    ...    ...   \n",
       "1001     41537    FL      F      742  396  470.0     0  15356      7     37   \n",
       "1002      4881    FL      M      599  100  423.0     4  11670     10     27   \n",
       "1003     66358    ND      M      593  258  299.0     0  10186      1     70   \n",
       "1004      2231    WI   male      564  217  397.0     0  12315      0     96   \n",
       "1005     68534    MI      M      651  431  505.0     0  14845      7     77   \n",
       "\n",
       "        ic2  ic3    avggift  tcode   dob domain  target_d  \n",
       "0     430.0  466  28.000000      1  1901     C2     100.0  \n",
       "1     415.0  410   5.666667      0     0     T2       7.0  \n",
       "2     340.0  361   4.111111      0  2501     C2       5.0  \n",
       "3     407.0  399  27.277778      0  2208     T2      38.0  \n",
       "4     280.0  316   6.000000     28     0     C2       5.0  \n",
       "...     ...  ...        ...    ...   ...    ...       ...  \n",
       "1001  424.0  450  14.285714      2  6101     S2      50.0  \n",
       "1002  406.0  200   9.230769     28  7401     C1      10.0  \n",
       "1003  298.0  274   5.266667      1  3301     S2       5.0  \n",
       "1004  386.0  295  11.400000      1  7301     T2      14.0  \n",
       "1005  451.0  455   7.428571      1  1709     S2       9.0  \n",
       "\n",
       "[4028 rows x 17 columns]"
      ]
     },
     "execution_count": 5,
     "metadata": {},
     "output_type": "execute_result"
    }
   ],
   "source": [
    "lower_case_column_names(hk_df)"
   ]
  },
  {
   "cell_type": "markdown",
   "metadata": {
    "id": "e1CinfMhxy-Z"
   },
   "source": [
    "#### Renaming columns"
   ]
  },
  {
   "cell_type": "markdown",
   "metadata": {
    "id": "UqNrKdHKWtrN"
   },
   "source": [
    "Columns names can be replaced in several ways. \n",
    "\n",
    "One of them is to provide a new **list of column names** and replace the value of `df.columns`\n",
    "\n",
    "Another is to use the method `.rename()` which can be applied to a dataframe. This method needs as an input a **dictionary** in which the old column names are the keys, while the new column names are the values.\n",
    "\n"
   ]
  },
  {
   "cell_type": "markdown",
   "metadata": {
    "id": "8g_U7d8jYN5d"
   },
   "source": [
    "#### Excercise:"
   ]
  },
  {
   "cell_type": "markdown",
   "metadata": {
    "id": "246XLA9KYPj8"
   },
   "source": [
    "Can you rename the columns with the names from the variables_description file"
   ]
  },
  {
   "cell_type": "code",
   "execution_count": 6,
   "metadata": {},
   "outputs": [],
   "source": [
    "def rename_columns(hk_df):\n",
    "    hk_df.rename(columns={'controln':'id','hv1':'median_home_val', 'ic1':'median_household_income',\"ic2\":\"med_fam_income\", \"ic3\":\"avg_household_income\",\"ic4\": \"avg_fam_income\",\"ic5\":\"per_capita_income\"}, inplace=True )\n",
    "    return hk_df"
   ]
  },
  {
   "cell_type": "code",
   "execution_count": 7,
   "metadata": {},
   "outputs": [
    {
     "data": {
      "text/html": [
       "<div>\n",
       "<style scoped>\n",
       "    .dataframe tbody tr th:only-of-type {\n",
       "        vertical-align: middle;\n",
       "    }\n",
       "\n",
       "    .dataframe tbody tr th {\n",
       "        vertical-align: top;\n",
       "    }\n",
       "\n",
       "    .dataframe thead th {\n",
       "        text-align: right;\n",
       "    }\n",
       "</style>\n",
       "<table border=\"1\" class=\"dataframe\">\n",
       "  <thead>\n",
       "    <tr style=\"text-align: right;\">\n",
       "      <th></th>\n",
       "      <th>id</th>\n",
       "      <th>state</th>\n",
       "      <th>gender</th>\n",
       "      <th>median_home_val</th>\n",
       "      <th>median_household_income</th>\n",
       "      <th>avg_fam_income</th>\n",
       "      <th>hvp1</th>\n",
       "      <th>per_capita_income</th>\n",
       "      <th>pobc1</th>\n",
       "      <th>pobc2</th>\n",
       "      <th>med_fam_income</th>\n",
       "      <th>avg_household_income</th>\n",
       "      <th>avggift</th>\n",
       "      <th>tcode</th>\n",
       "      <th>dob</th>\n",
       "      <th>domain</th>\n",
       "      <th>target_d</th>\n",
       "    </tr>\n",
       "  </thead>\n",
       "  <tbody>\n",
       "    <tr>\n",
       "      <th>0</th>\n",
       "      <td>44060</td>\n",
       "      <td>FL</td>\n",
       "      <td>M</td>\n",
       "      <td>AAA896</td>\n",
       "      <td>392</td>\n",
       "      <td>520.0</td>\n",
       "      <td>7</td>\n",
       "      <td>21975</td>\n",
       "      <td>6</td>\n",
       "      <td>16</td>\n",
       "      <td>430.0</td>\n",
       "      <td>466</td>\n",
       "      <td>28.000000</td>\n",
       "      <td>1</td>\n",
       "      <td>1901</td>\n",
       "      <td>C2</td>\n",
       "      <td>100.0</td>\n",
       "    </tr>\n",
       "    <tr>\n",
       "      <th>1</th>\n",
       "      <td>96093</td>\n",
       "      <td>IL</td>\n",
       "      <td>M</td>\n",
       "      <td>537.00</td>\n",
       "      <td>365</td>\n",
       "      <td>473.0</td>\n",
       "      <td>0</td>\n",
       "      <td>19387</td>\n",
       "      <td>1</td>\n",
       "      <td>89</td>\n",
       "      <td>415.0</td>\n",
       "      <td>410</td>\n",
       "      <td>5.666667</td>\n",
       "      <td>0</td>\n",
       "      <td>0</td>\n",
       "      <td>T2</td>\n",
       "      <td>7.0</td>\n",
       "    </tr>\n",
       "    <tr>\n",
       "      <th>2</th>\n",
       "      <td>43333</td>\n",
       "      <td>FL</td>\n",
       "      <td>F</td>\n",
       "      <td>725.00</td>\n",
       "      <td>301</td>\n",
       "      <td>436.0</td>\n",
       "      <td>3</td>\n",
       "      <td>18837</td>\n",
       "      <td>11</td>\n",
       "      <td>17</td>\n",
       "      <td>340.0</td>\n",
       "      <td>361</td>\n",
       "      <td>4.111111</td>\n",
       "      <td>0</td>\n",
       "      <td>2501</td>\n",
       "      <td>C2</td>\n",
       "      <td>5.0</td>\n",
       "    </tr>\n",
       "    <tr>\n",
       "      <th>3</th>\n",
       "      <td>21885</td>\n",
       "      <td>NC</td>\n",
       "      <td>M</td>\n",
       "      <td>AAA1095</td>\n",
       "      <td>401</td>\n",
       "      <td>413.0</td>\n",
       "      <td>7</td>\n",
       "      <td>14014</td>\n",
       "      <td>1</td>\n",
       "      <td>74</td>\n",
       "      <td>407.0</td>\n",
       "      <td>399</td>\n",
       "      <td>27.277778</td>\n",
       "      <td>0</td>\n",
       "      <td>2208</td>\n",
       "      <td>T2</td>\n",
       "      <td>38.0</td>\n",
       "    </tr>\n",
       "    <tr>\n",
       "      <th>4</th>\n",
       "      <td>190108</td>\n",
       "      <td>FL</td>\n",
       "      <td>F</td>\n",
       "      <td>995.00</td>\n",
       "      <td>252</td>\n",
       "      <td>348.0</td>\n",
       "      <td>0</td>\n",
       "      <td>17991</td>\n",
       "      <td>5</td>\n",
       "      <td>6</td>\n",
       "      <td>280.0</td>\n",
       "      <td>316</td>\n",
       "      <td>6.000000</td>\n",
       "      <td>28</td>\n",
       "      <td>0</td>\n",
       "      <td>C2</td>\n",
       "      <td>5.0</td>\n",
       "    </tr>\n",
       "    <tr>\n",
       "      <th>...</th>\n",
       "      <td>...</td>\n",
       "      <td>...</td>\n",
       "      <td>...</td>\n",
       "      <td>...</td>\n",
       "      <td>...</td>\n",
       "      <td>...</td>\n",
       "      <td>...</td>\n",
       "      <td>...</td>\n",
       "      <td>...</td>\n",
       "      <td>...</td>\n",
       "      <td>...</td>\n",
       "      <td>...</td>\n",
       "      <td>...</td>\n",
       "      <td>...</td>\n",
       "      <td>...</td>\n",
       "      <td>...</td>\n",
       "      <td>...</td>\n",
       "    </tr>\n",
       "    <tr>\n",
       "      <th>1001</th>\n",
       "      <td>41537</td>\n",
       "      <td>FL</td>\n",
       "      <td>F</td>\n",
       "      <td>742</td>\n",
       "      <td>396</td>\n",
       "      <td>470.0</td>\n",
       "      <td>0</td>\n",
       "      <td>15356</td>\n",
       "      <td>7</td>\n",
       "      <td>37</td>\n",
       "      <td>424.0</td>\n",
       "      <td>450</td>\n",
       "      <td>14.285714</td>\n",
       "      <td>2</td>\n",
       "      <td>6101</td>\n",
       "      <td>S2</td>\n",
       "      <td>50.0</td>\n",
       "    </tr>\n",
       "    <tr>\n",
       "      <th>1002</th>\n",
       "      <td>4881</td>\n",
       "      <td>FL</td>\n",
       "      <td>M</td>\n",
       "      <td>599</td>\n",
       "      <td>100</td>\n",
       "      <td>423.0</td>\n",
       "      <td>4</td>\n",
       "      <td>11670</td>\n",
       "      <td>10</td>\n",
       "      <td>27</td>\n",
       "      <td>406.0</td>\n",
       "      <td>200</td>\n",
       "      <td>9.230769</td>\n",
       "      <td>28</td>\n",
       "      <td>7401</td>\n",
       "      <td>C1</td>\n",
       "      <td>10.0</td>\n",
       "    </tr>\n",
       "    <tr>\n",
       "      <th>1003</th>\n",
       "      <td>66358</td>\n",
       "      <td>ND</td>\n",
       "      <td>M</td>\n",
       "      <td>593</td>\n",
       "      <td>258</td>\n",
       "      <td>299.0</td>\n",
       "      <td>0</td>\n",
       "      <td>10186</td>\n",
       "      <td>1</td>\n",
       "      <td>70</td>\n",
       "      <td>298.0</td>\n",
       "      <td>274</td>\n",
       "      <td>5.266667</td>\n",
       "      <td>1</td>\n",
       "      <td>3301</td>\n",
       "      <td>S2</td>\n",
       "      <td>5.0</td>\n",
       "    </tr>\n",
       "    <tr>\n",
       "      <th>1004</th>\n",
       "      <td>2231</td>\n",
       "      <td>WI</td>\n",
       "      <td>male</td>\n",
       "      <td>564</td>\n",
       "      <td>217</td>\n",
       "      <td>397.0</td>\n",
       "      <td>0</td>\n",
       "      <td>12315</td>\n",
       "      <td>0</td>\n",
       "      <td>96</td>\n",
       "      <td>386.0</td>\n",
       "      <td>295</td>\n",
       "      <td>11.400000</td>\n",
       "      <td>1</td>\n",
       "      <td>7301</td>\n",
       "      <td>T2</td>\n",
       "      <td>14.0</td>\n",
       "    </tr>\n",
       "    <tr>\n",
       "      <th>1005</th>\n",
       "      <td>68534</td>\n",
       "      <td>MI</td>\n",
       "      <td>M</td>\n",
       "      <td>651</td>\n",
       "      <td>431</td>\n",
       "      <td>505.0</td>\n",
       "      <td>0</td>\n",
       "      <td>14845</td>\n",
       "      <td>7</td>\n",
       "      <td>77</td>\n",
       "      <td>451.0</td>\n",
       "      <td>455</td>\n",
       "      <td>7.428571</td>\n",
       "      <td>1</td>\n",
       "      <td>1709</td>\n",
       "      <td>S2</td>\n",
       "      <td>9.0</td>\n",
       "    </tr>\n",
       "  </tbody>\n",
       "</table>\n",
       "<p>4028 rows × 17 columns</p>\n",
       "</div>"
      ],
      "text/plain": [
       "          id state gender median_home_val  median_household_income  \\\n",
       "0      44060    FL      M          AAA896                      392   \n",
       "1      96093    IL      M          537.00                      365   \n",
       "2      43333    FL      F          725.00                      301   \n",
       "3      21885    NC      M         AAA1095                      401   \n",
       "4     190108    FL      F          995.00                      252   \n",
       "...      ...   ...    ...             ...                      ...   \n",
       "1001   41537    FL      F             742                      396   \n",
       "1002    4881    FL      M             599                      100   \n",
       "1003   66358    ND      M             593                      258   \n",
       "1004    2231    WI   male             564                      217   \n",
       "1005   68534    MI      M             651                      431   \n",
       "\n",
       "      avg_fam_income  hvp1 per_capita_income  pobc1  pobc2  med_fam_income  \\\n",
       "0              520.0     7             21975      6     16           430.0   \n",
       "1              473.0     0             19387      1     89           415.0   \n",
       "2              436.0     3             18837     11     17           340.0   \n",
       "3              413.0     7             14014      1     74           407.0   \n",
       "4              348.0     0             17991      5      6           280.0   \n",
       "...              ...   ...               ...    ...    ...             ...   \n",
       "1001           470.0     0             15356      7     37           424.0   \n",
       "1002           423.0     4             11670     10     27           406.0   \n",
       "1003           299.0     0             10186      1     70           298.0   \n",
       "1004           397.0     0             12315      0     96           386.0   \n",
       "1005           505.0     0             14845      7     77           451.0   \n",
       "\n",
       "      avg_household_income    avggift  tcode   dob domain  target_d  \n",
       "0                      466  28.000000      1  1901     C2     100.0  \n",
       "1                      410   5.666667      0     0     T2       7.0  \n",
       "2                      361   4.111111      0  2501     C2       5.0  \n",
       "3                      399  27.277778      0  2208     T2      38.0  \n",
       "4                      316   6.000000     28     0     C2       5.0  \n",
       "...                    ...        ...    ...   ...    ...       ...  \n",
       "1001                   450  14.285714      2  6101     S2      50.0  \n",
       "1002                   200   9.230769     28  7401     C1      10.0  \n",
       "1003                   274   5.266667      1  3301     S2       5.0  \n",
       "1004                   295  11.400000      1  7301     T2      14.0  \n",
       "1005                   455   7.428571      1  1709     S2       9.0  \n",
       "\n",
       "[4028 rows x 17 columns]"
      ]
     },
     "execution_count": 7,
     "metadata": {},
     "output_type": "execute_result"
    }
   ],
   "source": [
    "rename_columns(hk_df)\n"
   ]
  },
  {
   "cell_type": "markdown",
   "metadata": {
    "id": "1EeQNdq4xy-a"
   },
   "source": [
    "#### Deleting columns"
   ]
  },
  {
   "cell_type": "code",
   "execution_count": 8,
   "metadata": {},
   "outputs": [],
   "source": [
    "def drop_columns(hk_df) :\n",
    "    hk_df.drop(columns=[\"id\",\"tcode\",'pobc1',\"dob\"], inplace=True)\n",
    "    return hk_df"
   ]
  },
  {
   "cell_type": "code",
   "execution_count": 9,
   "metadata": {},
   "outputs": [
    {
     "data": {
      "text/html": [
       "<div>\n",
       "<style scoped>\n",
       "    .dataframe tbody tr th:only-of-type {\n",
       "        vertical-align: middle;\n",
       "    }\n",
       "\n",
       "    .dataframe tbody tr th {\n",
       "        vertical-align: top;\n",
       "    }\n",
       "\n",
       "    .dataframe thead th {\n",
       "        text-align: right;\n",
       "    }\n",
       "</style>\n",
       "<table border=\"1\" class=\"dataframe\">\n",
       "  <thead>\n",
       "    <tr style=\"text-align: right;\">\n",
       "      <th></th>\n",
       "      <th>state</th>\n",
       "      <th>gender</th>\n",
       "      <th>median_home_val</th>\n",
       "      <th>median_household_income</th>\n",
       "      <th>avg_fam_income</th>\n",
       "      <th>hvp1</th>\n",
       "      <th>per_capita_income</th>\n",
       "      <th>pobc2</th>\n",
       "      <th>med_fam_income</th>\n",
       "      <th>avg_household_income</th>\n",
       "      <th>avggift</th>\n",
       "      <th>domain</th>\n",
       "      <th>target_d</th>\n",
       "    </tr>\n",
       "  </thead>\n",
       "  <tbody>\n",
       "    <tr>\n",
       "      <th>0</th>\n",
       "      <td>FL</td>\n",
       "      <td>M</td>\n",
       "      <td>AAA896</td>\n",
       "      <td>392</td>\n",
       "      <td>520.0</td>\n",
       "      <td>7</td>\n",
       "      <td>21975</td>\n",
       "      <td>16</td>\n",
       "      <td>430.0</td>\n",
       "      <td>466</td>\n",
       "      <td>28.000000</td>\n",
       "      <td>C2</td>\n",
       "      <td>100.0</td>\n",
       "    </tr>\n",
       "    <tr>\n",
       "      <th>1</th>\n",
       "      <td>IL</td>\n",
       "      <td>M</td>\n",
       "      <td>537.00</td>\n",
       "      <td>365</td>\n",
       "      <td>473.0</td>\n",
       "      <td>0</td>\n",
       "      <td>19387</td>\n",
       "      <td>89</td>\n",
       "      <td>415.0</td>\n",
       "      <td>410</td>\n",
       "      <td>5.666667</td>\n",
       "      <td>T2</td>\n",
       "      <td>7.0</td>\n",
       "    </tr>\n",
       "    <tr>\n",
       "      <th>2</th>\n",
       "      <td>FL</td>\n",
       "      <td>F</td>\n",
       "      <td>725.00</td>\n",
       "      <td>301</td>\n",
       "      <td>436.0</td>\n",
       "      <td>3</td>\n",
       "      <td>18837</td>\n",
       "      <td>17</td>\n",
       "      <td>340.0</td>\n",
       "      <td>361</td>\n",
       "      <td>4.111111</td>\n",
       "      <td>C2</td>\n",
       "      <td>5.0</td>\n",
       "    </tr>\n",
       "    <tr>\n",
       "      <th>3</th>\n",
       "      <td>NC</td>\n",
       "      <td>M</td>\n",
       "      <td>AAA1095</td>\n",
       "      <td>401</td>\n",
       "      <td>413.0</td>\n",
       "      <td>7</td>\n",
       "      <td>14014</td>\n",
       "      <td>74</td>\n",
       "      <td>407.0</td>\n",
       "      <td>399</td>\n",
       "      <td>27.277778</td>\n",
       "      <td>T2</td>\n",
       "      <td>38.0</td>\n",
       "    </tr>\n",
       "    <tr>\n",
       "      <th>4</th>\n",
       "      <td>FL</td>\n",
       "      <td>F</td>\n",
       "      <td>995.00</td>\n",
       "      <td>252</td>\n",
       "      <td>348.0</td>\n",
       "      <td>0</td>\n",
       "      <td>17991</td>\n",
       "      <td>6</td>\n",
       "      <td>280.0</td>\n",
       "      <td>316</td>\n",
       "      <td>6.000000</td>\n",
       "      <td>C2</td>\n",
       "      <td>5.0</td>\n",
       "    </tr>\n",
       "    <tr>\n",
       "      <th>...</th>\n",
       "      <td>...</td>\n",
       "      <td>...</td>\n",
       "      <td>...</td>\n",
       "      <td>...</td>\n",
       "      <td>...</td>\n",
       "      <td>...</td>\n",
       "      <td>...</td>\n",
       "      <td>...</td>\n",
       "      <td>...</td>\n",
       "      <td>...</td>\n",
       "      <td>...</td>\n",
       "      <td>...</td>\n",
       "      <td>...</td>\n",
       "    </tr>\n",
       "    <tr>\n",
       "      <th>1001</th>\n",
       "      <td>FL</td>\n",
       "      <td>F</td>\n",
       "      <td>742</td>\n",
       "      <td>396</td>\n",
       "      <td>470.0</td>\n",
       "      <td>0</td>\n",
       "      <td>15356</td>\n",
       "      <td>37</td>\n",
       "      <td>424.0</td>\n",
       "      <td>450</td>\n",
       "      <td>14.285714</td>\n",
       "      <td>S2</td>\n",
       "      <td>50.0</td>\n",
       "    </tr>\n",
       "    <tr>\n",
       "      <th>1002</th>\n",
       "      <td>FL</td>\n",
       "      <td>M</td>\n",
       "      <td>599</td>\n",
       "      <td>100</td>\n",
       "      <td>423.0</td>\n",
       "      <td>4</td>\n",
       "      <td>11670</td>\n",
       "      <td>27</td>\n",
       "      <td>406.0</td>\n",
       "      <td>200</td>\n",
       "      <td>9.230769</td>\n",
       "      <td>C1</td>\n",
       "      <td>10.0</td>\n",
       "    </tr>\n",
       "    <tr>\n",
       "      <th>1003</th>\n",
       "      <td>ND</td>\n",
       "      <td>M</td>\n",
       "      <td>593</td>\n",
       "      <td>258</td>\n",
       "      <td>299.0</td>\n",
       "      <td>0</td>\n",
       "      <td>10186</td>\n",
       "      <td>70</td>\n",
       "      <td>298.0</td>\n",
       "      <td>274</td>\n",
       "      <td>5.266667</td>\n",
       "      <td>S2</td>\n",
       "      <td>5.0</td>\n",
       "    </tr>\n",
       "    <tr>\n",
       "      <th>1004</th>\n",
       "      <td>WI</td>\n",
       "      <td>male</td>\n",
       "      <td>564</td>\n",
       "      <td>217</td>\n",
       "      <td>397.0</td>\n",
       "      <td>0</td>\n",
       "      <td>12315</td>\n",
       "      <td>96</td>\n",
       "      <td>386.0</td>\n",
       "      <td>295</td>\n",
       "      <td>11.400000</td>\n",
       "      <td>T2</td>\n",
       "      <td>14.0</td>\n",
       "    </tr>\n",
       "    <tr>\n",
       "      <th>1005</th>\n",
       "      <td>MI</td>\n",
       "      <td>M</td>\n",
       "      <td>651</td>\n",
       "      <td>431</td>\n",
       "      <td>505.0</td>\n",
       "      <td>0</td>\n",
       "      <td>14845</td>\n",
       "      <td>77</td>\n",
       "      <td>451.0</td>\n",
       "      <td>455</td>\n",
       "      <td>7.428571</td>\n",
       "      <td>S2</td>\n",
       "      <td>9.0</td>\n",
       "    </tr>\n",
       "  </tbody>\n",
       "</table>\n",
       "<p>4028 rows × 13 columns</p>\n",
       "</div>"
      ],
      "text/plain": [
       "     state gender median_home_val  median_household_income  avg_fam_income  \\\n",
       "0       FL      M          AAA896                      392           520.0   \n",
       "1       IL      M          537.00                      365           473.0   \n",
       "2       FL      F          725.00                      301           436.0   \n",
       "3       NC      M         AAA1095                      401           413.0   \n",
       "4       FL      F          995.00                      252           348.0   \n",
       "...    ...    ...             ...                      ...             ...   \n",
       "1001    FL      F             742                      396           470.0   \n",
       "1002    FL      M             599                      100           423.0   \n",
       "1003    ND      M             593                      258           299.0   \n",
       "1004    WI   male             564                      217           397.0   \n",
       "1005    MI      M             651                      431           505.0   \n",
       "\n",
       "      hvp1 per_capita_income  pobc2  med_fam_income  avg_household_income  \\\n",
       "0        7             21975     16           430.0                   466   \n",
       "1        0             19387     89           415.0                   410   \n",
       "2        3             18837     17           340.0                   361   \n",
       "3        7             14014     74           407.0                   399   \n",
       "4        0             17991      6           280.0                   316   \n",
       "...    ...               ...    ...             ...                   ...   \n",
       "1001     0             15356     37           424.0                   450   \n",
       "1002     4             11670     27           406.0                   200   \n",
       "1003     0             10186     70           298.0                   274   \n",
       "1004     0             12315     96           386.0                   295   \n",
       "1005     0             14845     77           451.0                   455   \n",
       "\n",
       "        avggift domain  target_d  \n",
       "0     28.000000     C2     100.0  \n",
       "1      5.666667     T2       7.0  \n",
       "2      4.111111     C2       5.0  \n",
       "3     27.277778     T2      38.0  \n",
       "4      6.000000     C2       5.0  \n",
       "...         ...    ...       ...  \n",
       "1001  14.285714     S2      50.0  \n",
       "1002   9.230769     C1      10.0  \n",
       "1003   5.266667     S2       5.0  \n",
       "1004  11.400000     T2      14.0  \n",
       "1005   7.428571     S2       9.0  \n",
       "\n",
       "[4028 rows x 13 columns]"
      ]
     },
     "execution_count": 9,
     "metadata": {},
     "output_type": "execute_result"
    }
   ],
   "source": [
    "drop_columns(hk_df)"
   ]
  },
  {
   "cell_type": "code",
   "execution_count": 10,
   "metadata": {},
   "outputs": [
    {
     "data": {
      "text/html": [
       "<div>\n",
       "<style scoped>\n",
       "    .dataframe tbody tr th:only-of-type {\n",
       "        vertical-align: middle;\n",
       "    }\n",
       "\n",
       "    .dataframe tbody tr th {\n",
       "        vertical-align: top;\n",
       "    }\n",
       "\n",
       "    .dataframe thead th {\n",
       "        text-align: right;\n",
       "    }\n",
       "</style>\n",
       "<table border=\"1\" class=\"dataframe\">\n",
       "  <thead>\n",
       "    <tr style=\"text-align: right;\">\n",
       "      <th></th>\n",
       "      <th>state</th>\n",
       "      <th>gender</th>\n",
       "      <th>median_home_val</th>\n",
       "      <th>median_household_income</th>\n",
       "      <th>avg_fam_income</th>\n",
       "      <th>hvp1</th>\n",
       "      <th>per_capita_income</th>\n",
       "      <th>pobc2</th>\n",
       "      <th>med_fam_income</th>\n",
       "      <th>avg_household_income</th>\n",
       "      <th>avggift</th>\n",
       "      <th>domain</th>\n",
       "      <th>target_d</th>\n",
       "    </tr>\n",
       "  </thead>\n",
       "  <tbody>\n",
       "    <tr>\n",
       "      <th>0</th>\n",
       "      <td>FL</td>\n",
       "      <td>M</td>\n",
       "      <td>AAA896</td>\n",
       "      <td>392</td>\n",
       "      <td>520.0</td>\n",
       "      <td>7</td>\n",
       "      <td>21975</td>\n",
       "      <td>16</td>\n",
       "      <td>430.0</td>\n",
       "      <td>466</td>\n",
       "      <td>28.000000</td>\n",
       "      <td>C2</td>\n",
       "      <td>100.0</td>\n",
       "    </tr>\n",
       "    <tr>\n",
       "      <th>1</th>\n",
       "      <td>IL</td>\n",
       "      <td>M</td>\n",
       "      <td>537.00</td>\n",
       "      <td>365</td>\n",
       "      <td>473.0</td>\n",
       "      <td>0</td>\n",
       "      <td>19387</td>\n",
       "      <td>89</td>\n",
       "      <td>415.0</td>\n",
       "      <td>410</td>\n",
       "      <td>5.666667</td>\n",
       "      <td>T2</td>\n",
       "      <td>7.0</td>\n",
       "    </tr>\n",
       "    <tr>\n",
       "      <th>2</th>\n",
       "      <td>FL</td>\n",
       "      <td>F</td>\n",
       "      <td>725.00</td>\n",
       "      <td>301</td>\n",
       "      <td>436.0</td>\n",
       "      <td>3</td>\n",
       "      <td>18837</td>\n",
       "      <td>17</td>\n",
       "      <td>340.0</td>\n",
       "      <td>361</td>\n",
       "      <td>4.111111</td>\n",
       "      <td>C2</td>\n",
       "      <td>5.0</td>\n",
       "    </tr>\n",
       "    <tr>\n",
       "      <th>3</th>\n",
       "      <td>NC</td>\n",
       "      <td>M</td>\n",
       "      <td>AAA1095</td>\n",
       "      <td>401</td>\n",
       "      <td>413.0</td>\n",
       "      <td>7</td>\n",
       "      <td>14014</td>\n",
       "      <td>74</td>\n",
       "      <td>407.0</td>\n",
       "      <td>399</td>\n",
       "      <td>27.277778</td>\n",
       "      <td>T2</td>\n",
       "      <td>38.0</td>\n",
       "    </tr>\n",
       "    <tr>\n",
       "      <th>4</th>\n",
       "      <td>FL</td>\n",
       "      <td>F</td>\n",
       "      <td>995.00</td>\n",
       "      <td>252</td>\n",
       "      <td>348.0</td>\n",
       "      <td>0</td>\n",
       "      <td>17991</td>\n",
       "      <td>6</td>\n",
       "      <td>280.0</td>\n",
       "      <td>316</td>\n",
       "      <td>6.000000</td>\n",
       "      <td>C2</td>\n",
       "      <td>5.0</td>\n",
       "    </tr>\n",
       "    <tr>\n",
       "      <th>...</th>\n",
       "      <td>...</td>\n",
       "      <td>...</td>\n",
       "      <td>...</td>\n",
       "      <td>...</td>\n",
       "      <td>...</td>\n",
       "      <td>...</td>\n",
       "      <td>...</td>\n",
       "      <td>...</td>\n",
       "      <td>...</td>\n",
       "      <td>...</td>\n",
       "      <td>...</td>\n",
       "      <td>...</td>\n",
       "      <td>...</td>\n",
       "    </tr>\n",
       "    <tr>\n",
       "      <th>1001</th>\n",
       "      <td>FL</td>\n",
       "      <td>F</td>\n",
       "      <td>742</td>\n",
       "      <td>396</td>\n",
       "      <td>470.0</td>\n",
       "      <td>0</td>\n",
       "      <td>15356</td>\n",
       "      <td>37</td>\n",
       "      <td>424.0</td>\n",
       "      <td>450</td>\n",
       "      <td>14.285714</td>\n",
       "      <td>S2</td>\n",
       "      <td>50.0</td>\n",
       "    </tr>\n",
       "    <tr>\n",
       "      <th>1002</th>\n",
       "      <td>FL</td>\n",
       "      <td>M</td>\n",
       "      <td>599</td>\n",
       "      <td>100</td>\n",
       "      <td>423.0</td>\n",
       "      <td>4</td>\n",
       "      <td>11670</td>\n",
       "      <td>27</td>\n",
       "      <td>406.0</td>\n",
       "      <td>200</td>\n",
       "      <td>9.230769</td>\n",
       "      <td>C1</td>\n",
       "      <td>10.0</td>\n",
       "    </tr>\n",
       "    <tr>\n",
       "      <th>1003</th>\n",
       "      <td>ND</td>\n",
       "      <td>M</td>\n",
       "      <td>593</td>\n",
       "      <td>258</td>\n",
       "      <td>299.0</td>\n",
       "      <td>0</td>\n",
       "      <td>10186</td>\n",
       "      <td>70</td>\n",
       "      <td>298.0</td>\n",
       "      <td>274</td>\n",
       "      <td>5.266667</td>\n",
       "      <td>S2</td>\n",
       "      <td>5.0</td>\n",
       "    </tr>\n",
       "    <tr>\n",
       "      <th>1004</th>\n",
       "      <td>WI</td>\n",
       "      <td>male</td>\n",
       "      <td>564</td>\n",
       "      <td>217</td>\n",
       "      <td>397.0</td>\n",
       "      <td>0</td>\n",
       "      <td>12315</td>\n",
       "      <td>96</td>\n",
       "      <td>386.0</td>\n",
       "      <td>295</td>\n",
       "      <td>11.400000</td>\n",
       "      <td>T2</td>\n",
       "      <td>14.0</td>\n",
       "    </tr>\n",
       "    <tr>\n",
       "      <th>1005</th>\n",
       "      <td>MI</td>\n",
       "      <td>M</td>\n",
       "      <td>651</td>\n",
       "      <td>431</td>\n",
       "      <td>505.0</td>\n",
       "      <td>0</td>\n",
       "      <td>14845</td>\n",
       "      <td>77</td>\n",
       "      <td>451.0</td>\n",
       "      <td>455</td>\n",
       "      <td>7.428571</td>\n",
       "      <td>S2</td>\n",
       "      <td>9.0</td>\n",
       "    </tr>\n",
       "  </tbody>\n",
       "</table>\n",
       "<p>4028 rows × 13 columns</p>\n",
       "</div>"
      ],
      "text/plain": [
       "     state gender median_home_val  median_household_income  avg_fam_income  \\\n",
       "0       FL      M          AAA896                      392           520.0   \n",
       "1       IL      M          537.00                      365           473.0   \n",
       "2       FL      F          725.00                      301           436.0   \n",
       "3       NC      M         AAA1095                      401           413.0   \n",
       "4       FL      F          995.00                      252           348.0   \n",
       "...    ...    ...             ...                      ...             ...   \n",
       "1001    FL      F             742                      396           470.0   \n",
       "1002    FL      M             599                      100           423.0   \n",
       "1003    ND      M             593                      258           299.0   \n",
       "1004    WI   male             564                      217           397.0   \n",
       "1005    MI      M             651                      431           505.0   \n",
       "\n",
       "      hvp1 per_capita_income  pobc2  med_fam_income  avg_household_income  \\\n",
       "0        7             21975     16           430.0                   466   \n",
       "1        0             19387     89           415.0                   410   \n",
       "2        3             18837     17           340.0                   361   \n",
       "3        7             14014     74           407.0                   399   \n",
       "4        0             17991      6           280.0                   316   \n",
       "...    ...               ...    ...             ...                   ...   \n",
       "1001     0             15356     37           424.0                   450   \n",
       "1002     4             11670     27           406.0                   200   \n",
       "1003     0             10186     70           298.0                   274   \n",
       "1004     0             12315     96           386.0                   295   \n",
       "1005     0             14845     77           451.0                   455   \n",
       "\n",
       "        avggift domain  target_d  \n",
       "0     28.000000     C2     100.0  \n",
       "1      5.666667     T2       7.0  \n",
       "2      4.111111     C2       5.0  \n",
       "3     27.277778     T2      38.0  \n",
       "4      6.000000     C2       5.0  \n",
       "...         ...    ...       ...  \n",
       "1001  14.285714     S2      50.0  \n",
       "1002   9.230769     C1      10.0  \n",
       "1003   5.266667     S2       5.0  \n",
       "1004  11.400000     T2      14.0  \n",
       "1005   7.428571     S2       9.0  \n",
       "\n",
       "[4028 rows x 13 columns]"
      ]
     },
     "execution_count": 10,
     "metadata": {},
     "output_type": "execute_result"
    }
   ],
   "source": [
    "hk_df"
   ]
  },
  {
   "cell_type": "code",
   "execution_count": 11,
   "metadata": {},
   "outputs": [],
   "source": [
    "def clean_gender(hk_df):\n",
    "    ## do your magic about gender cleanfing \n",
    "    hk_df[\"gender\"]\n",
    "    return hk_df\n"
   ]
  },
  {
   "cell_type": "markdown",
   "metadata": {
    "id": "BF-PKzm6xy-a"
   },
   "source": [
    "#### Rearanging columns"
   ]
  },
  {
   "cell_type": "code",
   "execution_count": 12,
   "metadata": {
    "colab": {
     "base_uri": "https://localhost:8080/"
    },
    "executionInfo": {
     "elapsed": 345,
     "status": "ok",
     "timestamp": 1623068517916,
     "user": {
      "displayName": "Ignacio Soteras",
      "photoUrl": "",
      "userId": "02050793736257155229"
     },
     "user_tz": -120
    },
    "id": "S0V7bttxxy-a",
    "outputId": "3e08bd52-0719-429b-ab4a-194f80b3af17"
   },
   "outputs": [
    {
     "data": {
      "text/plain": [
       "['state',\n",
       " 'gender',\n",
       " 'median_home_val',\n",
       " 'median_household_income',\n",
       " 'avg_fam_income',\n",
       " 'hvp1',\n",
       " 'per_capita_income',\n",
       " 'pobc2',\n",
       " 'med_fam_income',\n",
       " 'avg_household_income',\n",
       " 'avggift',\n",
       " 'domain',\n",
       " 'target_d']"
      ]
     },
     "execution_count": 12,
     "metadata": {},
     "output_type": "execute_result"
    }
   ],
   "source": [
    "list(hk_df.columns)"
   ]
  },
  {
   "cell_type": "markdown",
   "metadata": {
    "id": "BxxE6hoGbuEk"
   },
   "source": [
    "Reordering columns is as simple as replace the dataframe with the new ordering of the columns."
   ]
  },
  {
   "cell_type": "code",
   "execution_count": 13,
   "metadata": {
    "colab": {
     "base_uri": "https://localhost:8080/",
     "height": 218
    },
    "executionInfo": {
     "elapsed": 406,
     "status": "ok",
     "timestamp": 1623068585180,
     "user": {
      "displayName": "Ignacio Soteras",
      "photoUrl": "",
      "userId": "02050793736257155229"
     },
     "user_tz": -120
    },
    "id": "ni4PVK0F9Lmo",
    "outputId": "e8723eae-e3b0-476b-bace-f6bc043fdcb7"
   },
   "outputs": [
    {
     "data": {
      "text/html": [
       "<div>\n",
       "<style scoped>\n",
       "    .dataframe tbody tr th:only-of-type {\n",
       "        vertical-align: middle;\n",
       "    }\n",
       "\n",
       "    .dataframe tbody tr th {\n",
       "        vertical-align: top;\n",
       "    }\n",
       "\n",
       "    .dataframe thead th {\n",
       "        text-align: right;\n",
       "    }\n",
       "</style>\n",
       "<table border=\"1\" class=\"dataframe\">\n",
       "  <thead>\n",
       "    <tr style=\"text-align: right;\">\n",
       "      <th></th>\n",
       "      <th>state</th>\n",
       "      <th>gender</th>\n",
       "      <th>median_home_val</th>\n",
       "      <th>avg_fam_income</th>\n",
       "      <th>avg_household_income</th>\n",
       "      <th>med_fam_income</th>\n",
       "      <th>median_household_income</th>\n",
       "      <th>hvp1</th>\n",
       "      <th>per_capita_income</th>\n",
       "      <th>pobc2</th>\n",
       "      <th>avggift</th>\n",
       "      <th>domain</th>\n",
       "      <th>target_d</th>\n",
       "    </tr>\n",
       "  </thead>\n",
       "  <tbody>\n",
       "    <tr>\n",
       "      <th>0</th>\n",
       "      <td>FL</td>\n",
       "      <td>M</td>\n",
       "      <td>AAA896</td>\n",
       "      <td>520.0</td>\n",
       "      <td>466</td>\n",
       "      <td>430.0</td>\n",
       "      <td>392</td>\n",
       "      <td>7</td>\n",
       "      <td>21975</td>\n",
       "      <td>16</td>\n",
       "      <td>28.000000</td>\n",
       "      <td>C2</td>\n",
       "      <td>100.0</td>\n",
       "    </tr>\n",
       "    <tr>\n",
       "      <th>1</th>\n",
       "      <td>IL</td>\n",
       "      <td>M</td>\n",
       "      <td>537.00</td>\n",
       "      <td>473.0</td>\n",
       "      <td>410</td>\n",
       "      <td>415.0</td>\n",
       "      <td>365</td>\n",
       "      <td>0</td>\n",
       "      <td>19387</td>\n",
       "      <td>89</td>\n",
       "      <td>5.666667</td>\n",
       "      <td>T2</td>\n",
       "      <td>7.0</td>\n",
       "    </tr>\n",
       "    <tr>\n",
       "      <th>2</th>\n",
       "      <td>FL</td>\n",
       "      <td>F</td>\n",
       "      <td>725.00</td>\n",
       "      <td>436.0</td>\n",
       "      <td>361</td>\n",
       "      <td>340.0</td>\n",
       "      <td>301</td>\n",
       "      <td>3</td>\n",
       "      <td>18837</td>\n",
       "      <td>17</td>\n",
       "      <td>4.111111</td>\n",
       "      <td>C2</td>\n",
       "      <td>5.0</td>\n",
       "    </tr>\n",
       "    <tr>\n",
       "      <th>3</th>\n",
       "      <td>NC</td>\n",
       "      <td>M</td>\n",
       "      <td>AAA1095</td>\n",
       "      <td>413.0</td>\n",
       "      <td>399</td>\n",
       "      <td>407.0</td>\n",
       "      <td>401</td>\n",
       "      <td>7</td>\n",
       "      <td>14014</td>\n",
       "      <td>74</td>\n",
       "      <td>27.277778</td>\n",
       "      <td>T2</td>\n",
       "      <td>38.0</td>\n",
       "    </tr>\n",
       "    <tr>\n",
       "      <th>4</th>\n",
       "      <td>FL</td>\n",
       "      <td>F</td>\n",
       "      <td>995.00</td>\n",
       "      <td>348.0</td>\n",
       "      <td>316</td>\n",
       "      <td>280.0</td>\n",
       "      <td>252</td>\n",
       "      <td>0</td>\n",
       "      <td>17991</td>\n",
       "      <td>6</td>\n",
       "      <td>6.000000</td>\n",
       "      <td>C2</td>\n",
       "      <td>5.0</td>\n",
       "    </tr>\n",
       "  </tbody>\n",
       "</table>\n",
       "</div>"
      ],
      "text/plain": [
       "  state gender median_home_val  avg_fam_income  avg_household_income  \\\n",
       "0    FL      M          AAA896           520.0                   466   \n",
       "1    IL      M          537.00           473.0                   410   \n",
       "2    FL      F          725.00           436.0                   361   \n",
       "3    NC      M         AAA1095           413.0                   399   \n",
       "4    FL      F          995.00           348.0                   316   \n",
       "\n",
       "   med_fam_income  median_household_income  hvp1 per_capita_income  pobc2  \\\n",
       "0           430.0                      392     7             21975     16   \n",
       "1           415.0                      365     0             19387     89   \n",
       "2           340.0                      301     3             18837     17   \n",
       "3           407.0                      401     7             14014     74   \n",
       "4           280.0                      252     0             17991      6   \n",
       "\n",
       "     avggift domain  target_d  \n",
       "0  28.000000     C2     100.0  \n",
       "1   5.666667     T2       7.0  \n",
       "2   4.111111     C2       5.0  \n",
       "3  27.277778     T2      38.0  \n",
       "4   6.000000     C2       5.0  "
      ]
     },
     "execution_count": 13,
     "metadata": {},
     "output_type": "execute_result"
    }
   ],
   "source": [
    "hk_df = hk_df[[\n",
    " 'state',\n",
    " \"gender\",\n",
    " 'median_home_val',\n",
    " 'avg_fam_income',\n",
    " 'avg_household_income',\n",
    " 'med_fam_income',\n",
    " 'median_household_income',\n",
    " 'hvp1',\n",
    " \"per_capita_income\",\n",
    " 'pobc2',\n",
    " 'avggift',\n",
    " 'domain',\n",
    " 'target_d']]\n",
    "\n",
    "hk_df.head()"
   ]
  },
  {
   "cell_type": "markdown",
   "metadata": {
    "id": "TbmmhEfixy-a"
   },
   "source": [
    "#### Indexing & subsetting"
   ]
  },
  {
   "cell_type": "markdown",
   "metadata": {
    "id": "ccY-XkfHxy-b"
   },
   "source": [
    "Let's see one example of a filter:\n",
    "\n",
    "select people who have \"M\" as their gender"
   ]
  },
  {
   "cell_type": "code",
   "execution_count": 14,
   "metadata": {},
   "outputs": [
    {
     "data": {
      "text/plain": [
       "array(['M', 'F', 'female', 'Male', nan, 'U', 'J', 'male', 'Female',\n",
       "       'feamale', 'A'], dtype=object)"
      ]
     },
     "execution_count": 14,
     "metadata": {},
     "output_type": "execute_result"
    }
   ],
   "source": [
    "hk_df.gender.unique()\n"
   ]
  },
  {
   "cell_type": "code",
   "execution_count": 15,
   "metadata": {},
   "outputs": [
    {
     "data": {
      "text/plain": [
       "count     3892\n",
       "unique      10\n",
       "top          F\n",
       "freq      1966\n",
       "Name: gender, dtype: object"
      ]
     },
     "execution_count": 15,
     "metadata": {},
     "output_type": "execute_result"
    }
   ],
   "source": [
    "hk_df.gender.describe()"
   ]
  },
  {
   "cell_type": "markdown",
   "metadata": {
    "id": "VnhzuoHnxy-b"
   },
   "source": [
    "We can use several filters but each condition or filter should be placed within parentheses.\n",
    "\n",
    "Select people who have either \"M\" or \"F\" as their gender\n",
    "\n",
    "& -> and\n",
    "| -> or"
   ]
  },
  {
   "cell_type": "code",
   "execution_count": 16,
   "metadata": {
    "colab": {
     "base_uri": "https://localhost:8080/",
     "height": 427
    },
    "executionInfo": {
     "elapsed": 364,
     "status": "ok",
     "timestamp": 1623068809164,
     "user": {
      "displayName": "Ignacio Soteras",
      "photoUrl": "",
      "userId": "02050793736257155229"
     },
     "user_tz": -120
    },
    "id": "UAU0S8Zm-cAA",
    "outputId": "afaaa5ed-6aaa-4de3-9b83-2df992283860"
   },
   "outputs": [
    {
     "data": {
      "text/html": [
       "<div>\n",
       "<style scoped>\n",
       "    .dataframe tbody tr th:only-of-type {\n",
       "        vertical-align: middle;\n",
       "    }\n",
       "\n",
       "    .dataframe tbody tr th {\n",
       "        vertical-align: top;\n",
       "    }\n",
       "\n",
       "    .dataframe thead th {\n",
       "        text-align: right;\n",
       "    }\n",
       "</style>\n",
       "<table border=\"1\" class=\"dataframe\">\n",
       "  <thead>\n",
       "    <tr style=\"text-align: right;\">\n",
       "      <th></th>\n",
       "      <th>state</th>\n",
       "      <th>gender</th>\n",
       "      <th>median_home_val</th>\n",
       "      <th>avg_fam_income</th>\n",
       "      <th>avg_household_income</th>\n",
       "      <th>med_fam_income</th>\n",
       "      <th>median_household_income</th>\n",
       "      <th>hvp1</th>\n",
       "      <th>per_capita_income</th>\n",
       "      <th>pobc2</th>\n",
       "      <th>avggift</th>\n",
       "      <th>domain</th>\n",
       "      <th>target_d</th>\n",
       "    </tr>\n",
       "  </thead>\n",
       "  <tbody>\n",
       "    <tr>\n",
       "      <th>0</th>\n",
       "      <td>FL</td>\n",
       "      <td>M</td>\n",
       "      <td>AAA896</td>\n",
       "      <td>520.0</td>\n",
       "      <td>466</td>\n",
       "      <td>430.0</td>\n",
       "      <td>392</td>\n",
       "      <td>7</td>\n",
       "      <td>21975</td>\n",
       "      <td>16</td>\n",
       "      <td>28.000000</td>\n",
       "      <td>C2</td>\n",
       "      <td>100.0</td>\n",
       "    </tr>\n",
       "    <tr>\n",
       "      <th>1</th>\n",
       "      <td>IL</td>\n",
       "      <td>M</td>\n",
       "      <td>537.00</td>\n",
       "      <td>473.0</td>\n",
       "      <td>410</td>\n",
       "      <td>415.0</td>\n",
       "      <td>365</td>\n",
       "      <td>0</td>\n",
       "      <td>19387</td>\n",
       "      <td>89</td>\n",
       "      <td>5.666667</td>\n",
       "      <td>T2</td>\n",
       "      <td>7.0</td>\n",
       "    </tr>\n",
       "    <tr>\n",
       "      <th>2</th>\n",
       "      <td>FL</td>\n",
       "      <td>F</td>\n",
       "      <td>725.00</td>\n",
       "      <td>436.0</td>\n",
       "      <td>361</td>\n",
       "      <td>340.0</td>\n",
       "      <td>301</td>\n",
       "      <td>3</td>\n",
       "      <td>18837</td>\n",
       "      <td>17</td>\n",
       "      <td>4.111111</td>\n",
       "      <td>C2</td>\n",
       "      <td>5.0</td>\n",
       "    </tr>\n",
       "    <tr>\n",
       "      <th>3</th>\n",
       "      <td>NC</td>\n",
       "      <td>M</td>\n",
       "      <td>AAA1095</td>\n",
       "      <td>413.0</td>\n",
       "      <td>399</td>\n",
       "      <td>407.0</td>\n",
       "      <td>401</td>\n",
       "      <td>7</td>\n",
       "      <td>14014</td>\n",
       "      <td>74</td>\n",
       "      <td>27.277778</td>\n",
       "      <td>T2</td>\n",
       "      <td>38.0</td>\n",
       "    </tr>\n",
       "    <tr>\n",
       "      <th>4</th>\n",
       "      <td>FL</td>\n",
       "      <td>F</td>\n",
       "      <td>995.00</td>\n",
       "      <td>348.0</td>\n",
       "      <td>316</td>\n",
       "      <td>280.0</td>\n",
       "      <td>252</td>\n",
       "      <td>0</td>\n",
       "      <td>17991</td>\n",
       "      <td>6</td>\n",
       "      <td>6.000000</td>\n",
       "      <td>C2</td>\n",
       "      <td>5.0</td>\n",
       "    </tr>\n",
       "    <tr>\n",
       "      <th>...</th>\n",
       "      <td>...</td>\n",
       "      <td>...</td>\n",
       "      <td>...</td>\n",
       "      <td>...</td>\n",
       "      <td>...</td>\n",
       "      <td>...</td>\n",
       "      <td>...</td>\n",
       "      <td>...</td>\n",
       "      <td>...</td>\n",
       "      <td>...</td>\n",
       "      <td>...</td>\n",
       "      <td>...</td>\n",
       "      <td>...</td>\n",
       "    </tr>\n",
       "    <tr>\n",
       "      <th>1000</th>\n",
       "      <td>MI</td>\n",
       "      <td>M</td>\n",
       "      <td>444</td>\n",
       "      <td>299.0</td>\n",
       "      <td>269</td>\n",
       "      <td>264.0</td>\n",
       "      <td>225</td>\n",
       "      <td>3</td>\n",
       "      <td>10088</td>\n",
       "      <td>86</td>\n",
       "      <td>17.142857</td>\n",
       "      <td>R2</td>\n",
       "      <td>25.0</td>\n",
       "    </tr>\n",
       "    <tr>\n",
       "      <th>1001</th>\n",
       "      <td>FL</td>\n",
       "      <td>F</td>\n",
       "      <td>742</td>\n",
       "      <td>470.0</td>\n",
       "      <td>450</td>\n",
       "      <td>424.0</td>\n",
       "      <td>396</td>\n",
       "      <td>0</td>\n",
       "      <td>15356</td>\n",
       "      <td>37</td>\n",
       "      <td>14.285714</td>\n",
       "      <td>S2</td>\n",
       "      <td>50.0</td>\n",
       "    </tr>\n",
       "    <tr>\n",
       "      <th>1002</th>\n",
       "      <td>FL</td>\n",
       "      <td>M</td>\n",
       "      <td>599</td>\n",
       "      <td>423.0</td>\n",
       "      <td>200</td>\n",
       "      <td>406.0</td>\n",
       "      <td>100</td>\n",
       "      <td>4</td>\n",
       "      <td>11670</td>\n",
       "      <td>27</td>\n",
       "      <td>9.230769</td>\n",
       "      <td>C1</td>\n",
       "      <td>10.0</td>\n",
       "    </tr>\n",
       "    <tr>\n",
       "      <th>1003</th>\n",
       "      <td>ND</td>\n",
       "      <td>M</td>\n",
       "      <td>593</td>\n",
       "      <td>299.0</td>\n",
       "      <td>274</td>\n",
       "      <td>298.0</td>\n",
       "      <td>258</td>\n",
       "      <td>0</td>\n",
       "      <td>10186</td>\n",
       "      <td>70</td>\n",
       "      <td>5.266667</td>\n",
       "      <td>S2</td>\n",
       "      <td>5.0</td>\n",
       "    </tr>\n",
       "    <tr>\n",
       "      <th>1005</th>\n",
       "      <td>MI</td>\n",
       "      <td>M</td>\n",
       "      <td>651</td>\n",
       "      <td>505.0</td>\n",
       "      <td>455</td>\n",
       "      <td>451.0</td>\n",
       "      <td>431</td>\n",
       "      <td>0</td>\n",
       "      <td>14845</td>\n",
       "      <td>77</td>\n",
       "      <td>7.428571</td>\n",
       "      <td>S2</td>\n",
       "      <td>9.0</td>\n",
       "    </tr>\n",
       "  </tbody>\n",
       "</table>\n",
       "<p>3440 rows × 13 columns</p>\n",
       "</div>"
      ],
      "text/plain": [
       "     state gender median_home_val  avg_fam_income  avg_household_income  \\\n",
       "0       FL      M          AAA896           520.0                   466   \n",
       "1       IL      M          537.00           473.0                   410   \n",
       "2       FL      F          725.00           436.0                   361   \n",
       "3       NC      M         AAA1095           413.0                   399   \n",
       "4       FL      F          995.00           348.0                   316   \n",
       "...    ...    ...             ...             ...                   ...   \n",
       "1000    MI      M             444           299.0                   269   \n",
       "1001    FL      F             742           470.0                   450   \n",
       "1002    FL      M             599           423.0                   200   \n",
       "1003    ND      M             593           299.0                   274   \n",
       "1005    MI      M             651           505.0                   455   \n",
       "\n",
       "      med_fam_income  median_household_income  hvp1 per_capita_income  pobc2  \\\n",
       "0              430.0                      392     7             21975     16   \n",
       "1              415.0                      365     0             19387     89   \n",
       "2              340.0                      301     3             18837     17   \n",
       "3              407.0                      401     7             14014     74   \n",
       "4              280.0                      252     0             17991      6   \n",
       "...              ...                      ...   ...               ...    ...   \n",
       "1000           264.0                      225     3             10088     86   \n",
       "1001           424.0                      396     0             15356     37   \n",
       "1002           406.0                      100     4             11670     27   \n",
       "1003           298.0                      258     0             10186     70   \n",
       "1005           451.0                      431     0             14845     77   \n",
       "\n",
       "        avggift domain  target_d  \n",
       "0     28.000000     C2     100.0  \n",
       "1      5.666667     T2       7.0  \n",
       "2      4.111111     C2       5.0  \n",
       "3     27.277778     T2      38.0  \n",
       "4      6.000000     C2       5.0  \n",
       "...         ...    ...       ...  \n",
       "1000  17.142857     R2      25.0  \n",
       "1001  14.285714     S2      50.0  \n",
       "1002   9.230769     C1      10.0  \n",
       "1003   5.266667     S2       5.0  \n",
       "1005   7.428571     S2       9.0  \n",
       "\n",
       "[3440 rows x 13 columns]"
      ]
     },
     "execution_count": 16,
     "metadata": {},
     "output_type": "execute_result"
    }
   ],
   "source": [
    "hk_df[(hk_df['gender'] == \"M\") | (hk_df['gender'] == \"F\")] # & -> and, | -> or"
   ]
  },
  {
   "cell_type": "code",
   "execution_count": 17,
   "metadata": {
    "colab": {
     "base_uri": "https://localhost:8080/",
     "height": 427
    },
    "executionInfo": {
     "elapsed": 374,
     "status": "ok",
     "timestamp": 1623068887187,
     "user": {
      "displayName": "Ignacio Soteras",
      "photoUrl": "",
      "userId": "02050793736257155229"
     },
     "user_tz": -120
    },
    "id": "2kQ1i6fzxy-b",
    "outputId": "96601532-787d-4969-f35c-d8db2ba3b6c9"
   },
   "outputs": [
    {
     "data": {
      "text/html": [
       "<div>\n",
       "<style scoped>\n",
       "    .dataframe tbody tr th:only-of-type {\n",
       "        vertical-align: middle;\n",
       "    }\n",
       "\n",
       "    .dataframe tbody tr th {\n",
       "        vertical-align: top;\n",
       "    }\n",
       "\n",
       "    .dataframe thead th {\n",
       "        text-align: right;\n",
       "    }\n",
       "</style>\n",
       "<table border=\"1\" class=\"dataframe\">\n",
       "  <thead>\n",
       "    <tr style=\"text-align: right;\">\n",
       "      <th></th>\n",
       "      <th>state</th>\n",
       "      <th>gender</th>\n",
       "      <th>median_home_val</th>\n",
       "      <th>avg_fam_income</th>\n",
       "      <th>avg_household_income</th>\n",
       "      <th>med_fam_income</th>\n",
       "      <th>median_household_income</th>\n",
       "      <th>hvp1</th>\n",
       "      <th>per_capita_income</th>\n",
       "      <th>pobc2</th>\n",
       "      <th>avggift</th>\n",
       "      <th>domain</th>\n",
       "      <th>target_d</th>\n",
       "    </tr>\n",
       "  </thead>\n",
       "  <tbody>\n",
       "    <tr>\n",
       "      <th>0</th>\n",
       "      <td>FL</td>\n",
       "      <td>M</td>\n",
       "      <td>AAA896</td>\n",
       "      <td>520.0</td>\n",
       "      <td>466</td>\n",
       "      <td>430.0</td>\n",
       "      <td>392</td>\n",
       "      <td>7</td>\n",
       "      <td>21975</td>\n",
       "      <td>16</td>\n",
       "      <td>28.000000</td>\n",
       "      <td>C2</td>\n",
       "      <td>100.0</td>\n",
       "    </tr>\n",
       "    <tr>\n",
       "      <th>1</th>\n",
       "      <td>IL</td>\n",
       "      <td>M</td>\n",
       "      <td>537.00</td>\n",
       "      <td>473.0</td>\n",
       "      <td>410</td>\n",
       "      <td>415.0</td>\n",
       "      <td>365</td>\n",
       "      <td>0</td>\n",
       "      <td>19387</td>\n",
       "      <td>89</td>\n",
       "      <td>5.666667</td>\n",
       "      <td>T2</td>\n",
       "      <td>7.0</td>\n",
       "    </tr>\n",
       "    <tr>\n",
       "      <th>2</th>\n",
       "      <td>FL</td>\n",
       "      <td>F</td>\n",
       "      <td>725.00</td>\n",
       "      <td>436.0</td>\n",
       "      <td>361</td>\n",
       "      <td>340.0</td>\n",
       "      <td>301</td>\n",
       "      <td>3</td>\n",
       "      <td>18837</td>\n",
       "      <td>17</td>\n",
       "      <td>4.111111</td>\n",
       "      <td>C2</td>\n",
       "      <td>5.0</td>\n",
       "    </tr>\n",
       "    <tr>\n",
       "      <th>3</th>\n",
       "      <td>NC</td>\n",
       "      <td>M</td>\n",
       "      <td>AAA1095</td>\n",
       "      <td>413.0</td>\n",
       "      <td>399</td>\n",
       "      <td>407.0</td>\n",
       "      <td>401</td>\n",
       "      <td>7</td>\n",
       "      <td>14014</td>\n",
       "      <td>74</td>\n",
       "      <td>27.277778</td>\n",
       "      <td>T2</td>\n",
       "      <td>38.0</td>\n",
       "    </tr>\n",
       "    <tr>\n",
       "      <th>4</th>\n",
       "      <td>FL</td>\n",
       "      <td>F</td>\n",
       "      <td>995.00</td>\n",
       "      <td>348.0</td>\n",
       "      <td>316</td>\n",
       "      <td>280.0</td>\n",
       "      <td>252</td>\n",
       "      <td>0</td>\n",
       "      <td>17991</td>\n",
       "      <td>6</td>\n",
       "      <td>6.000000</td>\n",
       "      <td>C2</td>\n",
       "      <td>5.0</td>\n",
       "    </tr>\n",
       "    <tr>\n",
       "      <th>...</th>\n",
       "      <td>...</td>\n",
       "      <td>...</td>\n",
       "      <td>...</td>\n",
       "      <td>...</td>\n",
       "      <td>...</td>\n",
       "      <td>...</td>\n",
       "      <td>...</td>\n",
       "      <td>...</td>\n",
       "      <td>...</td>\n",
       "      <td>...</td>\n",
       "      <td>...</td>\n",
       "      <td>...</td>\n",
       "      <td>...</td>\n",
       "    </tr>\n",
       "    <tr>\n",
       "      <th>1000</th>\n",
       "      <td>MI</td>\n",
       "      <td>M</td>\n",
       "      <td>444</td>\n",
       "      <td>299.0</td>\n",
       "      <td>269</td>\n",
       "      <td>264.0</td>\n",
       "      <td>225</td>\n",
       "      <td>3</td>\n",
       "      <td>10088</td>\n",
       "      <td>86</td>\n",
       "      <td>17.142857</td>\n",
       "      <td>R2</td>\n",
       "      <td>25.0</td>\n",
       "    </tr>\n",
       "    <tr>\n",
       "      <th>1001</th>\n",
       "      <td>FL</td>\n",
       "      <td>F</td>\n",
       "      <td>742</td>\n",
       "      <td>470.0</td>\n",
       "      <td>450</td>\n",
       "      <td>424.0</td>\n",
       "      <td>396</td>\n",
       "      <td>0</td>\n",
       "      <td>15356</td>\n",
       "      <td>37</td>\n",
       "      <td>14.285714</td>\n",
       "      <td>S2</td>\n",
       "      <td>50.0</td>\n",
       "    </tr>\n",
       "    <tr>\n",
       "      <th>1002</th>\n",
       "      <td>FL</td>\n",
       "      <td>M</td>\n",
       "      <td>599</td>\n",
       "      <td>423.0</td>\n",
       "      <td>200</td>\n",
       "      <td>406.0</td>\n",
       "      <td>100</td>\n",
       "      <td>4</td>\n",
       "      <td>11670</td>\n",
       "      <td>27</td>\n",
       "      <td>9.230769</td>\n",
       "      <td>C1</td>\n",
       "      <td>10.0</td>\n",
       "    </tr>\n",
       "    <tr>\n",
       "      <th>1003</th>\n",
       "      <td>ND</td>\n",
       "      <td>M</td>\n",
       "      <td>593</td>\n",
       "      <td>299.0</td>\n",
       "      <td>274</td>\n",
       "      <td>298.0</td>\n",
       "      <td>258</td>\n",
       "      <td>0</td>\n",
       "      <td>10186</td>\n",
       "      <td>70</td>\n",
       "      <td>5.266667</td>\n",
       "      <td>S2</td>\n",
       "      <td>5.0</td>\n",
       "    </tr>\n",
       "    <tr>\n",
       "      <th>1005</th>\n",
       "      <td>MI</td>\n",
       "      <td>M</td>\n",
       "      <td>651</td>\n",
       "      <td>505.0</td>\n",
       "      <td>455</td>\n",
       "      <td>451.0</td>\n",
       "      <td>431</td>\n",
       "      <td>0</td>\n",
       "      <td>14845</td>\n",
       "      <td>77</td>\n",
       "      <td>7.428571</td>\n",
       "      <td>S2</td>\n",
       "      <td>9.0</td>\n",
       "    </tr>\n",
       "  </tbody>\n",
       "</table>\n",
       "<p>3440 rows × 13 columns</p>\n",
       "</div>"
      ],
      "text/plain": [
       "     state gender median_home_val  avg_fam_income  avg_household_income  \\\n",
       "0       FL      M          AAA896           520.0                   466   \n",
       "1       IL      M          537.00           473.0                   410   \n",
       "2       FL      F          725.00           436.0                   361   \n",
       "3       NC      M         AAA1095           413.0                   399   \n",
       "4       FL      F          995.00           348.0                   316   \n",
       "...    ...    ...             ...             ...                   ...   \n",
       "1000    MI      M             444           299.0                   269   \n",
       "1001    FL      F             742           470.0                   450   \n",
       "1002    FL      M             599           423.0                   200   \n",
       "1003    ND      M             593           299.0                   274   \n",
       "1005    MI      M             651           505.0                   455   \n",
       "\n",
       "      med_fam_income  median_household_income  hvp1 per_capita_income  pobc2  \\\n",
       "0              430.0                      392     7             21975     16   \n",
       "1              415.0                      365     0             19387     89   \n",
       "2              340.0                      301     3             18837     17   \n",
       "3              407.0                      401     7             14014     74   \n",
       "4              280.0                      252     0             17991      6   \n",
       "...              ...                      ...   ...               ...    ...   \n",
       "1000           264.0                      225     3             10088     86   \n",
       "1001           424.0                      396     0             15356     37   \n",
       "1002           406.0                      100     4             11670     27   \n",
       "1003           298.0                      258     0             10186     70   \n",
       "1005           451.0                      431     0             14845     77   \n",
       "\n",
       "        avggift domain  target_d  \n",
       "0     28.000000     C2     100.0  \n",
       "1      5.666667     T2       7.0  \n",
       "2      4.111111     C2       5.0  \n",
       "3     27.277778     T2      38.0  \n",
       "4      6.000000     C2       5.0  \n",
       "...         ...    ...       ...  \n",
       "1000  17.142857     R2      25.0  \n",
       "1001  14.285714     S2      50.0  \n",
       "1002   9.230769     C1      10.0  \n",
       "1003   5.266667     S2       5.0  \n",
       "1005   7.428571     S2       9.0  \n",
       "\n",
       "[3440 rows x 13 columns]"
      ]
     },
     "execution_count": 17,
     "metadata": {},
     "output_type": "execute_result"
    }
   ],
   "source": [
    "hk_df[(hk_df['gender'] == \"M\") | (hk_df['gender'] == \"F\")]\n",
    "#hk_df[np.where(hk_df['gender'].isin([\"M\",\"F\"])) == True]"
   ]
  },
  {
   "cell_type": "markdown",
   "metadata": {
    "id": "6qqw1-hlxy-b"
   },
   "source": [
    "Another example:\n",
    "\n",
    "Select people who have for which 'target_d' > 15:"
   ]
  },
  {
   "cell_type": "code",
   "execution_count": 18,
   "metadata": {
    "colab": {
     "base_uri": "https://localhost:8080/",
     "height": 427
    },
    "executionInfo": {
     "elapsed": 372,
     "status": "ok",
     "timestamp": 1623068905790,
     "user": {
      "displayName": "Ignacio Soteras",
      "photoUrl": "",
      "userId": "02050793736257155229"
     },
     "user_tz": -120
    },
    "id": "GHjASFejxy-b",
    "outputId": "188e0e0b-e2d5-4a27-b8d7-817042694437"
   },
   "outputs": [
    {
     "data": {
      "text/html": [
       "<div>\n",
       "<style scoped>\n",
       "    .dataframe tbody tr th:only-of-type {\n",
       "        vertical-align: middle;\n",
       "    }\n",
       "\n",
       "    .dataframe tbody tr th {\n",
       "        vertical-align: top;\n",
       "    }\n",
       "\n",
       "    .dataframe thead th {\n",
       "        text-align: right;\n",
       "    }\n",
       "</style>\n",
       "<table border=\"1\" class=\"dataframe\">\n",
       "  <thead>\n",
       "    <tr style=\"text-align: right;\">\n",
       "      <th></th>\n",
       "      <th>state</th>\n",
       "      <th>gender</th>\n",
       "      <th>median_home_val</th>\n",
       "      <th>avg_fam_income</th>\n",
       "      <th>avg_household_income</th>\n",
       "      <th>med_fam_income</th>\n",
       "      <th>median_household_income</th>\n",
       "      <th>hvp1</th>\n",
       "      <th>per_capita_income</th>\n",
       "      <th>pobc2</th>\n",
       "      <th>avggift</th>\n",
       "      <th>domain</th>\n",
       "      <th>target_d</th>\n",
       "    </tr>\n",
       "  </thead>\n",
       "  <tbody>\n",
       "    <tr>\n",
       "      <th>0</th>\n",
       "      <td>FL</td>\n",
       "      <td>M</td>\n",
       "      <td>AAA896</td>\n",
       "      <td>520.0</td>\n",
       "      <td>466</td>\n",
       "      <td>430.0</td>\n",
       "      <td>392</td>\n",
       "      <td>7</td>\n",
       "      <td>21975</td>\n",
       "      <td>16</td>\n",
       "      <td>28.000000</td>\n",
       "      <td>C2</td>\n",
       "      <td>100.0</td>\n",
       "    </tr>\n",
       "    <tr>\n",
       "      <th>3</th>\n",
       "      <td>NC</td>\n",
       "      <td>M</td>\n",
       "      <td>AAA1095</td>\n",
       "      <td>413.0</td>\n",
       "      <td>399</td>\n",
       "      <td>407.0</td>\n",
       "      <td>401</td>\n",
       "      <td>7</td>\n",
       "      <td>14014</td>\n",
       "      <td>74</td>\n",
       "      <td>27.277778</td>\n",
       "      <td>T2</td>\n",
       "      <td>38.0</td>\n",
       "    </tr>\n",
       "    <tr>\n",
       "      <th>5</th>\n",
       "      <td>IL</td>\n",
       "      <td>M</td>\n",
       "      <td>764.00</td>\n",
       "      <td>501.0</td>\n",
       "      <td>480</td>\n",
       "      <td>477.0</td>\n",
       "      <td>457</td>\n",
       "      <td>1</td>\n",
       "      <td>16022</td>\n",
       "      <td>75</td>\n",
       "      <td>25.571429</td>\n",
       "      <td>S2</td>\n",
       "      <td>30.0</td>\n",
       "    </tr>\n",
       "    <tr>\n",
       "      <th>16</th>\n",
       "      <td>FL</td>\n",
       "      <td>F</td>\n",
       "      <td>1513</td>\n",
       "      <td>702.0</td>\n",
       "      <td>615</td>\n",
       "      <td>599.0</td>\n",
       "      <td>521</td>\n",
       "      <td>31</td>\n",
       "      <td>28124</td>\n",
       "      <td>24</td>\n",
       "      <td>18.500000</td>\n",
       "      <td>T1</td>\n",
       "      <td>28.0</td>\n",
       "    </tr>\n",
       "    <tr>\n",
       "      <th>24</th>\n",
       "      <td>MT</td>\n",
       "      <td>M</td>\n",
       "      <td>717</td>\n",
       "      <td>432.0</td>\n",
       "      <td>349</td>\n",
       "      <td>458.0</td>\n",
       "      <td>302</td>\n",
       "      <td>1</td>\n",
       "      <td>15614</td>\n",
       "      <td>53</td>\n",
       "      <td>9.700000</td>\n",
       "      <td>C1</td>\n",
       "      <td>25.0</td>\n",
       "    </tr>\n",
       "    <tr>\n",
       "      <th>...</th>\n",
       "      <td>...</td>\n",
       "      <td>...</td>\n",
       "      <td>...</td>\n",
       "      <td>...</td>\n",
       "      <td>...</td>\n",
       "      <td>...</td>\n",
       "      <td>...</td>\n",
       "      <td>...</td>\n",
       "      <td>...</td>\n",
       "      <td>...</td>\n",
       "      <td>...</td>\n",
       "      <td>...</td>\n",
       "      <td>...</td>\n",
       "    </tr>\n",
       "    <tr>\n",
       "      <th>997</th>\n",
       "      <td>FL</td>\n",
       "      <td>M</td>\n",
       "      <td>595</td>\n",
       "      <td>274.0</td>\n",
       "      <td>262</td>\n",
       "      <td>263.0</td>\n",
       "      <td>252</td>\n",
       "      <td>0</td>\n",
       "      <td>11132</td>\n",
       "      <td>11</td>\n",
       "      <td>14.692308</td>\n",
       "      <td>T2</td>\n",
       "      <td>20.0</td>\n",
       "    </tr>\n",
       "    <tr>\n",
       "      <th>998</th>\n",
       "      <td>CA</td>\n",
       "      <td>F</td>\n",
       "      <td>2707</td>\n",
       "      <td>537.0</td>\n",
       "      <td>538</td>\n",
       "      <td>504.0</td>\n",
       "      <td>507</td>\n",
       "      <td>80</td>\n",
       "      <td>16165</td>\n",
       "      <td>54</td>\n",
       "      <td>12.117647</td>\n",
       "      <td>U1</td>\n",
       "      <td>22.0</td>\n",
       "    </tr>\n",
       "    <tr>\n",
       "      <th>999</th>\n",
       "      <td>CA</td>\n",
       "      <td>M</td>\n",
       "      <td>2666</td>\n",
       "      <td>653.0</td>\n",
       "      <td>612</td>\n",
       "      <td>609.0</td>\n",
       "      <td>535</td>\n",
       "      <td>63</td>\n",
       "      <td>24745</td>\n",
       "      <td>45</td>\n",
       "      <td>12.333333</td>\n",
       "      <td>S1</td>\n",
       "      <td>21.0</td>\n",
       "    </tr>\n",
       "    <tr>\n",
       "      <th>1000</th>\n",
       "      <td>MI</td>\n",
       "      <td>M</td>\n",
       "      <td>444</td>\n",
       "      <td>299.0</td>\n",
       "      <td>269</td>\n",
       "      <td>264.0</td>\n",
       "      <td>225</td>\n",
       "      <td>3</td>\n",
       "      <td>10088</td>\n",
       "      <td>86</td>\n",
       "      <td>17.142857</td>\n",
       "      <td>R2</td>\n",
       "      <td>25.0</td>\n",
       "    </tr>\n",
       "    <tr>\n",
       "      <th>1001</th>\n",
       "      <td>FL</td>\n",
       "      <td>F</td>\n",
       "      <td>742</td>\n",
       "      <td>470.0</td>\n",
       "      <td>450</td>\n",
       "      <td>424.0</td>\n",
       "      <td>396</td>\n",
       "      <td>0</td>\n",
       "      <td>15356</td>\n",
       "      <td>37</td>\n",
       "      <td>14.285714</td>\n",
       "      <td>S2</td>\n",
       "      <td>50.0</td>\n",
       "    </tr>\n",
       "  </tbody>\n",
       "</table>\n",
       "<p>1446 rows × 13 columns</p>\n",
       "</div>"
      ],
      "text/plain": [
       "     state gender median_home_val  avg_fam_income  avg_household_income  \\\n",
       "0       FL      M          AAA896           520.0                   466   \n",
       "3       NC      M         AAA1095           413.0                   399   \n",
       "5       IL      M          764.00           501.0                   480   \n",
       "16      FL      F            1513           702.0                   615   \n",
       "24      MT      M             717           432.0                   349   \n",
       "...    ...    ...             ...             ...                   ...   \n",
       "997     FL      M             595           274.0                   262   \n",
       "998     CA      F            2707           537.0                   538   \n",
       "999     CA      M            2666           653.0                   612   \n",
       "1000    MI      M             444           299.0                   269   \n",
       "1001    FL      F             742           470.0                   450   \n",
       "\n",
       "      med_fam_income  median_household_income  hvp1 per_capita_income  pobc2  \\\n",
       "0              430.0                      392     7             21975     16   \n",
       "3              407.0                      401     7             14014     74   \n",
       "5              477.0                      457     1             16022     75   \n",
       "16             599.0                      521    31             28124     24   \n",
       "24             458.0                      302     1             15614     53   \n",
       "...              ...                      ...   ...               ...    ...   \n",
       "997            263.0                      252     0             11132     11   \n",
       "998            504.0                      507    80             16165     54   \n",
       "999            609.0                      535    63             24745     45   \n",
       "1000           264.0                      225     3             10088     86   \n",
       "1001           424.0                      396     0             15356     37   \n",
       "\n",
       "        avggift domain  target_d  \n",
       "0     28.000000     C2     100.0  \n",
       "3     27.277778     T2      38.0  \n",
       "5     25.571429     S2      30.0  \n",
       "16    18.500000     T1      28.0  \n",
       "24     9.700000     C1      25.0  \n",
       "...         ...    ...       ...  \n",
       "997   14.692308     T2      20.0  \n",
       "998   12.117647     U1      22.0  \n",
       "999   12.333333     S1      21.0  \n",
       "1000  17.142857     R2      25.0  \n",
       "1001  14.285714     S2      50.0  \n",
       "\n",
       "[1446 rows x 13 columns]"
      ]
     },
     "execution_count": 18,
     "metadata": {},
     "output_type": "execute_result"
    }
   ],
   "source": [
    "hk_df[hk_df['target_d'] > 15]"
   ]
  },
  {
   "cell_type": "markdown",
   "metadata": {
    "id": "7CiaAhRaxy-b"
   },
   "source": [
    "Select people from Florida (\"FL\")"
   ]
  },
  {
   "cell_type": "code",
   "execution_count": 19,
   "metadata": {
    "colab": {
     "base_uri": "https://localhost:8080/",
     "height": 368
    },
    "executionInfo": {
     "elapsed": 697,
     "status": "ok",
     "timestamp": 1623068991967,
     "user": {
      "displayName": "Ignacio Soteras",
      "photoUrl": "",
      "userId": "02050793736257155229"
     },
     "user_tz": -120
    },
    "id": "vZ4fWF56xy-b",
    "outputId": "c5533f9a-1b7f-4b63-ea31-754c04748125"
   },
   "outputs": [
    {
     "data": {
      "text/html": [
       "<div>\n",
       "<style scoped>\n",
       "    .dataframe tbody tr th:only-of-type {\n",
       "        vertical-align: middle;\n",
       "    }\n",
       "\n",
       "    .dataframe tbody tr th {\n",
       "        vertical-align: top;\n",
       "    }\n",
       "\n",
       "    .dataframe thead th {\n",
       "        text-align: right;\n",
       "    }\n",
       "</style>\n",
       "<table border=\"1\" class=\"dataframe\">\n",
       "  <thead>\n",
       "    <tr style=\"text-align: right;\">\n",
       "      <th></th>\n",
       "      <th>state</th>\n",
       "      <th>gender</th>\n",
       "      <th>median_home_val</th>\n",
       "      <th>avg_fam_income</th>\n",
       "      <th>avg_household_income</th>\n",
       "      <th>med_fam_income</th>\n",
       "      <th>median_household_income</th>\n",
       "      <th>hvp1</th>\n",
       "      <th>per_capita_income</th>\n",
       "      <th>pobc2</th>\n",
       "      <th>avggift</th>\n",
       "      <th>domain</th>\n",
       "      <th>target_d</th>\n",
       "    </tr>\n",
       "  </thead>\n",
       "  <tbody>\n",
       "    <tr>\n",
       "      <th>0</th>\n",
       "      <td>FL</td>\n",
       "      <td>M</td>\n",
       "      <td>AAA896</td>\n",
       "      <td>520.0</td>\n",
       "      <td>466</td>\n",
       "      <td>430.0</td>\n",
       "      <td>392</td>\n",
       "      <td>7</td>\n",
       "      <td>21975</td>\n",
       "      <td>16</td>\n",
       "      <td>28.000000</td>\n",
       "      <td>C2</td>\n",
       "      <td>100.0</td>\n",
       "    </tr>\n",
       "    <tr>\n",
       "      <th>2</th>\n",
       "      <td>FL</td>\n",
       "      <td>F</td>\n",
       "      <td>725.00</td>\n",
       "      <td>436.0</td>\n",
       "      <td>361</td>\n",
       "      <td>340.0</td>\n",
       "      <td>301</td>\n",
       "      <td>3</td>\n",
       "      <td>18837</td>\n",
       "      <td>17</td>\n",
       "      <td>4.111111</td>\n",
       "      <td>C2</td>\n",
       "      <td>5.0</td>\n",
       "    </tr>\n",
       "    <tr>\n",
       "      <th>4</th>\n",
       "      <td>FL</td>\n",
       "      <td>F</td>\n",
       "      <td>995.00</td>\n",
       "      <td>348.0</td>\n",
       "      <td>316</td>\n",
       "      <td>280.0</td>\n",
       "      <td>252</td>\n",
       "      <td>0</td>\n",
       "      <td>17991</td>\n",
       "      <td>6</td>\n",
       "      <td>6.000000</td>\n",
       "      <td>C2</td>\n",
       "      <td>5.0</td>\n",
       "    </tr>\n",
       "    <tr>\n",
       "      <th>16</th>\n",
       "      <td>FL</td>\n",
       "      <td>F</td>\n",
       "      <td>1513</td>\n",
       "      <td>702.0</td>\n",
       "      <td>615</td>\n",
       "      <td>599.0</td>\n",
       "      <td>521</td>\n",
       "      <td>31</td>\n",
       "      <td>28124</td>\n",
       "      <td>24</td>\n",
       "      <td>18.500000</td>\n",
       "      <td>T1</td>\n",
       "      <td>28.0</td>\n",
       "    </tr>\n",
       "    <tr>\n",
       "      <th>17</th>\n",
       "      <td>FL</td>\n",
       "      <td>F</td>\n",
       "      <td>948</td>\n",
       "      <td>411.0</td>\n",
       "      <td>368</td>\n",
       "      <td>365.0</td>\n",
       "      <td>330</td>\n",
       "      <td>4</td>\n",
       "      <td>17728</td>\n",
       "      <td>8</td>\n",
       "      <td>15.000000</td>\n",
       "      <td>C2</td>\n",
       "      <td>15.0</td>\n",
       "    </tr>\n",
       "    <tr>\n",
       "      <th>20</th>\n",
       "      <td>FL</td>\n",
       "      <td>F</td>\n",
       "      <td>556</td>\n",
       "      <td>NaN</td>\n",
       "      <td>320</td>\n",
       "      <td>358.0</td>\n",
       "      <td>318</td>\n",
       "      <td>0</td>\n",
       "      <td>11779</td>\n",
       "      <td>22</td>\n",
       "      <td>9.428571</td>\n",
       "      <td>S3</td>\n",
       "      <td>12.0</td>\n",
       "    </tr>\n",
       "    <tr>\n",
       "      <th>34</th>\n",
       "      <td>FL</td>\n",
       "      <td>M</td>\n",
       "      <td>559</td>\n",
       "      <td>269.0</td>\n",
       "      <td>257</td>\n",
       "      <td>270.0</td>\n",
       "      <td>232</td>\n",
       "      <td>0</td>\n",
       "      <td>10511</td>\n",
       "      <td>20</td>\n",
       "      <td>12.611111</td>\n",
       "      <td>S3</td>\n",
       "      <td>20.0</td>\n",
       "    </tr>\n",
       "    <tr>\n",
       "      <th>55</th>\n",
       "      <td>FL</td>\n",
       "      <td>F</td>\n",
       "      <td>625</td>\n",
       "      <td>536.0</td>\n",
       "      <td>362</td>\n",
       "      <td>466.0</td>\n",
       "      <td>246</td>\n",
       "      <td>3</td>\n",
       "      <td>19102</td>\n",
       "      <td>47</td>\n",
       "      <td>14.090909</td>\n",
       "      <td>S1</td>\n",
       "      <td>20.0</td>\n",
       "    </tr>\n",
       "    <tr>\n",
       "      <th>94</th>\n",
       "      <td>FL</td>\n",
       "      <td>NaN</td>\n",
       "      <td>581</td>\n",
       "      <td>373.0</td>\n",
       "      <td>359</td>\n",
       "      <td>361.0</td>\n",
       "      <td>349</td>\n",
       "      <td>0</td>\n",
       "      <td>9667</td>\n",
       "      <td>53</td>\n",
       "      <td>9.857143</td>\n",
       "      <td>S2</td>\n",
       "      <td>15.0</td>\n",
       "    </tr>\n",
       "    <tr>\n",
       "      <th>101</th>\n",
       "      <td>FL</td>\n",
       "      <td>M</td>\n",
       "      <td>825</td>\n",
       "      <td>301.0</td>\n",
       "      <td>290</td>\n",
       "      <td>239.0</td>\n",
       "      <td>233</td>\n",
       "      <td>0</td>\n",
       "      <td>9747</td>\n",
       "      <td>21</td>\n",
       "      <td>20.000000</td>\n",
       "      <td>C3</td>\n",
       "      <td>20.0</td>\n",
       "    </tr>\n",
       "  </tbody>\n",
       "</table>\n",
       "</div>"
      ],
      "text/plain": [
       "    state gender median_home_val  avg_fam_income  avg_household_income  \\\n",
       "0      FL      M          AAA896           520.0                   466   \n",
       "2      FL      F          725.00           436.0                   361   \n",
       "4      FL      F          995.00           348.0                   316   \n",
       "16     FL      F            1513           702.0                   615   \n",
       "17     FL      F             948           411.0                   368   \n",
       "20     FL      F             556             NaN                   320   \n",
       "34     FL      M             559           269.0                   257   \n",
       "55     FL      F             625           536.0                   362   \n",
       "94     FL    NaN             581           373.0                   359   \n",
       "101    FL      M             825           301.0                   290   \n",
       "\n",
       "     med_fam_income  median_household_income  hvp1 per_capita_income  pobc2  \\\n",
       "0             430.0                      392     7             21975     16   \n",
       "2             340.0                      301     3             18837     17   \n",
       "4             280.0                      252     0             17991      6   \n",
       "16            599.0                      521    31             28124     24   \n",
       "17            365.0                      330     4             17728      8   \n",
       "20            358.0                      318     0             11779     22   \n",
       "34            270.0                      232     0             10511     20   \n",
       "55            466.0                      246     3             19102     47   \n",
       "94            361.0                      349     0              9667     53   \n",
       "101           239.0                      233     0              9747     21   \n",
       "\n",
       "       avggift domain  target_d  \n",
       "0    28.000000     C2     100.0  \n",
       "2     4.111111     C2       5.0  \n",
       "4     6.000000     C2       5.0  \n",
       "16   18.500000     T1      28.0  \n",
       "17   15.000000     C2      15.0  \n",
       "20    9.428571     S3      12.0  \n",
       "34   12.611111     S3      20.0  \n",
       "55   14.090909     S1      20.0  \n",
       "94    9.857143     S2      15.0  \n",
       "101  20.000000     C3      20.0  "
      ]
     },
     "execution_count": 19,
     "metadata": {},
     "output_type": "execute_result"
    }
   ],
   "source": [
    "hk_df[hk_df['state'] == \"FL\"].head(10)"
   ]
  },
  {
   "cell_type": "markdown",
   "metadata": {
    "id": "4mDnEhRTxy-c"
   },
   "source": [
    "How many people from each gender in Florida?"
   ]
  },
  {
   "cell_type": "code",
   "execution_count": 20,
   "metadata": {
    "colab": {
     "base_uri": "https://localhost:8080/"
    },
    "executionInfo": {
     "elapsed": 369,
     "status": "ok",
     "timestamp": 1623069120013,
     "user": {
      "displayName": "Ignacio Soteras",
      "photoUrl": "",
      "userId": "02050793736257155229"
     },
     "user_tz": -120
    },
    "id": "ddjtE6oyxy-c",
    "outputId": "ff9042c0-163d-4107-bf88-d38997c839c0"
   },
   "outputs": [
    {
     "data": {
      "text/plain": [
       "154"
      ]
     },
     "execution_count": 20,
     "metadata": {},
     "output_type": "execute_result"
    }
   ],
   "source": [
    "hk_df[(hk_df['gender'] == \"M\") & (hk_df['state'] == \"FL\") ].shape[0]"
   ]
  },
  {
   "cell_type": "code",
   "execution_count": 21,
   "metadata": {
    "colab": {
     "base_uri": "https://localhost:8080/"
    },
    "executionInfo": {
     "elapsed": 4,
     "status": "ok",
     "timestamp": 1623069223268,
     "user": {
      "displayName": "Ignacio Soteras",
      "photoUrl": "",
      "userId": "02050793736257155229"
     },
     "user_tz": -120
    },
    "id": "2eU-viJl_xY5",
    "outputId": "afabe9e6-e391-4c04-fee8-c6084c675da1"
   },
   "outputs": [
    {
     "data": {
      "text/plain": [
       "(325, 13)"
      ]
     },
     "execution_count": 21,
     "metadata": {},
     "output_type": "execute_result"
    }
   ],
   "source": [
    "hk_df[(hk_df['gender'].isin([\"M\",\"F\"]) == True) & (hk_df['state'] == \"FL\") ].shape"
   ]
  },
  {
   "cell_type": "markdown",
   "metadata": {
    "id": "dSiEGxDPdTTl"
   },
   "source": [
    "We can get how many possible values we have for one particular column using the method `.value_counts()`. This method returns a pandas **Series**"
   ]
  },
  {
   "cell_type": "code",
   "execution_count": 22,
   "metadata": {
    "colab": {
     "base_uri": "https://localhost:8080/",
     "height": 427
    },
    "executionInfo": {
     "elapsed": 374,
     "status": "ok",
     "timestamp": 1623069315838,
     "user": {
      "displayName": "Ignacio Soteras",
      "photoUrl": "",
      "userId": "02050793736257155229"
     },
     "user_tz": -120
    },
    "id": "NDzYs0PmeCYv",
    "outputId": "6da64263-7144-4a0d-f95a-f2eff9c6f0e7"
   },
   "outputs": [
    {
     "data": {
      "text/html": [
       "<div>\n",
       "<style scoped>\n",
       "    .dataframe tbody tr th:only-of-type {\n",
       "        vertical-align: middle;\n",
       "    }\n",
       "\n",
       "    .dataframe tbody tr th {\n",
       "        vertical-align: top;\n",
       "    }\n",
       "\n",
       "    .dataframe thead th {\n",
       "        text-align: right;\n",
       "    }\n",
       "</style>\n",
       "<table border=\"1\" class=\"dataframe\">\n",
       "  <thead>\n",
       "    <tr style=\"text-align: right;\">\n",
       "      <th></th>\n",
       "      <th>state</th>\n",
       "      <th>gender</th>\n",
       "      <th>median_home_val</th>\n",
       "      <th>avg_fam_income</th>\n",
       "      <th>avg_household_income</th>\n",
       "      <th>med_fam_income</th>\n",
       "      <th>median_household_income</th>\n",
       "      <th>hvp1</th>\n",
       "      <th>per_capita_income</th>\n",
       "      <th>pobc2</th>\n",
       "      <th>avggift</th>\n",
       "      <th>domain</th>\n",
       "      <th>target_d</th>\n",
       "    </tr>\n",
       "  </thead>\n",
       "  <tbody>\n",
       "    <tr>\n",
       "      <th>0</th>\n",
       "      <td>FL</td>\n",
       "      <td>M</td>\n",
       "      <td>AAA896</td>\n",
       "      <td>520.0</td>\n",
       "      <td>466</td>\n",
       "      <td>430.0</td>\n",
       "      <td>392</td>\n",
       "      <td>7</td>\n",
       "      <td>21975</td>\n",
       "      <td>16</td>\n",
       "      <td>28.000000</td>\n",
       "      <td>C2</td>\n",
       "      <td>100.0</td>\n",
       "    </tr>\n",
       "    <tr>\n",
       "      <th>2</th>\n",
       "      <td>FL</td>\n",
       "      <td>F</td>\n",
       "      <td>725.00</td>\n",
       "      <td>436.0</td>\n",
       "      <td>361</td>\n",
       "      <td>340.0</td>\n",
       "      <td>301</td>\n",
       "      <td>3</td>\n",
       "      <td>18837</td>\n",
       "      <td>17</td>\n",
       "      <td>4.111111</td>\n",
       "      <td>C2</td>\n",
       "      <td>5.0</td>\n",
       "    </tr>\n",
       "    <tr>\n",
       "      <th>4</th>\n",
       "      <td>FL</td>\n",
       "      <td>F</td>\n",
       "      <td>995.00</td>\n",
       "      <td>348.0</td>\n",
       "      <td>316</td>\n",
       "      <td>280.0</td>\n",
       "      <td>252</td>\n",
       "      <td>0</td>\n",
       "      <td>17991</td>\n",
       "      <td>6</td>\n",
       "      <td>6.000000</td>\n",
       "      <td>C2</td>\n",
       "      <td>5.0</td>\n",
       "    </tr>\n",
       "    <tr>\n",
       "      <th>16</th>\n",
       "      <td>FL</td>\n",
       "      <td>F</td>\n",
       "      <td>1513</td>\n",
       "      <td>702.0</td>\n",
       "      <td>615</td>\n",
       "      <td>599.0</td>\n",
       "      <td>521</td>\n",
       "      <td>31</td>\n",
       "      <td>28124</td>\n",
       "      <td>24</td>\n",
       "      <td>18.500000</td>\n",
       "      <td>T1</td>\n",
       "      <td>28.0</td>\n",
       "    </tr>\n",
       "    <tr>\n",
       "      <th>17</th>\n",
       "      <td>FL</td>\n",
       "      <td>F</td>\n",
       "      <td>948</td>\n",
       "      <td>411.0</td>\n",
       "      <td>368</td>\n",
       "      <td>365.0</td>\n",
       "      <td>330</td>\n",
       "      <td>4</td>\n",
       "      <td>17728</td>\n",
       "      <td>8</td>\n",
       "      <td>15.000000</td>\n",
       "      <td>C2</td>\n",
       "      <td>15.0</td>\n",
       "    </tr>\n",
       "    <tr>\n",
       "      <th>...</th>\n",
       "      <td>...</td>\n",
       "      <td>...</td>\n",
       "      <td>...</td>\n",
       "      <td>...</td>\n",
       "      <td>...</td>\n",
       "      <td>...</td>\n",
       "      <td>...</td>\n",
       "      <td>...</td>\n",
       "      <td>...</td>\n",
       "      <td>...</td>\n",
       "      <td>...</td>\n",
       "      <td>...</td>\n",
       "      <td>...</td>\n",
       "    </tr>\n",
       "    <tr>\n",
       "      <th>973</th>\n",
       "      <td>FL</td>\n",
       "      <td>M</td>\n",
       "      <td>599</td>\n",
       "      <td>423.0</td>\n",
       "      <td>200</td>\n",
       "      <td>406.0</td>\n",
       "      <td>100</td>\n",
       "      <td>4</td>\n",
       "      <td>11670</td>\n",
       "      <td>27</td>\n",
       "      <td>9.230769</td>\n",
       "      <td>C1</td>\n",
       "      <td>10.0</td>\n",
       "    </tr>\n",
       "    <tr>\n",
       "      <th>992</th>\n",
       "      <td>FL</td>\n",
       "      <td>M</td>\n",
       "      <td>677</td>\n",
       "      <td>313.0</td>\n",
       "      <td>324</td>\n",
       "      <td>272.0</td>\n",
       "      <td>311</td>\n",
       "      <td>0</td>\n",
       "      <td>12509</td>\n",
       "      <td>23</td>\n",
       "      <td>10.115385</td>\n",
       "      <td>C2</td>\n",
       "      <td>10.0</td>\n",
       "    </tr>\n",
       "    <tr>\n",
       "      <th>997</th>\n",
       "      <td>FL</td>\n",
       "      <td>M</td>\n",
       "      <td>595</td>\n",
       "      <td>274.0</td>\n",
       "      <td>262</td>\n",
       "      <td>263.0</td>\n",
       "      <td>252</td>\n",
       "      <td>0</td>\n",
       "      <td>11132</td>\n",
       "      <td>11</td>\n",
       "      <td>14.692308</td>\n",
       "      <td>T2</td>\n",
       "      <td>20.0</td>\n",
       "    </tr>\n",
       "    <tr>\n",
       "      <th>1001</th>\n",
       "      <td>FL</td>\n",
       "      <td>F</td>\n",
       "      <td>742</td>\n",
       "      <td>470.0</td>\n",
       "      <td>450</td>\n",
       "      <td>424.0</td>\n",
       "      <td>396</td>\n",
       "      <td>0</td>\n",
       "      <td>15356</td>\n",
       "      <td>37</td>\n",
       "      <td>14.285714</td>\n",
       "      <td>S2</td>\n",
       "      <td>50.0</td>\n",
       "    </tr>\n",
       "    <tr>\n",
       "      <th>1002</th>\n",
       "      <td>FL</td>\n",
       "      <td>M</td>\n",
       "      <td>599</td>\n",
       "      <td>423.0</td>\n",
       "      <td>200</td>\n",
       "      <td>406.0</td>\n",
       "      <td>100</td>\n",
       "      <td>4</td>\n",
       "      <td>11670</td>\n",
       "      <td>27</td>\n",
       "      <td>9.230769</td>\n",
       "      <td>C1</td>\n",
       "      <td>10.0</td>\n",
       "    </tr>\n",
       "  </tbody>\n",
       "</table>\n",
       "<p>342 rows × 13 columns</p>\n",
       "</div>"
      ],
      "text/plain": [
       "     state gender median_home_val  avg_fam_income  avg_household_income  \\\n",
       "0       FL      M          AAA896           520.0                   466   \n",
       "2       FL      F          725.00           436.0                   361   \n",
       "4       FL      F          995.00           348.0                   316   \n",
       "16      FL      F            1513           702.0                   615   \n",
       "17      FL      F             948           411.0                   368   \n",
       "...    ...    ...             ...             ...                   ...   \n",
       "973     FL      M             599           423.0                   200   \n",
       "992     FL      M             677           313.0                   324   \n",
       "997     FL      M             595           274.0                   262   \n",
       "1001    FL      F             742           470.0                   450   \n",
       "1002    FL      M             599           423.0                   200   \n",
       "\n",
       "      med_fam_income  median_household_income  hvp1 per_capita_income  pobc2  \\\n",
       "0              430.0                      392     7             21975     16   \n",
       "2              340.0                      301     3             18837     17   \n",
       "4              280.0                      252     0             17991      6   \n",
       "16             599.0                      521    31             28124     24   \n",
       "17             365.0                      330     4             17728      8   \n",
       "...              ...                      ...   ...               ...    ...   \n",
       "973            406.0                      100     4             11670     27   \n",
       "992            272.0                      311     0             12509     23   \n",
       "997            263.0                      252     0             11132     11   \n",
       "1001           424.0                      396     0             15356     37   \n",
       "1002           406.0                      100     4             11670     27   \n",
       "\n",
       "        avggift domain  target_d  \n",
       "0     28.000000     C2     100.0  \n",
       "2      4.111111     C2       5.0  \n",
       "4      6.000000     C2       5.0  \n",
       "16    18.500000     T1      28.0  \n",
       "17    15.000000     C2      15.0  \n",
       "...         ...    ...       ...  \n",
       "973    9.230769     C1      10.0  \n",
       "992   10.115385     C2      10.0  \n",
       "997   14.692308     T2      20.0  \n",
       "1001  14.285714     S2      50.0  \n",
       "1002   9.230769     C1      10.0  \n",
       "\n",
       "[342 rows x 13 columns]"
      ]
     },
     "execution_count": 22,
     "metadata": {},
     "output_type": "execute_result"
    }
   ],
   "source": [
    "hk_df[hk_df['state'] == \"FL\"]"
   ]
  },
  {
   "cell_type": "code",
   "execution_count": 23,
   "metadata": {
    "colab": {
     "base_uri": "https://localhost:8080/"
    },
    "executionInfo": {
     "elapsed": 375,
     "status": "ok",
     "timestamp": 1623069399124,
     "user": {
      "displayName": "Ignacio Soteras",
      "photoUrl": "",
      "userId": "02050793736257155229"
     },
     "user_tz": -120
    },
    "id": "cASBDTiIeX2L",
    "outputId": "68bcdf2b-1b27-4d40-fca3-ed0e3c74c083"
   },
   "outputs": [
    {
     "data": {
      "text/plain": [
       "pandas.core.frame.DataFrame"
      ]
     },
     "execution_count": 23,
     "metadata": {},
     "output_type": "execute_result"
    }
   ],
   "source": [
    "type(hk_df[hk_df['state'] == \"FL\"])"
   ]
  },
  {
   "cell_type": "code",
   "execution_count": 24,
   "metadata": {
    "colab": {
     "base_uri": "https://localhost:8080/"
    },
    "executionInfo": {
     "elapsed": 382,
     "status": "ok",
     "timestamp": 1623069347540,
     "user": {
      "displayName": "Ignacio Soteras",
      "photoUrl": "",
      "userId": "02050793736257155229"
     },
     "user_tz": -120
    },
    "id": "hl6s67_NeJQA",
    "outputId": "b4eefb13-546c-4d5d-dd43-ee53c4f49b50"
   },
   "outputs": [
    {
     "data": {
      "text/plain": [
       "0       M\n",
       "2       F\n",
       "4       F\n",
       "16      F\n",
       "17      F\n",
       "       ..\n",
       "973     M\n",
       "992     M\n",
       "997     M\n",
       "1001    F\n",
       "1002    M\n",
       "Name: gender, Length: 342, dtype: object"
      ]
     },
     "execution_count": 24,
     "metadata": {},
     "output_type": "execute_result"
    }
   ],
   "source": [
    "hk_df[hk_df['state'] == \"FL\"]['gender']"
   ]
  },
  {
   "cell_type": "code",
   "execution_count": 25,
   "metadata": {
    "colab": {
     "base_uri": "https://localhost:8080/"
    },
    "executionInfo": {
     "elapsed": 499,
     "status": "ok",
     "timestamp": 1623069379359,
     "user": {
      "displayName": "Ignacio Soteras",
      "photoUrl": "",
      "userId": "02050793736257155229"
     },
     "user_tz": -120
    },
    "id": "eHtPtw2BeTBr",
    "outputId": "17c1da41-1a46-4df1-b8b9-68860e6b2135"
   },
   "outputs": [
    {
     "data": {
      "text/plain": [
       "pandas.core.series.Series"
      ]
     },
     "execution_count": 25,
     "metadata": {},
     "output_type": "execute_result"
    }
   ],
   "source": [
    "type(hk_df[hk_df['state'] == \"FL\"]['gender'])"
   ]
  },
  {
   "cell_type": "code",
   "execution_count": 26,
   "metadata": {
    "colab": {
     "base_uri": "https://localhost:8080/"
    },
    "executionInfo": {
     "elapsed": 387,
     "status": "ok",
     "timestamp": 1623069505157,
     "user": {
      "displayName": "Ignacio Soteras",
      "photoUrl": "",
      "userId": "02050793736257155229"
     },
     "user_tz": -120
    },
    "id": "Z1mOau7X_3h5",
    "outputId": "dfc299fd-5d53-461e-b636-393ecad16d5a"
   },
   "outputs": [
    {
     "data": {
      "text/plain": [
       "F      171\n",
       "M      154\n",
       "NaN     13\n",
       "J        3\n",
       "U        1\n",
       "Name: gender, dtype: int64"
      ]
     },
     "execution_count": 26,
     "metadata": {},
     "output_type": "execute_result"
    }
   ],
   "source": [
    "hk_df[hk_df['state'] == \"FL\"]['gender'].value_counts(dropna=False)"
   ]
  },
  {
   "cell_type": "code",
   "execution_count": 27,
   "metadata": {
    "colab": {
     "base_uri": "https://localhost:8080/"
    },
    "executionInfo": {
     "elapsed": 378,
     "status": "ok",
     "timestamp": 1623069468286,
     "user": {
      "displayName": "Ignacio Soteras",
      "photoUrl": "",
      "userId": "02050793736257155229"
     },
     "user_tz": -120
    },
    "id": "W2BfyPbremZe",
    "outputId": "d6e74ca3-d146-4cd5-ee1e-0b7a6baac531"
   },
   "outputs": [
    {
     "data": {
      "text/plain": [
       "array(['M', 'F', nan, 'J', 'U'], dtype=object)"
      ]
     },
     "execution_count": 27,
     "metadata": {},
     "output_type": "execute_result"
    }
   ],
   "source": [
    "hk_df[hk_df['state'] == \"FL\"]['gender'].unique()"
   ]
  },
  {
   "cell_type": "code",
   "execution_count": 28,
   "metadata": {
    "colab": {
     "base_uri": "https://localhost:8080/"
    },
    "executionInfo": {
     "elapsed": 391,
     "status": "ok",
     "timestamp": 1623069654952,
     "user": {
      "displayName": "Ignacio Soteras",
      "photoUrl": "",
      "userId": "02050793736257155229"
     },
     "user_tz": -120
    },
    "id": "tDvZcglTCy4m",
    "outputId": "399b3ed5-cc5c-4c3d-acb1-7e710e41863d"
   },
   "outputs": [
    {
     "data": {
      "text/plain": [
       "F          1966\n",
       "M          1474\n",
       "male        128\n",
       "female      106\n",
       "Female       77\n",
       "U            69\n",
       "Male         33\n",
       "J            23\n",
       "feamale      15\n",
       "A             1\n",
       "Name: gender, dtype: int64"
      ]
     },
     "execution_count": 28,
     "metadata": {},
     "output_type": "execute_result"
    }
   ],
   "source": [
    "hk_df['gender'].value_counts(dropna=True)"
   ]
  },
  {
   "cell_type": "code",
   "execution_count": 29,
   "metadata": {
    "colab": {
     "base_uri": "https://localhost:8080/"
    },
    "executionInfo": {
     "elapsed": 634,
     "status": "ok",
     "timestamp": 1617022722937,
     "user": {
      "displayName": "Ignacio Soteras",
      "photoUrl": "",
      "userId": "02050793736257155229"
     },
     "user_tz": -120
    },
    "id": "NIJ46vfnEGWD",
    "outputId": "b96a076f-e09c-4a1e-f77a-900c13f8d189"
   },
   "outputs": [
    {
     "data": {
      "text/plain": [
       "pandas.core.series.Series"
      ]
     },
     "execution_count": 29,
     "metadata": {},
     "output_type": "execute_result"
    }
   ],
   "source": [
    "type(hk_df['gender'].value_counts())"
   ]
  },
  {
   "cell_type": "code",
   "execution_count": 30,
   "metadata": {
    "colab": {
     "base_uri": "https://localhost:8080/"
    },
    "executionInfo": {
     "elapsed": 370,
     "status": "ok",
     "timestamp": 1623069692843,
     "user": {
      "displayName": "Ignacio Soteras",
      "photoUrl": "",
      "userId": "02050793736257155229"
     },
     "user_tz": -120
    },
    "id": "JEm5hvGdfbpG",
    "outputId": "785c31d3-dbd0-4de4-9307-53960e04de83"
   },
   "outputs": [
    {
     "data": {
      "text/plain": [
       "77"
      ]
     },
     "execution_count": 30,
     "metadata": {},
     "output_type": "execute_result"
    }
   ],
   "source": [
    "hk_df['gender'].value_counts()['Female']"
   ]
  },
  {
   "cell_type": "code",
   "execution_count": 31,
   "metadata": {
    "colab": {
     "base_uri": "https://localhost:8080/"
    },
    "executionInfo": {
     "elapsed": 354,
     "status": "ok",
     "timestamp": 1623069721423,
     "user": {
      "displayName": "Ignacio Soteras",
      "photoUrl": "",
      "userId": "02050793736257155229"
     },
     "user_tz": -120
    },
    "id": "-ZKpMyabELZX",
    "outputId": "8986771b-aaab-451b-eb38-ba374dbe6c0a"
   },
   "outputs": [
    {
     "data": {
      "text/plain": [
       "3892"
      ]
     },
     "execution_count": 31,
     "metadata": {},
     "output_type": "execute_result"
    }
   ],
   "source": [
    "hk_df['gender'].value_counts().sum()"
   ]
  },
  {
   "cell_type": "markdown",
   "metadata": {
    "id": "yoWDoxJXdeS0"
   },
   "source": [
    "The method `.value_counts()` doesn't show the missing values. If we want to know if there are any, we can provide the option `dropna=False`."
   ]
  },
  {
   "cell_type": "code",
   "execution_count": 32,
   "metadata": {
    "colab": {
     "base_uri": "https://localhost:8080/"
    },
    "executionInfo": {
     "elapsed": 443,
     "status": "ok",
     "timestamp": 1623069751824,
     "user": {
      "displayName": "Ignacio Soteras",
      "photoUrl": "",
      "userId": "02050793736257155229"
     },
     "user_tz": -120
    },
    "id": "eQcND3ZqES5d",
    "outputId": "6b0404b7-1ef5-43d5-8f67-77f8db6400bd"
   },
   "outputs": [
    {
     "data": {
      "text/plain": [
       "4028"
      ]
     },
     "execution_count": 32,
     "metadata": {},
     "output_type": "execute_result"
    }
   ],
   "source": [
    "hk_df['gender'].value_counts(dropna=False).sum()"
   ]
  },
  {
   "cell_type": "code",
   "execution_count": 33,
   "metadata": {
    "colab": {
     "base_uri": "https://localhost:8080/"
    },
    "executionInfo": {
     "elapsed": 4,
     "status": "ok",
     "timestamp": 1623069763119,
     "user": {
      "displayName": "Ignacio Soteras",
      "photoUrl": "",
      "userId": "02050793736257155229"
     },
     "user_tz": -120
    },
    "id": "biLjCtBDDAYI",
    "outputId": "6c5809a9-e9af-4dbc-b5ce-0fdddf4f9162"
   },
   "outputs": [
    {
     "data": {
      "text/plain": [
       "F          1966\n",
       "M          1474\n",
       "NaN         136\n",
       "male        128\n",
       "female      106\n",
       "Female       77\n",
       "U            69\n",
       "Male         33\n",
       "J            23\n",
       "feamale      15\n",
       "A             1\n",
       "Name: gender, dtype: int64"
      ]
     },
     "execution_count": 33,
     "metadata": {},
     "output_type": "execute_result"
    }
   ],
   "source": [
    "hk_df['gender'].value_counts(dropna=False)"
   ]
  },
  {
   "cell_type": "markdown",
   "metadata": {
    "id": "22A90RaRd5Qv"
   },
   "source": [
    "We can know what are the unique values of a column using the method `.unique()`, and then the method `.tolist()` to castthe resulting **Series** into a list."
   ]
  },
  {
   "cell_type": "code",
   "execution_count": 34,
   "metadata": {
    "colab": {
     "base_uri": "https://localhost:8080/"
    },
    "executionInfo": {
     "elapsed": 382,
     "status": "ok",
     "timestamp": 1623069816790,
     "user": {
      "displayName": "Ignacio Soteras",
      "photoUrl": "",
      "userId": "02050793736257155229"
     },
     "user_tz": -120
    },
    "id": "t7Iv8srUE09o",
    "outputId": "4535cdcf-f425-41e7-faba-d0b0abed7b57"
   },
   "outputs": [
    {
     "data": {
      "text/plain": [
       "['M', 'F', 'female', 'Male', nan, 'U', 'J', 'male', 'Female', 'feamale', 'A']"
      ]
     },
     "execution_count": 34,
     "metadata": {},
     "output_type": "execute_result"
    }
   ],
   "source": [
    "hk_df[\"gender\"].unique().tolist()"
   ]
  },
  {
   "cell_type": "code",
   "execution_count": 35,
   "metadata": {
    "colab": {
     "base_uri": "https://localhost:8080/"
    },
    "executionInfo": {
     "elapsed": 359,
     "status": "ok",
     "timestamp": 1623069827335,
     "user": {
      "displayName": "Ignacio Soteras",
      "photoUrl": "",
      "userId": "02050793736257155229"
     },
     "user_tz": -120
    },
    "id": "p8aztt2_D_nN",
    "outputId": "c6a063b7-3951-42b9-e708-477de5c6d2be"
   },
   "outputs": [
    {
     "data": {
      "text/plain": [
       "(4028, 13)"
      ]
     },
     "execution_count": 35,
     "metadata": {},
     "output_type": "execute_result"
    }
   ],
   "source": [
    "hk_df.shape"
   ]
  },
  {
   "cell_type": "markdown",
   "metadata": {
    "id": "jspXCmtUeOn0"
   },
   "source": [
    "The method `.info()` allow us to obtain information about every column in the dataframe"
   ]
  },
  {
   "cell_type": "code",
   "execution_count": 36,
   "metadata": {
    "colab": {
     "base_uri": "https://localhost:8080/"
    },
    "executionInfo": {
     "elapsed": 397,
     "status": "ok",
     "timestamp": 1623069848252,
     "user": {
      "displayName": "Ignacio Soteras",
      "photoUrl": "",
      "userId": "02050793736257155229"
     },
     "user_tz": -120
    },
    "id": "jOS1X8elDRfd",
    "outputId": "7be5a011-f0ea-41d1-8ff1-23026cfe562d"
   },
   "outputs": [
    {
     "name": "stdout",
     "output_type": "stream",
     "text": [
      "<class 'pandas.core.frame.DataFrame'>\n",
      "Int64Index: 4028 entries, 0 to 1005\n",
      "Data columns (total 13 columns):\n",
      " #   Column                   Non-Null Count  Dtype  \n",
      "---  ------                   --------------  -----  \n",
      " 0   state                    4028 non-null   object \n",
      " 1   gender                   3892 non-null   object \n",
      " 2   median_home_val          4026 non-null   object \n",
      " 3   avg_fam_income           4027 non-null   float64\n",
      " 4   avg_household_income     4028 non-null   int64  \n",
      " 5   med_fam_income           4027 non-null   float64\n",
      " 6   median_household_income  4028 non-null   int64  \n",
      " 7   hvp1                     4028 non-null   int64  \n",
      " 8   per_capita_income        4028 non-null   object \n",
      " 9   pobc2                    4028 non-null   int64  \n",
      " 10  avggift                  4028 non-null   float64\n",
      " 11  domain                   4028 non-null   object \n",
      " 12  target_d                 4028 non-null   float64\n",
      "dtypes: float64(4), int64(4), object(5)\n",
      "memory usage: 440.6+ KB\n"
     ]
    }
   ],
   "source": [
    "hk_df.info()"
   ]
  },
  {
   "cell_type": "markdown",
   "metadata": {
    "id": "YamlvKnbeXxu"
   },
   "source": [
    "The method `.describe()` give us a **dataframe** with an statistical summary of every column"
   ]
  },
  {
   "cell_type": "code",
   "execution_count": 37,
   "metadata": {
    "colab": {
     "base_uri": "https://localhost:8080/",
     "height": 468
    },
    "executionInfo": {
     "elapsed": 353,
     "status": "ok",
     "timestamp": 1623070337302,
     "user": {
      "displayName": "Ignacio Soteras",
      "photoUrl": "",
      "userId": "02050793736257155229"
     },
     "user_tz": -120
    },
    "id": "SA8t4OD3hPLZ",
    "outputId": "f84980be-4c3c-463f-9cc6-e11ad62b8f9c"
   },
   "outputs": [
    {
     "data": {
      "text/html": [
       "<div>\n",
       "<style scoped>\n",
       "    .dataframe tbody tr th:only-of-type {\n",
       "        vertical-align: middle;\n",
       "    }\n",
       "\n",
       "    .dataframe tbody tr th {\n",
       "        vertical-align: top;\n",
       "    }\n",
       "\n",
       "    .dataframe thead th {\n",
       "        text-align: right;\n",
       "    }\n",
       "</style>\n",
       "<table border=\"1\" class=\"dataframe\">\n",
       "  <thead>\n",
       "    <tr style=\"text-align: right;\">\n",
       "      <th></th>\n",
       "      <th>count</th>\n",
       "      <th>mean</th>\n",
       "      <th>std</th>\n",
       "      <th>min</th>\n",
       "      <th>25%</th>\n",
       "      <th>50%</th>\n",
       "      <th>75%</th>\n",
       "      <th>max</th>\n",
       "    </tr>\n",
       "  </thead>\n",
       "  <tbody>\n",
       "    <tr>\n",
       "      <th>avg_fam_income</th>\n",
       "      <td>4027.0</td>\n",
       "      <td>444.664515</td>\n",
       "      <td>174.857272</td>\n",
       "      <td>0.00000</td>\n",
       "      <td>325.000000</td>\n",
       "      <td>410.00</td>\n",
       "      <td>528.000000</td>\n",
       "      <td>1331.0</td>\n",
       "    </tr>\n",
       "    <tr>\n",
       "      <th>avg_household_income</th>\n",
       "      <td>4028.0</td>\n",
       "      <td>399.788232</td>\n",
       "      <td>164.702061</td>\n",
       "      <td>0.00000</td>\n",
       "      <td>287.000000</td>\n",
       "      <td>365.00</td>\n",
       "      <td>479.250000</td>\n",
       "      <td>1311.0</td>\n",
       "    </tr>\n",
       "    <tr>\n",
       "      <th>med_fam_income</th>\n",
       "      <td>4027.0</td>\n",
       "      <td>400.639930</td>\n",
       "      <td>180.377938</td>\n",
       "      <td>0.00000</td>\n",
       "      <td>284.000000</td>\n",
       "      <td>366.00</td>\n",
       "      <td>477.000000</td>\n",
       "      <td>1500.0</td>\n",
       "    </tr>\n",
       "    <tr>\n",
       "      <th>median_household_income</th>\n",
       "      <td>4028.0</td>\n",
       "      <td>351.569265</td>\n",
       "      <td>168.316241</td>\n",
       "      <td>0.00000</td>\n",
       "      <td>239.000000</td>\n",
       "      <td>318.00</td>\n",
       "      <td>425.000000</td>\n",
       "      <td>1500.0</td>\n",
       "    </tr>\n",
       "    <tr>\n",
       "      <th>hvp1</th>\n",
       "      <td>4028.0</td>\n",
       "      <td>15.961519</td>\n",
       "      <td>28.841221</td>\n",
       "      <td>0.00000</td>\n",
       "      <td>0.000000</td>\n",
       "      <td>1.00</td>\n",
       "      <td>14.000000</td>\n",
       "      <td>99.0</td>\n",
       "    </tr>\n",
       "    <tr>\n",
       "      <th>pobc2</th>\n",
       "      <td>4028.0</td>\n",
       "      <td>55.476167</td>\n",
       "      <td>21.510554</td>\n",
       "      <td>0.00000</td>\n",
       "      <td>41.000000</td>\n",
       "      <td>57.00</td>\n",
       "      <td>73.000000</td>\n",
       "      <td>99.0</td>\n",
       "    </tr>\n",
       "    <tr>\n",
       "      <th>avggift</th>\n",
       "      <td>4028.0</td>\n",
       "      <td>11.771435</td>\n",
       "      <td>10.136313</td>\n",
       "      <td>2.26087</td>\n",
       "      <td>7.181818</td>\n",
       "      <td>10.00</td>\n",
       "      <td>14.388462</td>\n",
       "      <td>450.0</td>\n",
       "    </tr>\n",
       "    <tr>\n",
       "      <th>target_d</th>\n",
       "      <td>4028.0</td>\n",
       "      <td>15.645603</td>\n",
       "      <td>12.672374</td>\n",
       "      <td>1.00000</td>\n",
       "      <td>10.000000</td>\n",
       "      <td>13.46</td>\n",
       "      <td>20.000000</td>\n",
       "      <td>200.0</td>\n",
       "    </tr>\n",
       "  </tbody>\n",
       "</table>\n",
       "</div>"
      ],
      "text/plain": [
       "                          count        mean         std      min         25%  \\\n",
       "avg_fam_income           4027.0  444.664515  174.857272  0.00000  325.000000   \n",
       "avg_household_income     4028.0  399.788232  164.702061  0.00000  287.000000   \n",
       "med_fam_income           4027.0  400.639930  180.377938  0.00000  284.000000   \n",
       "median_household_income  4028.0  351.569265  168.316241  0.00000  239.000000   \n",
       "hvp1                     4028.0   15.961519   28.841221  0.00000    0.000000   \n",
       "pobc2                    4028.0   55.476167   21.510554  0.00000   41.000000   \n",
       "avggift                  4028.0   11.771435   10.136313  2.26087    7.181818   \n",
       "target_d                 4028.0   15.645603   12.672374  1.00000   10.000000   \n",
       "\n",
       "                            50%         75%     max  \n",
       "avg_fam_income           410.00  528.000000  1331.0  \n",
       "avg_household_income     365.00  479.250000  1311.0  \n",
       "med_fam_income           366.00  477.000000  1500.0  \n",
       "median_household_income  318.00  425.000000  1500.0  \n",
       "hvp1                       1.00   14.000000    99.0  \n",
       "pobc2                     57.00   73.000000    99.0  \n",
       "avggift                   10.00   14.388462   450.0  \n",
       "target_d                  13.46   20.000000   200.0  "
      ]
     },
     "execution_count": 37,
     "metadata": {},
     "output_type": "execute_result"
    }
   ],
   "source": [
    "temp = hk_df.describe().transpose()\n",
    "temp"
   ]
  },
  {
   "cell_type": "markdown",
   "metadata": {
    "id": "qDgtTQn8xy-c"
   },
   "source": [
    "#### Indexing"
   ]
  },
  {
   "cell_type": "markdown",
   "metadata": {
    "id": "5AywBmkAxy-c"
   },
   "source": [
    "Select rows 5 and 6:"
   ]
  },
  {
   "cell_type": "code",
   "execution_count": 38,
   "metadata": {
    "colab": {
     "base_uri": "https://localhost:8080/",
     "height": 98
    },
    "executionInfo": {
     "elapsed": 362,
     "status": "ok",
     "timestamp": 1623070278274,
     "user": {
      "displayName": "Ignacio Soteras",
      "photoUrl": "",
      "userId": "02050793736257155229"
     },
     "user_tz": -120
    },
    "id": "Xe75M_VlAk_s",
    "outputId": "5939df1f-a7ee-48bf-9ee5-1662f56f255d"
   },
   "outputs": [
    {
     "data": {
      "text/html": [
       "<div>\n",
       "<style scoped>\n",
       "    .dataframe tbody tr th:only-of-type {\n",
       "        vertical-align: middle;\n",
       "    }\n",
       "\n",
       "    .dataframe tbody tr th {\n",
       "        vertical-align: top;\n",
       "    }\n",
       "\n",
       "    .dataframe thead th {\n",
       "        text-align: right;\n",
       "    }\n",
       "</style>\n",
       "<table border=\"1\" class=\"dataframe\">\n",
       "  <thead>\n",
       "    <tr style=\"text-align: right;\">\n",
       "      <th></th>\n",
       "      <th>state</th>\n",
       "      <th>gender</th>\n",
       "      <th>median_home_val</th>\n",
       "      <th>avg_fam_income</th>\n",
       "      <th>avg_household_income</th>\n",
       "      <th>med_fam_income</th>\n",
       "      <th>median_household_income</th>\n",
       "      <th>hvp1</th>\n",
       "      <th>per_capita_income</th>\n",
       "      <th>pobc2</th>\n",
       "      <th>avggift</th>\n",
       "      <th>domain</th>\n",
       "      <th>target_d</th>\n",
       "    </tr>\n",
       "  </thead>\n",
       "  <tbody>\n",
       "    <tr>\n",
       "      <th>5</th>\n",
       "      <td>IL</td>\n",
       "      <td>M</td>\n",
       "      <td>764.00</td>\n",
       "      <td>501.0</td>\n",
       "      <td>480</td>\n",
       "      <td>477.0</td>\n",
       "      <td>457</td>\n",
       "      <td>1</td>\n",
       "      <td>16022</td>\n",
       "      <td>75</td>\n",
       "      <td>25.571429</td>\n",
       "      <td>S2</td>\n",
       "      <td>30.0</td>\n",
       "    </tr>\n",
       "    <tr>\n",
       "      <th>6</th>\n",
       "      <td>NC</td>\n",
       "      <td>female</td>\n",
       "      <td>775.00</td>\n",
       "      <td>419.0</td>\n",
       "      <td>380</td>\n",
       "      <td>364.0</td>\n",
       "      <td>318</td>\n",
       "      <td>5</td>\n",
       "      <td>13491</td>\n",
       "      <td>73</td>\n",
       "      <td>4.625000</td>\n",
       "      <td>R2</td>\n",
       "      <td>12.0</td>\n",
       "    </tr>\n",
       "  </tbody>\n",
       "</table>\n",
       "</div>"
      ],
      "text/plain": [
       "  state  gender median_home_val  avg_fam_income  avg_household_income  \\\n",
       "5    IL       M          764.00           501.0                   480   \n",
       "6    NC  female          775.00           419.0                   380   \n",
       "\n",
       "   med_fam_income  median_household_income  hvp1 per_capita_income  pobc2  \\\n",
       "5           477.0                      457     1             16022     75   \n",
       "6           364.0                      318     5             13491     73   \n",
       "\n",
       "     avggift domain  target_d  \n",
       "5  25.571429     S2      30.0  \n",
       "6   4.625000     R2      12.0  "
      ]
     },
     "execution_count": 38,
     "metadata": {},
     "output_type": "execute_result"
    }
   ],
   "source": [
    "hk_df.iloc[5:7]"
   ]
  },
  {
   "cell_type": "code",
   "execution_count": 39,
   "metadata": {
    "colab": {
     "base_uri": "https://localhost:8080/",
     "height": 108
    },
    "executionInfo": {
     "elapsed": 372,
     "status": "ok",
     "timestamp": 1623070577628,
     "user": {
      "displayName": "Ignacio Soteras",
      "photoUrl": "",
      "userId": "02050793736257155229"
     },
     "user_tz": -120
    },
    "id": "KR8E_VqVBAUg",
    "outputId": "e2586001-5598-46e3-9035-9d325fde6f62"
   },
   "outputs": [
    {
     "data": {
      "text/html": [
       "<div>\n",
       "<style scoped>\n",
       "    .dataframe tbody tr th:only-of-type {\n",
       "        vertical-align: middle;\n",
       "    }\n",
       "\n",
       "    .dataframe tbody tr th {\n",
       "        vertical-align: top;\n",
       "    }\n",
       "\n",
       "    .dataframe thead th {\n",
       "        text-align: right;\n",
       "    }\n",
       "</style>\n",
       "<table border=\"1\" class=\"dataframe\">\n",
       "  <thead>\n",
       "    <tr style=\"text-align: right;\">\n",
       "      <th></th>\n",
       "      <th>state</th>\n",
       "      <th>median_home_val</th>\n",
       "    </tr>\n",
       "  </thead>\n",
       "  <tbody>\n",
       "    <tr>\n",
       "      <th>5</th>\n",
       "      <td>IL</td>\n",
       "      <td>764.00</td>\n",
       "    </tr>\n",
       "    <tr>\n",
       "      <th>7</th>\n",
       "      <td>TX</td>\n",
       "      <td>890.00</td>\n",
       "    </tr>\n",
       "  </tbody>\n",
       "</table>\n",
       "</div>"
      ],
      "text/plain": [
       "  state median_home_val\n",
       "5    IL          764.00\n",
       "7    TX          890.00"
      ]
     },
     "execution_count": 39,
     "metadata": {},
     "output_type": "execute_result"
    }
   ],
   "source": [
    "hk_df.iloc[[5,7],[0,2]]"
   ]
  },
  {
   "cell_type": "code",
   "execution_count": 40,
   "metadata": {
    "colab": {
     "base_uri": "https://localhost:8080/",
     "height": 218
    },
    "executionInfo": {
     "elapsed": 386,
     "status": "ok",
     "timestamp": 1623070622698,
     "user": {
      "displayName": "Ignacio Soteras",
      "photoUrl": "",
      "userId": "02050793736257155229"
     },
     "user_tz": -120
    },
    "id": "IgEV_6QbAv-E",
    "outputId": "23ea694e-7ae5-4e9b-cbb5-1238539927c8"
   },
   "outputs": [
    {
     "data": {
      "text/html": [
       "<div>\n",
       "<style scoped>\n",
       "    .dataframe tbody tr th:only-of-type {\n",
       "        vertical-align: middle;\n",
       "    }\n",
       "\n",
       "    .dataframe tbody tr th {\n",
       "        vertical-align: top;\n",
       "    }\n",
       "\n",
       "    .dataframe thead th {\n",
       "        text-align: right;\n",
       "    }\n",
       "</style>\n",
       "<table border=\"1\" class=\"dataframe\">\n",
       "  <thead>\n",
       "    <tr style=\"text-align: right;\">\n",
       "      <th></th>\n",
       "      <th>state</th>\n",
       "      <th>gender</th>\n",
       "      <th>median_home_val</th>\n",
       "      <th>avg_fam_income</th>\n",
       "      <th>avg_household_income</th>\n",
       "      <th>med_fam_income</th>\n",
       "      <th>median_household_income</th>\n",
       "      <th>hvp1</th>\n",
       "      <th>per_capita_income</th>\n",
       "      <th>pobc2</th>\n",
       "      <th>avggift</th>\n",
       "      <th>domain</th>\n",
       "      <th>target_d</th>\n",
       "    </tr>\n",
       "  </thead>\n",
       "  <tbody>\n",
       "    <tr>\n",
       "      <th>0</th>\n",
       "      <td>FL</td>\n",
       "      <td>M</td>\n",
       "      <td>AAA896</td>\n",
       "      <td>520.0</td>\n",
       "      <td>466</td>\n",
       "      <td>430.0</td>\n",
       "      <td>392</td>\n",
       "      <td>7</td>\n",
       "      <td>21975</td>\n",
       "      <td>16</td>\n",
       "      <td>28.000000</td>\n",
       "      <td>C2</td>\n",
       "      <td>100.0</td>\n",
       "    </tr>\n",
       "    <tr>\n",
       "      <th>1</th>\n",
       "      <td>IL</td>\n",
       "      <td>M</td>\n",
       "      <td>537.00</td>\n",
       "      <td>473.0</td>\n",
       "      <td>410</td>\n",
       "      <td>415.0</td>\n",
       "      <td>365</td>\n",
       "      <td>0</td>\n",
       "      <td>19387</td>\n",
       "      <td>89</td>\n",
       "      <td>5.666667</td>\n",
       "      <td>T2</td>\n",
       "      <td>7.0</td>\n",
       "    </tr>\n",
       "    <tr>\n",
       "      <th>2</th>\n",
       "      <td>FL</td>\n",
       "      <td>F</td>\n",
       "      <td>725.00</td>\n",
       "      <td>436.0</td>\n",
       "      <td>361</td>\n",
       "      <td>340.0</td>\n",
       "      <td>301</td>\n",
       "      <td>3</td>\n",
       "      <td>18837</td>\n",
       "      <td>17</td>\n",
       "      <td>4.111111</td>\n",
       "      <td>C2</td>\n",
       "      <td>5.0</td>\n",
       "    </tr>\n",
       "    <tr>\n",
       "      <th>3</th>\n",
       "      <td>NC</td>\n",
       "      <td>M</td>\n",
       "      <td>AAA1095</td>\n",
       "      <td>413.0</td>\n",
       "      <td>399</td>\n",
       "      <td>407.0</td>\n",
       "      <td>401</td>\n",
       "      <td>7</td>\n",
       "      <td>14014</td>\n",
       "      <td>74</td>\n",
       "      <td>27.277778</td>\n",
       "      <td>T2</td>\n",
       "      <td>38.0</td>\n",
       "    </tr>\n",
       "    <tr>\n",
       "      <th>4</th>\n",
       "      <td>FL</td>\n",
       "      <td>F</td>\n",
       "      <td>995.00</td>\n",
       "      <td>348.0</td>\n",
       "      <td>316</td>\n",
       "      <td>280.0</td>\n",
       "      <td>252</td>\n",
       "      <td>0</td>\n",
       "      <td>17991</td>\n",
       "      <td>6</td>\n",
       "      <td>6.000000</td>\n",
       "      <td>C2</td>\n",
       "      <td>5.0</td>\n",
       "    </tr>\n",
       "  </tbody>\n",
       "</table>\n",
       "</div>"
      ],
      "text/plain": [
       "  state gender median_home_val  avg_fam_income  avg_household_income  \\\n",
       "0    FL      M          AAA896           520.0                   466   \n",
       "1    IL      M          537.00           473.0                   410   \n",
       "2    FL      F          725.00           436.0                   361   \n",
       "3    NC      M         AAA1095           413.0                   399   \n",
       "4    FL      F          995.00           348.0                   316   \n",
       "\n",
       "   med_fam_income  median_household_income  hvp1 per_capita_income  pobc2  \\\n",
       "0           430.0                      392     7             21975     16   \n",
       "1           415.0                      365     0             19387     89   \n",
       "2           340.0                      301     3             18837     17   \n",
       "3           407.0                      401     7             14014     74   \n",
       "4           280.0                      252     0             17991      6   \n",
       "\n",
       "     avggift domain  target_d  \n",
       "0  28.000000     C2     100.0  \n",
       "1   5.666667     T2       7.0  \n",
       "2   4.111111     C2       5.0  \n",
       "3  27.277778     T2      38.0  \n",
       "4   6.000000     C2       5.0  "
      ]
     },
     "execution_count": 40,
     "metadata": {},
     "output_type": "execute_result"
    }
   ],
   "source": [
    "hk_df.head()"
   ]
  },
  {
   "cell_type": "markdown",
   "metadata": {
    "id": "sBBz-8qUxy-c"
   },
   "source": [
    "Select columns \"gender\" and \"medina_home_value\", and rows 4 to 10:"
   ]
  },
  {
   "cell_type": "code",
   "execution_count": 41,
   "metadata": {},
   "outputs": [
    {
     "data": {
      "text/plain": [
       "0          M\n",
       "1          M\n",
       "2          F\n",
       "3          M\n",
       "4          F\n",
       "        ... \n",
       "1001       F\n",
       "1002       M\n",
       "1003       M\n",
       "1004    male\n",
       "1005       M\n",
       "Name: gender, Length: 4028, dtype: object"
      ]
     },
     "execution_count": 41,
     "metadata": {},
     "output_type": "execute_result"
    }
   ],
   "source": [
    "hk_df.gender"
   ]
  },
  {
   "cell_type": "code",
   "execution_count": 42,
   "metadata": {},
   "outputs": [
    {
     "data": {
      "text/plain": [
       "array(['M', 'F', 'female', 'Male', nan, 'U', 'J', 'male', 'Female',\n",
       "       'feamale', 'A'], dtype=object)"
      ]
     },
     "execution_count": 42,
     "metadata": {},
     "output_type": "execute_result"
    }
   ],
   "source": [
    "hk_df.gender.unique()"
   ]
  },
  {
   "cell_type": "code",
   "execution_count": 43,
   "metadata": {
    "colab": {
     "base_uri": "https://localhost:8080/",
     "height": 228
    },
    "executionInfo": {
     "elapsed": 480,
     "status": "ok",
     "timestamp": 1623070669029,
     "user": {
      "displayName": "Ignacio Soteras",
      "photoUrl": "",
      "userId": "02050793736257155229"
     },
     "user_tz": -120
    },
    "id": "MNPC9M0_xy-c",
    "outputId": "ac4f66a9-7dec-4dbd-c299-d92ab82d88e2"
   },
   "outputs": [
    {
     "data": {
      "text/html": [
       "<div>\n",
       "<style scoped>\n",
       "    .dataframe tbody tr th:only-of-type {\n",
       "        vertical-align: middle;\n",
       "    }\n",
       "\n",
       "    .dataframe tbody tr th {\n",
       "        vertical-align: top;\n",
       "    }\n",
       "\n",
       "    .dataframe thead th {\n",
       "        text-align: right;\n",
       "    }\n",
       "</style>\n",
       "<table border=\"1\" class=\"dataframe\">\n",
       "  <thead>\n",
       "    <tr style=\"text-align: right;\">\n",
       "      <th></th>\n",
       "      <th>median_home_val</th>\n",
       "      <th>gender</th>\n",
       "    </tr>\n",
       "  </thead>\n",
       "  <tbody>\n",
       "    <tr>\n",
       "      <th>4</th>\n",
       "      <td>995.00</td>\n",
       "      <td>F</td>\n",
       "    </tr>\n",
       "    <tr>\n",
       "      <th>5</th>\n",
       "      <td>764.00</td>\n",
       "      <td>M</td>\n",
       "    </tr>\n",
       "    <tr>\n",
       "      <th>6</th>\n",
       "      <td>775.00</td>\n",
       "      <td>female</td>\n",
       "    </tr>\n",
       "    <tr>\n",
       "      <th>7</th>\n",
       "      <td>890.00</td>\n",
       "      <td>M</td>\n",
       "    </tr>\n",
       "    <tr>\n",
       "      <th>8</th>\n",
       "      <td>NaN</td>\n",
       "      <td>F</td>\n",
       "    </tr>\n",
       "    <tr>\n",
       "      <th>9</th>\n",
       "      <td>AAA2294</td>\n",
       "      <td>F</td>\n",
       "    </tr>\n",
       "  </tbody>\n",
       "</table>\n",
       "</div>"
      ],
      "text/plain": [
       "  median_home_val  gender\n",
       "4          995.00       F\n",
       "5          764.00       M\n",
       "6          775.00  female\n",
       "7          890.00       M\n",
       "8             NaN       F\n",
       "9         AAA2294       F"
      ]
     },
     "execution_count": 43,
     "metadata": {},
     "output_type": "execute_result"
    }
   ],
   "source": [
    "hk_df.iloc[4:10,[2,1]]"
   ]
  },
  {
   "cell_type": "code",
   "execution_count": 44,
   "metadata": {
    "colab": {
     "base_uri": "https://localhost:8080/",
     "height": 248
    },
    "executionInfo": {
     "elapsed": 398,
     "status": "ok",
     "timestamp": 1623070716408,
     "user": {
      "displayName": "Ignacio Soteras",
      "photoUrl": "",
      "userId": "02050793736257155229"
     },
     "user_tz": -120
    },
    "id": "fVXPisAUCMWd",
    "outputId": "9853afd9-6094-41ce-f923-c4578cb85675"
   },
   "outputs": [
    {
     "data": {
      "text/html": [
       "<div>\n",
       "<style scoped>\n",
       "    .dataframe tbody tr th:only-of-type {\n",
       "        vertical-align: middle;\n",
       "    }\n",
       "\n",
       "    .dataframe tbody tr th {\n",
       "        vertical-align: top;\n",
       "    }\n",
       "\n",
       "    .dataframe thead th {\n",
       "        text-align: right;\n",
       "    }\n",
       "</style>\n",
       "<table border=\"1\" class=\"dataframe\">\n",
       "  <thead>\n",
       "    <tr style=\"text-align: right;\">\n",
       "      <th></th>\n",
       "      <th>state</th>\n",
       "      <th>gender</th>\n",
       "      <th>median_home_val</th>\n",
       "      <th>avg_fam_income</th>\n",
       "      <th>avg_household_income</th>\n",
       "      <th>med_fam_income</th>\n",
       "      <th>median_household_income</th>\n",
       "      <th>hvp1</th>\n",
       "      <th>per_capita_income</th>\n",
       "      <th>pobc2</th>\n",
       "      <th>avggift</th>\n",
       "      <th>domain</th>\n",
       "      <th>target_d</th>\n",
       "    </tr>\n",
       "  </thead>\n",
       "  <tbody>\n",
       "    <tr>\n",
       "      <th>4</th>\n",
       "      <td>FL</td>\n",
       "      <td>F</td>\n",
       "      <td>995.00</td>\n",
       "      <td>348.0</td>\n",
       "      <td>316</td>\n",
       "      <td>280.0</td>\n",
       "      <td>252</td>\n",
       "      <td>0</td>\n",
       "      <td>17991</td>\n",
       "      <td>6</td>\n",
       "      <td>6.000000</td>\n",
       "      <td>C2</td>\n",
       "      <td>5.0</td>\n",
       "    </tr>\n",
       "    <tr>\n",
       "      <th>5</th>\n",
       "      <td>IL</td>\n",
       "      <td>M</td>\n",
       "      <td>764.00</td>\n",
       "      <td>501.0</td>\n",
       "      <td>480</td>\n",
       "      <td>477.0</td>\n",
       "      <td>457</td>\n",
       "      <td>1</td>\n",
       "      <td>16022</td>\n",
       "      <td>75</td>\n",
       "      <td>25.571429</td>\n",
       "      <td>S2</td>\n",
       "      <td>30.0</td>\n",
       "    </tr>\n",
       "    <tr>\n",
       "      <th>6</th>\n",
       "      <td>NC</td>\n",
       "      <td>female</td>\n",
       "      <td>775.00</td>\n",
       "      <td>419.0</td>\n",
       "      <td>380</td>\n",
       "      <td>364.0</td>\n",
       "      <td>318</td>\n",
       "      <td>5</td>\n",
       "      <td>13491</td>\n",
       "      <td>73</td>\n",
       "      <td>4.625000</td>\n",
       "      <td>R2</td>\n",
       "      <td>12.0</td>\n",
       "    </tr>\n",
       "    <tr>\n",
       "      <th>7</th>\n",
       "      <td>TX</td>\n",
       "      <td>M</td>\n",
       "      <td>890.00</td>\n",
       "      <td>560.0</td>\n",
       "      <td>551</td>\n",
       "      <td>525.0</td>\n",
       "      <td>519</td>\n",
       "      <td>0</td>\n",
       "      <td>17872</td>\n",
       "      <td>46</td>\n",
       "      <td>6.175000</td>\n",
       "      <td>C1</td>\n",
       "      <td>7.0</td>\n",
       "    </tr>\n",
       "    <tr>\n",
       "      <th>8</th>\n",
       "      <td>CA</td>\n",
       "      <td>F</td>\n",
       "      <td>NaN</td>\n",
       "      <td>250.0</td>\n",
       "      <td>235</td>\n",
       "      <td>206.0</td>\n",
       "      <td>184</td>\n",
       "      <td>0</td>\n",
       "      <td>8708</td>\n",
       "      <td>63</td>\n",
       "      <td>8.818182</td>\n",
       "      <td>T2</td>\n",
       "      <td>10.0</td>\n",
       "    </tr>\n",
       "    <tr>\n",
       "      <th>9</th>\n",
       "      <td>CA</td>\n",
       "      <td>F</td>\n",
       "      <td>AAA2294</td>\n",
       "      <td>617.0</td>\n",
       "      <td>619</td>\n",
       "      <td>NaN</td>\n",
       "      <td>593</td>\n",
       "      <td>61</td>\n",
       "      <td>17838</td>\n",
       "      <td>62</td>\n",
       "      <td>6.666667</td>\n",
       "      <td>S1</td>\n",
       "      <td>10.0</td>\n",
       "    </tr>\n",
       "  </tbody>\n",
       "</table>\n",
       "</div>"
      ],
      "text/plain": [
       "  state  gender median_home_val  avg_fam_income  avg_household_income  \\\n",
       "4    FL       F          995.00           348.0                   316   \n",
       "5    IL       M          764.00           501.0                   480   \n",
       "6    NC  female          775.00           419.0                   380   \n",
       "7    TX       M          890.00           560.0                   551   \n",
       "8    CA       F             NaN           250.0                   235   \n",
       "9    CA       F         AAA2294           617.0                   619   \n",
       "\n",
       "   med_fam_income  median_household_income  hvp1 per_capita_income  pobc2  \\\n",
       "4           280.0                      252     0             17991      6   \n",
       "5           477.0                      457     1             16022     75   \n",
       "6           364.0                      318     5             13491     73   \n",
       "7           525.0                      519     0             17872     46   \n",
       "8           206.0                      184     0              8708     63   \n",
       "9             NaN                      593    61             17838     62   \n",
       "\n",
       "     avggift domain  target_d  \n",
       "4   6.000000     C2       5.0  \n",
       "5  25.571429     S2      30.0  \n",
       "6   4.625000     R2      12.0  \n",
       "7   6.175000     C1       7.0  \n",
       "8   8.818182     T2      10.0  \n",
       "9   6.666667     S1      10.0  "
      ]
     },
     "execution_count": 44,
     "metadata": {},
     "output_type": "execute_result"
    }
   ],
   "source": [
    "hk_df.iloc[4:10,:]"
   ]
  },
  {
   "cell_type": "code",
   "execution_count": 45,
   "metadata": {
    "colab": {
     "base_uri": "https://localhost:8080/",
     "height": 407
    },
    "executionInfo": {
     "elapsed": 6,
     "status": "ok",
     "timestamp": 1623070736182,
     "user": {
      "displayName": "Ignacio Soteras",
      "photoUrl": "",
      "userId": "02050793736257155229"
     },
     "user_tz": -120
    },
    "id": "p-OeIwn2CVkS",
    "outputId": "988f540e-76cb-427a-b807-31c34b8df25b"
   },
   "outputs": [
    {
     "data": {
      "text/html": [
       "<div>\n",
       "<style scoped>\n",
       "    .dataframe tbody tr th:only-of-type {\n",
       "        vertical-align: middle;\n",
       "    }\n",
       "\n",
       "    .dataframe tbody tr th {\n",
       "        vertical-align: top;\n",
       "    }\n",
       "\n",
       "    .dataframe thead th {\n",
       "        text-align: right;\n",
       "    }\n",
       "</style>\n",
       "<table border=\"1\" class=\"dataframe\">\n",
       "  <thead>\n",
       "    <tr style=\"text-align: right;\">\n",
       "      <th></th>\n",
       "      <th>avg_household_income</th>\n",
       "      <th>med_fam_income</th>\n",
       "      <th>median_household_income</th>\n",
       "      <th>hvp1</th>\n",
       "      <th>per_capita_income</th>\n",
       "      <th>pobc2</th>\n",
       "    </tr>\n",
       "  </thead>\n",
       "  <tbody>\n",
       "    <tr>\n",
       "      <th>0</th>\n",
       "      <td>466</td>\n",
       "      <td>430.0</td>\n",
       "      <td>392</td>\n",
       "      <td>7</td>\n",
       "      <td>21975</td>\n",
       "      <td>16</td>\n",
       "    </tr>\n",
       "    <tr>\n",
       "      <th>1</th>\n",
       "      <td>410</td>\n",
       "      <td>415.0</td>\n",
       "      <td>365</td>\n",
       "      <td>0</td>\n",
       "      <td>19387</td>\n",
       "      <td>89</td>\n",
       "    </tr>\n",
       "    <tr>\n",
       "      <th>2</th>\n",
       "      <td>361</td>\n",
       "      <td>340.0</td>\n",
       "      <td>301</td>\n",
       "      <td>3</td>\n",
       "      <td>18837</td>\n",
       "      <td>17</td>\n",
       "    </tr>\n",
       "    <tr>\n",
       "      <th>3</th>\n",
       "      <td>399</td>\n",
       "      <td>407.0</td>\n",
       "      <td>401</td>\n",
       "      <td>7</td>\n",
       "      <td>14014</td>\n",
       "      <td>74</td>\n",
       "    </tr>\n",
       "    <tr>\n",
       "      <th>4</th>\n",
       "      <td>316</td>\n",
       "      <td>280.0</td>\n",
       "      <td>252</td>\n",
       "      <td>0</td>\n",
       "      <td>17991</td>\n",
       "      <td>6</td>\n",
       "    </tr>\n",
       "    <tr>\n",
       "      <th>...</th>\n",
       "      <td>...</td>\n",
       "      <td>...</td>\n",
       "      <td>...</td>\n",
       "      <td>...</td>\n",
       "      <td>...</td>\n",
       "      <td>...</td>\n",
       "    </tr>\n",
       "    <tr>\n",
       "      <th>1001</th>\n",
       "      <td>450</td>\n",
       "      <td>424.0</td>\n",
       "      <td>396</td>\n",
       "      <td>0</td>\n",
       "      <td>15356</td>\n",
       "      <td>37</td>\n",
       "    </tr>\n",
       "    <tr>\n",
       "      <th>1002</th>\n",
       "      <td>200</td>\n",
       "      <td>406.0</td>\n",
       "      <td>100</td>\n",
       "      <td>4</td>\n",
       "      <td>11670</td>\n",
       "      <td>27</td>\n",
       "    </tr>\n",
       "    <tr>\n",
       "      <th>1003</th>\n",
       "      <td>274</td>\n",
       "      <td>298.0</td>\n",
       "      <td>258</td>\n",
       "      <td>0</td>\n",
       "      <td>10186</td>\n",
       "      <td>70</td>\n",
       "    </tr>\n",
       "    <tr>\n",
       "      <th>1004</th>\n",
       "      <td>295</td>\n",
       "      <td>386.0</td>\n",
       "      <td>217</td>\n",
       "      <td>0</td>\n",
       "      <td>12315</td>\n",
       "      <td>96</td>\n",
       "    </tr>\n",
       "    <tr>\n",
       "      <th>1005</th>\n",
       "      <td>455</td>\n",
       "      <td>451.0</td>\n",
       "      <td>431</td>\n",
       "      <td>0</td>\n",
       "      <td>14845</td>\n",
       "      <td>77</td>\n",
       "    </tr>\n",
       "  </tbody>\n",
       "</table>\n",
       "<p>4028 rows × 6 columns</p>\n",
       "</div>"
      ],
      "text/plain": [
       "      avg_household_income  med_fam_income  median_household_income  hvp1  \\\n",
       "0                      466           430.0                      392     7   \n",
       "1                      410           415.0                      365     0   \n",
       "2                      361           340.0                      301     3   \n",
       "3                      399           407.0                      401     7   \n",
       "4                      316           280.0                      252     0   \n",
       "...                    ...             ...                      ...   ...   \n",
       "1001                   450           424.0                      396     0   \n",
       "1002                   200           406.0                      100     4   \n",
       "1003                   274           298.0                      258     0   \n",
       "1004                   295           386.0                      217     0   \n",
       "1005                   455           451.0                      431     0   \n",
       "\n",
       "     per_capita_income  pobc2  \n",
       "0                21975     16  \n",
       "1                19387     89  \n",
       "2                18837     17  \n",
       "3                14014     74  \n",
       "4                17991      6  \n",
       "...                ...    ...  \n",
       "1001             15356     37  \n",
       "1002             11670     27  \n",
       "1003             10186     70  \n",
       "1004             12315     96  \n",
       "1005             14845     77  \n",
       "\n",
       "[4028 rows x 6 columns]"
      ]
     },
     "execution_count": 45,
     "metadata": {},
     "output_type": "execute_result"
    }
   ],
   "source": [
    "hk_df.iloc[:,4:10]"
   ]
  },
  {
   "cell_type": "markdown",
   "metadata": {
    "id": "iQ5lqcpmxy-d"
   },
   "source": [
    "#### Correcting data types\n",
    "\n",
    "With `to_numeric` "
   ]
  },
  {
   "cell_type": "code",
   "execution_count": 46,
   "metadata": {},
   "outputs": [
    {
     "data": {
      "text/plain": [
       "state                       object\n",
       "gender                      object\n",
       "median_home_val             object\n",
       "avg_fam_income             float64\n",
       "avg_household_income         int64\n",
       "med_fam_income             float64\n",
       "median_household_income      int64\n",
       "hvp1                         int64\n",
       "per_capita_income           object\n",
       "pobc2                        int64\n",
       "avggift                    float64\n",
       "domain                      object\n",
       "target_d                   float64\n",
       "dtype: object"
      ]
     },
     "execution_count": 46,
     "metadata": {},
     "output_type": "execute_result"
    }
   ],
   "source": [
    "hk_df.dtypes"
   ]
  },
  {
   "cell_type": "code",
   "execution_count": 47,
   "metadata": {},
   "outputs": [],
   "source": [
    "hk_df['median_home_val'] =  pd.to_numeric(hk_df['median_home_val'], errors='coerce')\n",
    "hk_df['median_household_income'] =  pd.to_numeric(hk_df['median_household_income'], errors='coerce')\n",
    "hk_df['per_capita_income'] =  pd.to_numeric(hk_df['per_capita_income'], errors='coerce')"
   ]
  },
  {
   "cell_type": "code",
   "execution_count": 48,
   "metadata": {
    "executionInfo": {
     "elapsed": 385,
     "status": "ok",
     "timestamp": 1623071096049,
     "user": {
      "displayName": "Ignacio Soteras",
      "photoUrl": "",
      "userId": "02050793736257155229"
     },
     "user_tz": -120
    },
    "id": "1tpj5avJxy-d"
   },
   "outputs": [],
   "source": [
    "hk_df['avggift'] = hk_df['avggift'].astype('int')"
   ]
  },
  {
   "cell_type": "code",
   "execution_count": 49,
   "metadata": {},
   "outputs": [
    {
     "data": {
      "text/plain": [
       "state                       object\n",
       "gender                      object\n",
       "median_home_val            float64\n",
       "avg_fam_income             float64\n",
       "avg_household_income         int64\n",
       "med_fam_income             float64\n",
       "median_household_income      int64\n",
       "hvp1                         int64\n",
       "per_capita_income          float64\n",
       "pobc2                        int64\n",
       "avggift                      int64\n",
       "domain                      object\n",
       "target_d                   float64\n",
       "dtype: object"
      ]
     },
     "execution_count": 49,
     "metadata": {},
     "output_type": "execute_result"
    }
   ],
   "source": [
    "hk_df.dtypes"
   ]
  },
  {
   "cell_type": "code",
   "execution_count": 50,
   "metadata": {},
   "outputs": [
    {
     "data": {
      "text/html": [
       "<div>\n",
       "<style scoped>\n",
       "    .dataframe tbody tr th:only-of-type {\n",
       "        vertical-align: middle;\n",
       "    }\n",
       "\n",
       "    .dataframe tbody tr th {\n",
       "        vertical-align: top;\n",
       "    }\n",
       "\n",
       "    .dataframe thead th {\n",
       "        text-align: right;\n",
       "    }\n",
       "</style>\n",
       "<table border=\"1\" class=\"dataframe\">\n",
       "  <thead>\n",
       "    <tr style=\"text-align: right;\">\n",
       "      <th></th>\n",
       "      <th>state</th>\n",
       "      <th>gender</th>\n",
       "      <th>domain</th>\n",
       "    </tr>\n",
       "  </thead>\n",
       "  <tbody>\n",
       "    <tr>\n",
       "      <th>0</th>\n",
       "      <td>FL</td>\n",
       "      <td>M</td>\n",
       "      <td>C2</td>\n",
       "    </tr>\n",
       "    <tr>\n",
       "      <th>1</th>\n",
       "      <td>IL</td>\n",
       "      <td>M</td>\n",
       "      <td>T2</td>\n",
       "    </tr>\n",
       "    <tr>\n",
       "      <th>2</th>\n",
       "      <td>FL</td>\n",
       "      <td>F</td>\n",
       "      <td>C2</td>\n",
       "    </tr>\n",
       "    <tr>\n",
       "      <th>3</th>\n",
       "      <td>NC</td>\n",
       "      <td>M</td>\n",
       "      <td>T2</td>\n",
       "    </tr>\n",
       "    <tr>\n",
       "      <th>4</th>\n",
       "      <td>FL</td>\n",
       "      <td>F</td>\n",
       "      <td>C2</td>\n",
       "    </tr>\n",
       "    <tr>\n",
       "      <th>...</th>\n",
       "      <td>...</td>\n",
       "      <td>...</td>\n",
       "      <td>...</td>\n",
       "    </tr>\n",
       "    <tr>\n",
       "      <th>1001</th>\n",
       "      <td>FL</td>\n",
       "      <td>F</td>\n",
       "      <td>S2</td>\n",
       "    </tr>\n",
       "    <tr>\n",
       "      <th>1002</th>\n",
       "      <td>FL</td>\n",
       "      <td>M</td>\n",
       "      <td>C1</td>\n",
       "    </tr>\n",
       "    <tr>\n",
       "      <th>1003</th>\n",
       "      <td>ND</td>\n",
       "      <td>M</td>\n",
       "      <td>S2</td>\n",
       "    </tr>\n",
       "    <tr>\n",
       "      <th>1004</th>\n",
       "      <td>WI</td>\n",
       "      <td>male</td>\n",
       "      <td>T2</td>\n",
       "    </tr>\n",
       "    <tr>\n",
       "      <th>1005</th>\n",
       "      <td>MI</td>\n",
       "      <td>M</td>\n",
       "      <td>S2</td>\n",
       "    </tr>\n",
       "  </tbody>\n",
       "</table>\n",
       "<p>4028 rows × 3 columns</p>\n",
       "</div>"
      ],
      "text/plain": [
       "     state gender domain\n",
       "0       FL      M     C2\n",
       "1       IL      M     T2\n",
       "2       FL      F     C2\n",
       "3       NC      M     T2\n",
       "4       FL      F     C2\n",
       "...    ...    ...    ...\n",
       "1001    FL      F     S2\n",
       "1002    FL      M     C1\n",
       "1003    ND      M     S2\n",
       "1004    WI   male     T2\n",
       "1005    MI      M     S2\n",
       "\n",
       "[4028 rows x 3 columns]"
      ]
     },
     "execution_count": 50,
     "metadata": {},
     "output_type": "execute_result"
    }
   ],
   "source": [
    "hk_df.select_dtypes('object')"
   ]
  },
  {
   "cell_type": "code",
   "execution_count": 51,
   "metadata": {},
   "outputs": [
    {
     "data": {
      "text/html": [
       "<div>\n",
       "<style scoped>\n",
       "    .dataframe tbody tr th:only-of-type {\n",
       "        vertical-align: middle;\n",
       "    }\n",
       "\n",
       "    .dataframe tbody tr th {\n",
       "        vertical-align: top;\n",
       "    }\n",
       "\n",
       "    .dataframe thead th {\n",
       "        text-align: right;\n",
       "    }\n",
       "</style>\n",
       "<table border=\"1\" class=\"dataframe\">\n",
       "  <thead>\n",
       "    <tr style=\"text-align: right;\">\n",
       "      <th></th>\n",
       "      <th>median_home_val</th>\n",
       "      <th>avg_fam_income</th>\n",
       "      <th>med_fam_income</th>\n",
       "      <th>per_capita_income</th>\n",
       "      <th>target_d</th>\n",
       "    </tr>\n",
       "  </thead>\n",
       "  <tbody>\n",
       "    <tr>\n",
       "      <th>0</th>\n",
       "      <td>NaN</td>\n",
       "      <td>520.0</td>\n",
       "      <td>430.0</td>\n",
       "      <td>21975.0</td>\n",
       "      <td>100.0</td>\n",
       "    </tr>\n",
       "    <tr>\n",
       "      <th>1</th>\n",
       "      <td>537.0</td>\n",
       "      <td>473.0</td>\n",
       "      <td>415.0</td>\n",
       "      <td>19387.0</td>\n",
       "      <td>7.0</td>\n",
       "    </tr>\n",
       "    <tr>\n",
       "      <th>2</th>\n",
       "      <td>725.0</td>\n",
       "      <td>436.0</td>\n",
       "      <td>340.0</td>\n",
       "      <td>18837.0</td>\n",
       "      <td>5.0</td>\n",
       "    </tr>\n",
       "    <tr>\n",
       "      <th>3</th>\n",
       "      <td>NaN</td>\n",
       "      <td>413.0</td>\n",
       "      <td>407.0</td>\n",
       "      <td>14014.0</td>\n",
       "      <td>38.0</td>\n",
       "    </tr>\n",
       "    <tr>\n",
       "      <th>4</th>\n",
       "      <td>995.0</td>\n",
       "      <td>348.0</td>\n",
       "      <td>280.0</td>\n",
       "      <td>17991.0</td>\n",
       "      <td>5.0</td>\n",
       "    </tr>\n",
       "    <tr>\n",
       "      <th>...</th>\n",
       "      <td>...</td>\n",
       "      <td>...</td>\n",
       "      <td>...</td>\n",
       "      <td>...</td>\n",
       "      <td>...</td>\n",
       "    </tr>\n",
       "    <tr>\n",
       "      <th>1001</th>\n",
       "      <td>742.0</td>\n",
       "      <td>470.0</td>\n",
       "      <td>424.0</td>\n",
       "      <td>15356.0</td>\n",
       "      <td>50.0</td>\n",
       "    </tr>\n",
       "    <tr>\n",
       "      <th>1002</th>\n",
       "      <td>599.0</td>\n",
       "      <td>423.0</td>\n",
       "      <td>406.0</td>\n",
       "      <td>11670.0</td>\n",
       "      <td>10.0</td>\n",
       "    </tr>\n",
       "    <tr>\n",
       "      <th>1003</th>\n",
       "      <td>593.0</td>\n",
       "      <td>299.0</td>\n",
       "      <td>298.0</td>\n",
       "      <td>10186.0</td>\n",
       "      <td>5.0</td>\n",
       "    </tr>\n",
       "    <tr>\n",
       "      <th>1004</th>\n",
       "      <td>564.0</td>\n",
       "      <td>397.0</td>\n",
       "      <td>386.0</td>\n",
       "      <td>12315.0</td>\n",
       "      <td>14.0</td>\n",
       "    </tr>\n",
       "    <tr>\n",
       "      <th>1005</th>\n",
       "      <td>651.0</td>\n",
       "      <td>505.0</td>\n",
       "      <td>451.0</td>\n",
       "      <td>14845.0</td>\n",
       "      <td>9.0</td>\n",
       "    </tr>\n",
       "  </tbody>\n",
       "</table>\n",
       "<p>4028 rows × 5 columns</p>\n",
       "</div>"
      ],
      "text/plain": [
       "      median_home_val  avg_fam_income  med_fam_income  per_capita_income  \\\n",
       "0                 NaN           520.0           430.0            21975.0   \n",
       "1               537.0           473.0           415.0            19387.0   \n",
       "2               725.0           436.0           340.0            18837.0   \n",
       "3                 NaN           413.0           407.0            14014.0   \n",
       "4               995.0           348.0           280.0            17991.0   \n",
       "...               ...             ...             ...                ...   \n",
       "1001            742.0           470.0           424.0            15356.0   \n",
       "1002            599.0           423.0           406.0            11670.0   \n",
       "1003            593.0           299.0           298.0            10186.0   \n",
       "1004            564.0           397.0           386.0            12315.0   \n",
       "1005            651.0           505.0           451.0            14845.0   \n",
       "\n",
       "      target_d  \n",
       "0        100.0  \n",
       "1          7.0  \n",
       "2          5.0  \n",
       "3         38.0  \n",
       "4          5.0  \n",
       "...        ...  \n",
       "1001      50.0  \n",
       "1002      10.0  \n",
       "1003       5.0  \n",
       "1004      14.0  \n",
       "1005       9.0  \n",
       "\n",
       "[4028 rows x 5 columns]"
      ]
     },
     "execution_count": 51,
     "metadata": {},
     "output_type": "execute_result"
    }
   ],
   "source": [
    "hk_df.select_dtypes('float64')"
   ]
  },
  {
   "cell_type": "code",
   "execution_count": 52,
   "metadata": {},
   "outputs": [
    {
     "data": {
      "text/html": [
       "<div>\n",
       "<style scoped>\n",
       "    .dataframe tbody tr th:only-of-type {\n",
       "        vertical-align: middle;\n",
       "    }\n",
       "\n",
       "    .dataframe tbody tr th {\n",
       "        vertical-align: top;\n",
       "    }\n",
       "\n",
       "    .dataframe thead th {\n",
       "        text-align: right;\n",
       "    }\n",
       "</style>\n",
       "<table border=\"1\" class=\"dataframe\">\n",
       "  <thead>\n",
       "    <tr style=\"text-align: right;\">\n",
       "      <th></th>\n",
       "      <th>median_home_val</th>\n",
       "      <th>avg_fam_income</th>\n",
       "      <th>avg_household_income</th>\n",
       "      <th>med_fam_income</th>\n",
       "      <th>median_household_income</th>\n",
       "      <th>hvp1</th>\n",
       "      <th>per_capita_income</th>\n",
       "      <th>pobc2</th>\n",
       "      <th>avggift</th>\n",
       "      <th>target_d</th>\n",
       "    </tr>\n",
       "  </thead>\n",
       "  <tbody>\n",
       "    <tr>\n",
       "      <th>0</th>\n",
       "      <td>NaN</td>\n",
       "      <td>520.0</td>\n",
       "      <td>466</td>\n",
       "      <td>430.0</td>\n",
       "      <td>392</td>\n",
       "      <td>7</td>\n",
       "      <td>21975.0</td>\n",
       "      <td>16</td>\n",
       "      <td>28</td>\n",
       "      <td>100.0</td>\n",
       "    </tr>\n",
       "    <tr>\n",
       "      <th>1</th>\n",
       "      <td>537.0</td>\n",
       "      <td>473.0</td>\n",
       "      <td>410</td>\n",
       "      <td>415.0</td>\n",
       "      <td>365</td>\n",
       "      <td>0</td>\n",
       "      <td>19387.0</td>\n",
       "      <td>89</td>\n",
       "      <td>5</td>\n",
       "      <td>7.0</td>\n",
       "    </tr>\n",
       "    <tr>\n",
       "      <th>2</th>\n",
       "      <td>725.0</td>\n",
       "      <td>436.0</td>\n",
       "      <td>361</td>\n",
       "      <td>340.0</td>\n",
       "      <td>301</td>\n",
       "      <td>3</td>\n",
       "      <td>18837.0</td>\n",
       "      <td>17</td>\n",
       "      <td>4</td>\n",
       "      <td>5.0</td>\n",
       "    </tr>\n",
       "    <tr>\n",
       "      <th>3</th>\n",
       "      <td>NaN</td>\n",
       "      <td>413.0</td>\n",
       "      <td>399</td>\n",
       "      <td>407.0</td>\n",
       "      <td>401</td>\n",
       "      <td>7</td>\n",
       "      <td>14014.0</td>\n",
       "      <td>74</td>\n",
       "      <td>27</td>\n",
       "      <td>38.0</td>\n",
       "    </tr>\n",
       "    <tr>\n",
       "      <th>4</th>\n",
       "      <td>995.0</td>\n",
       "      <td>348.0</td>\n",
       "      <td>316</td>\n",
       "      <td>280.0</td>\n",
       "      <td>252</td>\n",
       "      <td>0</td>\n",
       "      <td>17991.0</td>\n",
       "      <td>6</td>\n",
       "      <td>6</td>\n",
       "      <td>5.0</td>\n",
       "    </tr>\n",
       "    <tr>\n",
       "      <th>...</th>\n",
       "      <td>...</td>\n",
       "      <td>...</td>\n",
       "      <td>...</td>\n",
       "      <td>...</td>\n",
       "      <td>...</td>\n",
       "      <td>...</td>\n",
       "      <td>...</td>\n",
       "      <td>...</td>\n",
       "      <td>...</td>\n",
       "      <td>...</td>\n",
       "    </tr>\n",
       "    <tr>\n",
       "      <th>1001</th>\n",
       "      <td>742.0</td>\n",
       "      <td>470.0</td>\n",
       "      <td>450</td>\n",
       "      <td>424.0</td>\n",
       "      <td>396</td>\n",
       "      <td>0</td>\n",
       "      <td>15356.0</td>\n",
       "      <td>37</td>\n",
       "      <td>14</td>\n",
       "      <td>50.0</td>\n",
       "    </tr>\n",
       "    <tr>\n",
       "      <th>1002</th>\n",
       "      <td>599.0</td>\n",
       "      <td>423.0</td>\n",
       "      <td>200</td>\n",
       "      <td>406.0</td>\n",
       "      <td>100</td>\n",
       "      <td>4</td>\n",
       "      <td>11670.0</td>\n",
       "      <td>27</td>\n",
       "      <td>9</td>\n",
       "      <td>10.0</td>\n",
       "    </tr>\n",
       "    <tr>\n",
       "      <th>1003</th>\n",
       "      <td>593.0</td>\n",
       "      <td>299.0</td>\n",
       "      <td>274</td>\n",
       "      <td>298.0</td>\n",
       "      <td>258</td>\n",
       "      <td>0</td>\n",
       "      <td>10186.0</td>\n",
       "      <td>70</td>\n",
       "      <td>5</td>\n",
       "      <td>5.0</td>\n",
       "    </tr>\n",
       "    <tr>\n",
       "      <th>1004</th>\n",
       "      <td>564.0</td>\n",
       "      <td>397.0</td>\n",
       "      <td>295</td>\n",
       "      <td>386.0</td>\n",
       "      <td>217</td>\n",
       "      <td>0</td>\n",
       "      <td>12315.0</td>\n",
       "      <td>96</td>\n",
       "      <td>11</td>\n",
       "      <td>14.0</td>\n",
       "    </tr>\n",
       "    <tr>\n",
       "      <th>1005</th>\n",
       "      <td>651.0</td>\n",
       "      <td>505.0</td>\n",
       "      <td>455</td>\n",
       "      <td>451.0</td>\n",
       "      <td>431</td>\n",
       "      <td>0</td>\n",
       "      <td>14845.0</td>\n",
       "      <td>77</td>\n",
       "      <td>7</td>\n",
       "      <td>9.0</td>\n",
       "    </tr>\n",
       "  </tbody>\n",
       "</table>\n",
       "<p>4028 rows × 10 columns</p>\n",
       "</div>"
      ],
      "text/plain": [
       "      median_home_val  avg_fam_income  avg_household_income  med_fam_income  \\\n",
       "0                 NaN           520.0                   466           430.0   \n",
       "1               537.0           473.0                   410           415.0   \n",
       "2               725.0           436.0                   361           340.0   \n",
       "3                 NaN           413.0                   399           407.0   \n",
       "4               995.0           348.0                   316           280.0   \n",
       "...               ...             ...                   ...             ...   \n",
       "1001            742.0           470.0                   450           424.0   \n",
       "1002            599.0           423.0                   200           406.0   \n",
       "1003            593.0           299.0                   274           298.0   \n",
       "1004            564.0           397.0                   295           386.0   \n",
       "1005            651.0           505.0                   455           451.0   \n",
       "\n",
       "      median_household_income  hvp1  per_capita_income  pobc2  avggift  \\\n",
       "0                         392     7            21975.0     16       28   \n",
       "1                         365     0            19387.0     89        5   \n",
       "2                         301     3            18837.0     17        4   \n",
       "3                         401     7            14014.0     74       27   \n",
       "4                         252     0            17991.0      6        6   \n",
       "...                       ...   ...                ...    ...      ...   \n",
       "1001                      396     0            15356.0     37       14   \n",
       "1002                      100     4            11670.0     27        9   \n",
       "1003                      258     0            10186.0     70        5   \n",
       "1004                      217     0            12315.0     96       11   \n",
       "1005                      431     0            14845.0     77        7   \n",
       "\n",
       "      target_d  \n",
       "0        100.0  \n",
       "1          7.0  \n",
       "2          5.0  \n",
       "3         38.0  \n",
       "4          5.0  \n",
       "...        ...  \n",
       "1001      50.0  \n",
       "1002      10.0  \n",
       "1003       5.0  \n",
       "1004      14.0  \n",
       "1005       9.0  \n",
       "\n",
       "[4028 rows x 10 columns]"
      ]
     },
     "execution_count": 52,
     "metadata": {},
     "output_type": "execute_result"
    }
   ],
   "source": [
    "hk_df._get_numeric_data()"
   ]
  },
  {
   "cell_type": "markdown",
   "metadata": {
    "id": "TSiKcjoRxy-e"
   },
   "source": [
    "#### Removing duplicates\n",
    "\n",
    "We can remove duplicate rows with the method `drop_duplicates()`"
   ]
  },
  {
   "cell_type": "code",
   "execution_count": 53,
   "metadata": {
    "colab": {
     "base_uri": "https://localhost:8080/",
     "height": 427
    },
    "executionInfo": {
     "elapsed": 358,
     "status": "ok",
     "timestamp": 1623071156303,
     "user": {
      "displayName": "Ignacio Soteras",
      "photoUrl": "",
      "userId": "02050793736257155229"
     },
     "user_tz": -120
    },
    "id": "ZDYDHX-jxy-e",
    "outputId": "6be726f4-0cd6-4e8c-f774-fa7c5d19ec79"
   },
   "outputs": [
    {
     "data": {
      "text/html": [
       "<div>\n",
       "<style scoped>\n",
       "    .dataframe tbody tr th:only-of-type {\n",
       "        vertical-align: middle;\n",
       "    }\n",
       "\n",
       "    .dataframe tbody tr th {\n",
       "        vertical-align: top;\n",
       "    }\n",
       "\n",
       "    .dataframe thead th {\n",
       "        text-align: right;\n",
       "    }\n",
       "</style>\n",
       "<table border=\"1\" class=\"dataframe\">\n",
       "  <thead>\n",
       "    <tr style=\"text-align: right;\">\n",
       "      <th></th>\n",
       "      <th>state</th>\n",
       "      <th>gender</th>\n",
       "      <th>median_home_val</th>\n",
       "      <th>avg_fam_income</th>\n",
       "      <th>avg_household_income</th>\n",
       "      <th>med_fam_income</th>\n",
       "      <th>median_household_income</th>\n",
       "      <th>hvp1</th>\n",
       "      <th>per_capita_income</th>\n",
       "      <th>pobc2</th>\n",
       "      <th>avggift</th>\n",
       "      <th>domain</th>\n",
       "      <th>target_d</th>\n",
       "    </tr>\n",
       "  </thead>\n",
       "  <tbody>\n",
       "    <tr>\n",
       "      <th>0</th>\n",
       "      <td>FL</td>\n",
       "      <td>M</td>\n",
       "      <td>NaN</td>\n",
       "      <td>520.0</td>\n",
       "      <td>466</td>\n",
       "      <td>430.0</td>\n",
       "      <td>392</td>\n",
       "      <td>7</td>\n",
       "      <td>21975.0</td>\n",
       "      <td>16</td>\n",
       "      <td>28</td>\n",
       "      <td>C2</td>\n",
       "      <td>100.0</td>\n",
       "    </tr>\n",
       "    <tr>\n",
       "      <th>1</th>\n",
       "      <td>IL</td>\n",
       "      <td>M</td>\n",
       "      <td>537.0</td>\n",
       "      <td>473.0</td>\n",
       "      <td>410</td>\n",
       "      <td>415.0</td>\n",
       "      <td>365</td>\n",
       "      <td>0</td>\n",
       "      <td>19387.0</td>\n",
       "      <td>89</td>\n",
       "      <td>5</td>\n",
       "      <td>T2</td>\n",
       "      <td>7.0</td>\n",
       "    </tr>\n",
       "    <tr>\n",
       "      <th>2</th>\n",
       "      <td>FL</td>\n",
       "      <td>F</td>\n",
       "      <td>725.0</td>\n",
       "      <td>436.0</td>\n",
       "      <td>361</td>\n",
       "      <td>340.0</td>\n",
       "      <td>301</td>\n",
       "      <td>3</td>\n",
       "      <td>18837.0</td>\n",
       "      <td>17</td>\n",
       "      <td>4</td>\n",
       "      <td>C2</td>\n",
       "      <td>5.0</td>\n",
       "    </tr>\n",
       "    <tr>\n",
       "      <th>3</th>\n",
       "      <td>NC</td>\n",
       "      <td>M</td>\n",
       "      <td>NaN</td>\n",
       "      <td>413.0</td>\n",
       "      <td>399</td>\n",
       "      <td>407.0</td>\n",
       "      <td>401</td>\n",
       "      <td>7</td>\n",
       "      <td>14014.0</td>\n",
       "      <td>74</td>\n",
       "      <td>27</td>\n",
       "      <td>T2</td>\n",
       "      <td>38.0</td>\n",
       "    </tr>\n",
       "    <tr>\n",
       "      <th>4</th>\n",
       "      <td>FL</td>\n",
       "      <td>F</td>\n",
       "      <td>995.0</td>\n",
       "      <td>348.0</td>\n",
       "      <td>316</td>\n",
       "      <td>280.0</td>\n",
       "      <td>252</td>\n",
       "      <td>0</td>\n",
       "      <td>17991.0</td>\n",
       "      <td>6</td>\n",
       "      <td>6</td>\n",
       "      <td>C2</td>\n",
       "      <td>5.0</td>\n",
       "    </tr>\n",
       "    <tr>\n",
       "      <th>...</th>\n",
       "      <td>...</td>\n",
       "      <td>...</td>\n",
       "      <td>...</td>\n",
       "      <td>...</td>\n",
       "      <td>...</td>\n",
       "      <td>...</td>\n",
       "      <td>...</td>\n",
       "      <td>...</td>\n",
       "      <td>...</td>\n",
       "      <td>...</td>\n",
       "      <td>...</td>\n",
       "      <td>...</td>\n",
       "      <td>...</td>\n",
       "    </tr>\n",
       "    <tr>\n",
       "      <th>996</th>\n",
       "      <td>MI</td>\n",
       "      <td>F</td>\n",
       "      <td>632.0</td>\n",
       "      <td>388.0</td>\n",
       "      <td>339</td>\n",
       "      <td>336.0</td>\n",
       "      <td>279</td>\n",
       "      <td>2</td>\n",
       "      <td>12653.0</td>\n",
       "      <td>71</td>\n",
       "      <td>8</td>\n",
       "      <td>0</td>\n",
       "      <td>5.0</td>\n",
       "    </tr>\n",
       "    <tr>\n",
       "      <th>997</th>\n",
       "      <td>FL</td>\n",
       "      <td>M</td>\n",
       "      <td>595.0</td>\n",
       "      <td>274.0</td>\n",
       "      <td>262</td>\n",
       "      <td>263.0</td>\n",
       "      <td>252</td>\n",
       "      <td>0</td>\n",
       "      <td>11132.0</td>\n",
       "      <td>11</td>\n",
       "      <td>14</td>\n",
       "      <td>T2</td>\n",
       "      <td>20.0</td>\n",
       "    </tr>\n",
       "    <tr>\n",
       "      <th>998</th>\n",
       "      <td>CA</td>\n",
       "      <td>F</td>\n",
       "      <td>2707.0</td>\n",
       "      <td>537.0</td>\n",
       "      <td>538</td>\n",
       "      <td>504.0</td>\n",
       "      <td>507</td>\n",
       "      <td>80</td>\n",
       "      <td>16165.0</td>\n",
       "      <td>54</td>\n",
       "      <td>12</td>\n",
       "      <td>U1</td>\n",
       "      <td>22.0</td>\n",
       "    </tr>\n",
       "    <tr>\n",
       "      <th>999</th>\n",
       "      <td>CA</td>\n",
       "      <td>M</td>\n",
       "      <td>2666.0</td>\n",
       "      <td>653.0</td>\n",
       "      <td>612</td>\n",
       "      <td>609.0</td>\n",
       "      <td>535</td>\n",
       "      <td>63</td>\n",
       "      <td>24745.0</td>\n",
       "      <td>45</td>\n",
       "      <td>12</td>\n",
       "      <td>S1</td>\n",
       "      <td>21.0</td>\n",
       "    </tr>\n",
       "    <tr>\n",
       "      <th>1000</th>\n",
       "      <td>MI</td>\n",
       "      <td>M</td>\n",
       "      <td>444.0</td>\n",
       "      <td>299.0</td>\n",
       "      <td>269</td>\n",
       "      <td>264.0</td>\n",
       "      <td>225</td>\n",
       "      <td>3</td>\n",
       "      <td>10088.0</td>\n",
       "      <td>86</td>\n",
       "      <td>17</td>\n",
       "      <td>R2</td>\n",
       "      <td>25.0</td>\n",
       "    </tr>\n",
       "  </tbody>\n",
       "</table>\n",
       "<p>3999 rows × 13 columns</p>\n",
       "</div>"
      ],
      "text/plain": [
       "     state gender  median_home_val  avg_fam_income  avg_household_income  \\\n",
       "0       FL      M              NaN           520.0                   466   \n",
       "1       IL      M            537.0           473.0                   410   \n",
       "2       FL      F            725.0           436.0                   361   \n",
       "3       NC      M              NaN           413.0                   399   \n",
       "4       FL      F            995.0           348.0                   316   \n",
       "...    ...    ...              ...             ...                   ...   \n",
       "996     MI      F            632.0           388.0                   339   \n",
       "997     FL      M            595.0           274.0                   262   \n",
       "998     CA      F           2707.0           537.0                   538   \n",
       "999     CA      M           2666.0           653.0                   612   \n",
       "1000    MI      M            444.0           299.0                   269   \n",
       "\n",
       "      med_fam_income  median_household_income  hvp1  per_capita_income  pobc2  \\\n",
       "0              430.0                      392     7            21975.0     16   \n",
       "1              415.0                      365     0            19387.0     89   \n",
       "2              340.0                      301     3            18837.0     17   \n",
       "3              407.0                      401     7            14014.0     74   \n",
       "4              280.0                      252     0            17991.0      6   \n",
       "...              ...                      ...   ...                ...    ...   \n",
       "996            336.0                      279     2            12653.0     71   \n",
       "997            263.0                      252     0            11132.0     11   \n",
       "998            504.0                      507    80            16165.0     54   \n",
       "999            609.0                      535    63            24745.0     45   \n",
       "1000           264.0                      225     3            10088.0     86   \n",
       "\n",
       "      avggift domain  target_d  \n",
       "0          28     C2     100.0  \n",
       "1           5     T2       7.0  \n",
       "2           4     C2       5.0  \n",
       "3          27     T2      38.0  \n",
       "4           6     C2       5.0  \n",
       "...       ...    ...       ...  \n",
       "996         8      0       5.0  \n",
       "997        14     T2      20.0  \n",
       "998        12     U1      22.0  \n",
       "999        12     S1      21.0  \n",
       "1000       17     R2      25.0  \n",
       "\n",
       "[3999 rows x 13 columns]"
      ]
     },
     "execution_count": 53,
     "metadata": {},
     "output_type": "execute_result"
    }
   ],
   "source": [
    "hk_df.drop_duplicates()"
   ]
  },
  {
   "cell_type": "code",
   "execution_count": 54,
   "metadata": {},
   "outputs": [],
   "source": [
    "#hk_df.gender.drop_duplicates()"
   ]
  },
  {
   "cell_type": "markdown",
   "metadata": {},
   "source": [
    "- Dropping columns with more null values\n",
    "- Replacing / imputing null values\n",
    "- Removing outliers"
   ]
  },
  {
   "cell_type": "code",
   "execution_count": 55,
   "metadata": {},
   "outputs": [
    {
     "data": {
      "text/plain": [
       "state                      0.00\n",
       "gender                     3.38\n",
       "median_home_val            0.25\n",
       "avg_fam_income             0.02\n",
       "avg_household_income       0.00\n",
       "med_fam_income             0.02\n",
       "median_household_income    0.00\n",
       "hvp1                       0.00\n",
       "per_capita_income          0.15\n",
       "pobc2                      0.00\n",
       "avggift                    0.00\n",
       "domain                     0.00\n",
       "target_d                   0.00\n",
       "dtype: float64"
      ]
     },
     "execution_count": 55,
     "metadata": {},
     "output_type": "execute_result"
    }
   ],
   "source": [
    "# hk_df.isna().sum()\n",
    "# hk_df.isna().sum()/len(hk_df)\n",
    "round(hk_df.isna().sum()/len(hk_df),4)*100  # shows the percentage of null values in a column"
   ]
  },
  {
   "cell_type": "markdown",
   "metadata": {},
   "source": [
    "<b> dropping columns with more null values -- analyst decides the threshold value\n",
    "\n",
    "note: that the threshold values are usually higher percentages, for eg if 70% or more values in a column are missing, then its a good idea to drop those columns \n"
   ]
  },
  {
   "cell_type": "code",
   "execution_count": 56,
   "metadata": {},
   "outputs": [
    {
     "data": {
      "text/html": [
       "<div>\n",
       "<style scoped>\n",
       "    .dataframe tbody tr th:only-of-type {\n",
       "        vertical-align: middle;\n",
       "    }\n",
       "\n",
       "    .dataframe tbody tr th {\n",
       "        vertical-align: top;\n",
       "    }\n",
       "\n",
       "    .dataframe thead th {\n",
       "        text-align: right;\n",
       "    }\n",
       "</style>\n",
       "<table border=\"1\" class=\"dataframe\">\n",
       "  <thead>\n",
       "    <tr style=\"text-align: right;\">\n",
       "      <th></th>\n",
       "      <th>header_name</th>\n",
       "      <th>percent_nulls</th>\n",
       "    </tr>\n",
       "  </thead>\n",
       "  <tbody>\n",
       "    <tr>\n",
       "      <th>0</th>\n",
       "      <td>state</td>\n",
       "      <td>0.00</td>\n",
       "    </tr>\n",
       "    <tr>\n",
       "      <th>1</th>\n",
       "      <td>gender</td>\n",
       "      <td>3.38</td>\n",
       "    </tr>\n",
       "    <tr>\n",
       "      <th>2</th>\n",
       "      <td>median_home_val</td>\n",
       "      <td>0.25</td>\n",
       "    </tr>\n",
       "    <tr>\n",
       "      <th>3</th>\n",
       "      <td>avg_fam_income</td>\n",
       "      <td>0.02</td>\n",
       "    </tr>\n",
       "    <tr>\n",
       "      <th>4</th>\n",
       "      <td>avg_household_income</td>\n",
       "      <td>0.00</td>\n",
       "    </tr>\n",
       "    <tr>\n",
       "      <th>5</th>\n",
       "      <td>med_fam_income</td>\n",
       "      <td>0.02</td>\n",
       "    </tr>\n",
       "    <tr>\n",
       "      <th>6</th>\n",
       "      <td>median_household_income</td>\n",
       "      <td>0.00</td>\n",
       "    </tr>\n",
       "    <tr>\n",
       "      <th>7</th>\n",
       "      <td>hvp1</td>\n",
       "      <td>0.00</td>\n",
       "    </tr>\n",
       "    <tr>\n",
       "      <th>8</th>\n",
       "      <td>per_capita_income</td>\n",
       "      <td>0.15</td>\n",
       "    </tr>\n",
       "    <tr>\n",
       "      <th>9</th>\n",
       "      <td>pobc2</td>\n",
       "      <td>0.00</td>\n",
       "    </tr>\n",
       "    <tr>\n",
       "      <th>10</th>\n",
       "      <td>avggift</td>\n",
       "      <td>0.00</td>\n",
       "    </tr>\n",
       "    <tr>\n",
       "      <th>11</th>\n",
       "      <td>domain</td>\n",
       "      <td>0.00</td>\n",
       "    </tr>\n",
       "    <tr>\n",
       "      <th>12</th>\n",
       "      <td>target_d</td>\n",
       "      <td>0.00</td>\n",
       "    </tr>\n",
       "  </tbody>\n",
       "</table>\n",
       "</div>"
      ],
      "text/plain": [
       "                header_name  percent_nulls\n",
       "0                     state           0.00\n",
       "1                    gender           3.38\n",
       "2           median_home_val           0.25\n",
       "3            avg_fam_income           0.02\n",
       "4      avg_household_income           0.00\n",
       "5            med_fam_income           0.02\n",
       "6   median_household_income           0.00\n",
       "7                      hvp1           0.00\n",
       "8         per_capita_income           0.15\n",
       "9                     pobc2           0.00\n",
       "10                  avggift           0.00\n",
       "11                   domain           0.00\n",
       "12                 target_d           0.00"
      ]
     },
     "execution_count": 56,
     "metadata": {},
     "output_type": "execute_result"
    }
   ],
   "source": [
    "nulls_df = pd.DataFrame(round(hk_df.isna().sum()/len(hk_df),4)*100)\n",
    "nulls_df = nulls_df.reset_index()\n",
    "nulls_df.columns = ['header_name', 'percent_nulls']\n",
    "nulls_df"
   ]
  },
  {
   "cell_type": "code",
   "execution_count": 57,
   "metadata": {},
   "outputs": [
    {
     "name": "stdout",
     "output_type": "stream",
     "text": [
      "['gender']\n"
     ]
    }
   ],
   "source": [
    "columns_drop = nulls_df[nulls_df['percent_nulls']>3]['header_name']  # dummy case with 3 \n",
    "print(columns_drop.values)"
   ]
  },
  {
   "cell_type": "markdown",
   "metadata": {},
   "source": [
    "### Replacing / imputing null values"
   ]
  },
  {
   "cell_type": "markdown",
   "metadata": {},
   "source": [
    "Numerical columns: Some ways to approach the problem\n",
    "\n",
    "- Ignore these observations\n",
    "-Replace with general average\n",
    "-Replace with similar type of averages\n",
    "-Build model to predict missing values\n",
    "\n",
    "if you have sufficient hk_df and losing a few rows of hk_df is not too bad, you can filter those\n",
    "rows out as well"
   ]
  },
  {
   "cell_type": "code",
   "execution_count": 58,
   "metadata": {},
   "outputs": [
    {
     "data": {
      "text/html": [
       "<div>\n",
       "<style scoped>\n",
       "    .dataframe tbody tr th:only-of-type {\n",
       "        vertical-align: middle;\n",
       "    }\n",
       "\n",
       "    .dataframe tbody tr th {\n",
       "        vertical-align: top;\n",
       "    }\n",
       "\n",
       "    .dataframe thead th {\n",
       "        text-align: right;\n",
       "    }\n",
       "</style>\n",
       "<table border=\"1\" class=\"dataframe\">\n",
       "  <thead>\n",
       "    <tr style=\"text-align: right;\">\n",
       "      <th></th>\n",
       "      <th>state</th>\n",
       "      <th>gender</th>\n",
       "      <th>median_home_val</th>\n",
       "      <th>avg_fam_income</th>\n",
       "      <th>avg_household_income</th>\n",
       "      <th>med_fam_income</th>\n",
       "      <th>median_household_income</th>\n",
       "      <th>hvp1</th>\n",
       "      <th>per_capita_income</th>\n",
       "      <th>pobc2</th>\n",
       "      <th>avggift</th>\n",
       "      <th>domain</th>\n",
       "      <th>target_d</th>\n",
       "    </tr>\n",
       "  </thead>\n",
       "  <tbody>\n",
       "    <tr>\n",
       "      <th>15</th>\n",
       "      <td>MI</td>\n",
       "      <td>NaN</td>\n",
       "      <td>890.0</td>\n",
       "      <td>523.0</td>\n",
       "      <td>512</td>\n",
       "      <td>474.0</td>\n",
       "      <td>463</td>\n",
       "      <td>1</td>\n",
       "      <td>9493.0</td>\n",
       "      <td>53</td>\n",
       "      <td>11</td>\n",
       "      <td>S1</td>\n",
       "      <td>15.0</td>\n",
       "    </tr>\n",
       "    <tr>\n",
       "      <th>21</th>\n",
       "      <td>OK</td>\n",
       "      <td>NaN</td>\n",
       "      <td>1040.0</td>\n",
       "      <td>656.0</td>\n",
       "      <td>579</td>\n",
       "      <td>609.0</td>\n",
       "      <td>472</td>\n",
       "      <td>0</td>\n",
       "      <td>26962.0</td>\n",
       "      <td>56</td>\n",
       "      <td>11</td>\n",
       "      <td>C2</td>\n",
       "      <td>15.0</td>\n",
       "    </tr>\n",
       "    <tr>\n",
       "      <th>22</th>\n",
       "      <td>AR</td>\n",
       "      <td>NaN</td>\n",
       "      <td>603.0</td>\n",
       "      <td>341.0</td>\n",
       "      <td>288</td>\n",
       "      <td>264.0</td>\n",
       "      <td>208</td>\n",
       "      <td>2</td>\n",
       "      <td>12038.0</td>\n",
       "      <td>70</td>\n",
       "      <td>5</td>\n",
       "      <td>0</td>\n",
       "      <td>5.0</td>\n",
       "    </tr>\n",
       "    <tr>\n",
       "      <th>54</th>\n",
       "      <td>CA</td>\n",
       "      <td>NaN</td>\n",
       "      <td>2143.0</td>\n",
       "      <td>373.0</td>\n",
       "      <td>328</td>\n",
       "      <td>353.0</td>\n",
       "      <td>280</td>\n",
       "      <td>63</td>\n",
       "      <td>12935.0</td>\n",
       "      <td>36</td>\n",
       "      <td>9</td>\n",
       "      <td>0</td>\n",
       "      <td>14.0</td>\n",
       "    </tr>\n",
       "    <tr>\n",
       "      <th>77</th>\n",
       "      <td>Cali</td>\n",
       "      <td>NaN</td>\n",
       "      <td>2016.0</td>\n",
       "      <td>497.0</td>\n",
       "      <td>459</td>\n",
       "      <td>465.0</td>\n",
       "      <td>431</td>\n",
       "      <td>51</td>\n",
       "      <td>17882.0</td>\n",
       "      <td>53</td>\n",
       "      <td>8</td>\n",
       "      <td>S1</td>\n",
       "      <td>15.0</td>\n",
       "    </tr>\n",
       "    <tr>\n",
       "      <th>...</th>\n",
       "      <td>...</td>\n",
       "      <td>...</td>\n",
       "      <td>...</td>\n",
       "      <td>...</td>\n",
       "      <td>...</td>\n",
       "      <td>...</td>\n",
       "      <td>...</td>\n",
       "      <td>...</td>\n",
       "      <td>...</td>\n",
       "      <td>...</td>\n",
       "      <td>...</td>\n",
       "      <td>...</td>\n",
       "      <td>...</td>\n",
       "    </tr>\n",
       "    <tr>\n",
       "      <th>790</th>\n",
       "      <td>TN</td>\n",
       "      <td>NaN</td>\n",
       "      <td>1349.0</td>\n",
       "      <td>628.0</td>\n",
       "      <td>521</td>\n",
       "      <td>593.0</td>\n",
       "      <td>481</td>\n",
       "      <td>21</td>\n",
       "      <td>22094.0</td>\n",
       "      <td>45</td>\n",
       "      <td>5</td>\n",
       "      <td>T1</td>\n",
       "      <td>11.0</td>\n",
       "    </tr>\n",
       "    <tr>\n",
       "      <th>860</th>\n",
       "      <td>KY</td>\n",
       "      <td>NaN</td>\n",
       "      <td>896.0</td>\n",
       "      <td>507.0</td>\n",
       "      <td>493</td>\n",
       "      <td>464.0</td>\n",
       "      <td>455</td>\n",
       "      <td>1</td>\n",
       "      <td>18693.0</td>\n",
       "      <td>79</td>\n",
       "      <td>10</td>\n",
       "      <td>T1</td>\n",
       "      <td>19.0</td>\n",
       "    </tr>\n",
       "    <tr>\n",
       "      <th>894</th>\n",
       "      <td>TN</td>\n",
       "      <td>NaN</td>\n",
       "      <td>585.0</td>\n",
       "      <td>326.0</td>\n",
       "      <td>286</td>\n",
       "      <td>258.0</td>\n",
       "      <td>212</td>\n",
       "      <td>4</td>\n",
       "      <td>13218.0</td>\n",
       "      <td>71</td>\n",
       "      <td>10</td>\n",
       "      <td>R3</td>\n",
       "      <td>15.0</td>\n",
       "    </tr>\n",
       "    <tr>\n",
       "      <th>946</th>\n",
       "      <td>MI</td>\n",
       "      <td>NaN</td>\n",
       "      <td>928.0</td>\n",
       "      <td>527.0</td>\n",
       "      <td>403</td>\n",
       "      <td>463.0</td>\n",
       "      <td>334</td>\n",
       "      <td>1</td>\n",
       "      <td>23732.0</td>\n",
       "      <td>57</td>\n",
       "      <td>15</td>\n",
       "      <td>S3</td>\n",
       "      <td>25.0</td>\n",
       "    </tr>\n",
       "    <tr>\n",
       "      <th>966</th>\n",
       "      <td>FL</td>\n",
       "      <td>NaN</td>\n",
       "      <td>599.0</td>\n",
       "      <td>288.0</td>\n",
       "      <td>253</td>\n",
       "      <td>236.0</td>\n",
       "      <td>200</td>\n",
       "      <td>2</td>\n",
       "      <td>11547.0</td>\n",
       "      <td>34</td>\n",
       "      <td>7</td>\n",
       "      <td>T2</td>\n",
       "      <td>5.0</td>\n",
       "    </tr>\n",
       "  </tbody>\n",
       "</table>\n",
       "<p>136 rows × 13 columns</p>\n",
       "</div>"
      ],
      "text/plain": [
       "    state gender  median_home_val  avg_fam_income  avg_household_income  \\\n",
       "15     MI    NaN            890.0           523.0                   512   \n",
       "21     OK    NaN           1040.0           656.0                   579   \n",
       "22     AR    NaN            603.0           341.0                   288   \n",
       "54     CA    NaN           2143.0           373.0                   328   \n",
       "77   Cali    NaN           2016.0           497.0                   459   \n",
       "..    ...    ...              ...             ...                   ...   \n",
       "790    TN    NaN           1349.0           628.0                   521   \n",
       "860    KY    NaN            896.0           507.0                   493   \n",
       "894    TN    NaN            585.0           326.0                   286   \n",
       "946    MI    NaN            928.0           527.0                   403   \n",
       "966    FL    NaN            599.0           288.0                   253   \n",
       "\n",
       "     med_fam_income  median_household_income  hvp1  per_capita_income  pobc2  \\\n",
       "15            474.0                      463     1             9493.0     53   \n",
       "21            609.0                      472     0            26962.0     56   \n",
       "22            264.0                      208     2            12038.0     70   \n",
       "54            353.0                      280    63            12935.0     36   \n",
       "77            465.0                      431    51            17882.0     53   \n",
       "..              ...                      ...   ...                ...    ...   \n",
       "790           593.0                      481    21            22094.0     45   \n",
       "860           464.0                      455     1            18693.0     79   \n",
       "894           258.0                      212     4            13218.0     71   \n",
       "946           463.0                      334     1            23732.0     57   \n",
       "966           236.0                      200     2            11547.0     34   \n",
       "\n",
       "     avggift domain  target_d  \n",
       "15        11     S1      15.0  \n",
       "21        11     C2      15.0  \n",
       "22         5      0       5.0  \n",
       "54         9      0      14.0  \n",
       "77         8     S1      15.0  \n",
       "..       ...    ...       ...  \n",
       "790        5     T1      11.0  \n",
       "860       10     T1      19.0  \n",
       "894       10     R3      15.0  \n",
       "946       15     S3      25.0  \n",
       "966        7     T2       5.0  \n",
       "\n",
       "[136 rows x 13 columns]"
      ]
     },
     "execution_count": 58,
     "metadata": {},
     "output_type": "execute_result"
    }
   ],
   "source": [
    "hk_df[hk_df['gender'].isna()==True] # checking rows that are null based on a specific column "
   ]
  },
  {
   "cell_type": "code",
   "execution_count": 59,
   "metadata": {},
   "outputs": [],
   "source": [
    "hk_df = hk_df[hk_df['med_fam_income'].isna()==False] # Since these nulls are not a lot, we can filter them \n",
    "hk_df = hk_df[hk_df['avg_fam_income'].isna()==False]\n",
    "hk_df = hk_df[hk_df['per_capita_income'].isna()==False]"
   ]
  },
  {
   "cell_type": "code",
   "execution_count": 60,
   "metadata": {},
   "outputs": [],
   "source": [
    "mean_median_home_value = np.mean(hk_df['median_home_val'])\n",
    "hk_df['median_home_val'] = hk_df['median_home_val'].fillna(mean_median_home_value)"
   ]
  },
  {
   "cell_type": "markdown",
   "metadata": {},
   "source": [
    "Replacing null values for categorical variables \n",
    "\n",
    "General Approaches:\n",
    "    \n",
    "- Ignore observation\n",
    "- Replace by most frequent value\n",
    "- Replace using an algorithm like KNN using the neighbours.\n",
    "- Predict the observation using a multiclass predictor\n",
    "- Treat missing data as just another category\n",
    "\n"
   ]
  },
  {
   "cell_type": "code",
   "execution_count": 61,
   "metadata": {},
   "outputs": [
    {
     "data": {
      "text/plain": [
       "F          1958\n",
       "M          1474\n",
       "male        128\n",
       "female      106\n",
       "Female       77\n",
       "U            69\n",
       "Male         33\n",
       "J            23\n",
       "feamale      15\n",
       "A             1\n",
       "Name: gender, dtype: int64"
      ]
     },
     "execution_count": 61,
     "metadata": {},
     "output_type": "execute_result"
    }
   ],
   "source": [
    "hk_df['gender'].value_counts()"
   ]
  },
  {
   "cell_type": "code",
   "execution_count": 62,
   "metadata": {},
   "outputs": [
    {
     "data": {
      "text/plain": [
       "136"
      ]
     },
     "execution_count": 62,
     "metadata": {},
     "output_type": "execute_result"
    }
   ],
   "source": [
    "len(hk_df[hk_df['gender'].isna()==True])  # number of missing values"
   ]
  },
  {
   "cell_type": "code",
   "execution_count": 63,
   "metadata": {},
   "outputs": [],
   "source": [
    "hk_df['gender'] = hk_df['gender'].fillna('F')"
   ]
  },
  {
   "cell_type": "code",
   "execution_count": 64,
   "metadata": {},
   "outputs": [
    {
     "data": {
      "text/plain": [
       "array(['M', 'F', 'female', 'Male', 'U', 'J', 'male', 'Female', 'feamale',\n",
       "       'A'], dtype=object)"
      ]
     },
     "execution_count": 64,
     "metadata": {},
     "output_type": "execute_result"
    }
   ],
   "source": [
    "hk_df['gender'].unique() # check the unique values in the column"
   ]
  },
  {
   "cell_type": "markdown",
   "metadata": {},
   "source": [
    "Cleaning column gender using map function and another user defined function"
   ]
  },
  {
   "cell_type": "code",
   "execution_count": 65,
   "metadata": {},
   "outputs": [],
   "source": [
    "def clean_gender(x):\n",
    "    if x in ['M', 'MALE']:\n",
    "        return 'Male'\n",
    "    elif x.startswith('F'):\n",
    "        return 'Female'\n",
    "    else:\n",
    "        return 'U'"
   ]
  },
  {
   "cell_type": "code",
   "execution_count": 66,
   "metadata": {},
   "outputs": [],
   "source": [
    "hk_df['gender'] = list(map(clean_gender, hk_df['gender'])) "
   ]
  },
  {
   "cell_type": "code",
   "execution_count": 67,
   "metadata": {},
   "outputs": [
    {
     "data": {
      "text/plain": [
       "array(['Male', 'Female', 'U'], dtype=object)"
      ]
     },
     "execution_count": 67,
     "metadata": {},
     "output_type": "execute_result"
    }
   ],
   "source": [
    "hk_df.gender.unique()"
   ]
  },
  {
   "cell_type": "markdown",
   "metadata": {},
   "source": [
    "### Removing outliers \n",
    "This is done using a box plot which we will cover later. After identifying the upper limit and the lower limit values for a numerical column, we can use filters to remove those rows from the dataframe"
   ]
  },
  {
   "cell_type": "markdown",
   "metadata": {},
   "source": [
    "### Creating buckets / groups of data "
   ]
  },
  {
   "cell_type": "code",
   "execution_count": 68,
   "metadata": {},
   "outputs": [
    {
     "data": {
      "text/plain": [
       "0       (375.0, 750.0]\n",
       "1       (375.0, 750.0]\n",
       "2        (-1.5, 375.0]\n",
       "3       (375.0, 750.0]\n",
       "4        (-1.5, 375.0]\n",
       "             ...      \n",
       "1001    (375.0, 750.0]\n",
       "1002    (375.0, 750.0]\n",
       "1003     (-1.5, 375.0]\n",
       "1004    (375.0, 750.0]\n",
       "1005    (375.0, 750.0]\n",
       "Name: med_fam_income, Length: 4020, dtype: category\n",
       "Categories (4, interval[float64, right]): [(-1.5, 375.0] < (375.0, 750.0] < (750.0, 1125.0] < (1125.0, 1500.0]]"
      ]
     },
     "execution_count": 68,
     "metadata": {},
     "output_type": "execute_result"
    }
   ],
   "source": [
    "pd.cut(hk_df['med_fam_income'],4) # to check the bins"
   ]
  },
  {
   "cell_type": "code",
   "execution_count": 69,
   "metadata": {},
   "outputs": [],
   "source": [
    "med_fam_income_labels = ['Low', 'Moderate', 'High', 'Very High']\n",
    "##hk_df['med_fam_income_binned'] = pd.cut(hk_df['med_fam_income'],4, labels=med_fam_income_labels)\n"
   ]
  },
  {
   "cell_type": "code",
   "execution_count": 70,
   "metadata": {},
   "outputs": [
    {
     "data": {
      "text/html": [
       "<div>\n",
       "<style scoped>\n",
       "    .dataframe tbody tr th:only-of-type {\n",
       "        vertical-align: middle;\n",
       "    }\n",
       "\n",
       "    .dataframe tbody tr th {\n",
       "        vertical-align: top;\n",
       "    }\n",
       "\n",
       "    .dataframe thead th {\n",
       "        text-align: right;\n",
       "    }\n",
       "</style>\n",
       "<table border=\"1\" class=\"dataframe\">\n",
       "  <thead>\n",
       "    <tr style=\"text-align: right;\">\n",
       "      <th></th>\n",
       "      <th>state</th>\n",
       "      <th>gender</th>\n",
       "      <th>median_home_val</th>\n",
       "      <th>avg_fam_income</th>\n",
       "      <th>avg_household_income</th>\n",
       "      <th>med_fam_income</th>\n",
       "      <th>median_household_income</th>\n",
       "      <th>hvp1</th>\n",
       "      <th>per_capita_income</th>\n",
       "      <th>pobc2</th>\n",
       "      <th>avggift</th>\n",
       "      <th>domain</th>\n",
       "      <th>target_d</th>\n",
       "    </tr>\n",
       "  </thead>\n",
       "  <tbody>\n",
       "    <tr>\n",
       "      <th>0</th>\n",
       "      <td>FL</td>\n",
       "      <td>Male</td>\n",
       "      <td>1159.148591</td>\n",
       "      <td>520.0</td>\n",
       "      <td>466</td>\n",
       "      <td>430.0</td>\n",
       "      <td>392</td>\n",
       "      <td>7</td>\n",
       "      <td>21975.0</td>\n",
       "      <td>16</td>\n",
       "      <td>28</td>\n",
       "      <td>C2</td>\n",
       "      <td>100.0</td>\n",
       "    </tr>\n",
       "    <tr>\n",
       "      <th>1</th>\n",
       "      <td>IL</td>\n",
       "      <td>Male</td>\n",
       "      <td>537.000000</td>\n",
       "      <td>473.0</td>\n",
       "      <td>410</td>\n",
       "      <td>415.0</td>\n",
       "      <td>365</td>\n",
       "      <td>0</td>\n",
       "      <td>19387.0</td>\n",
       "      <td>89</td>\n",
       "      <td>5</td>\n",
       "      <td>T2</td>\n",
       "      <td>7.0</td>\n",
       "    </tr>\n",
       "    <tr>\n",
       "      <th>2</th>\n",
       "      <td>FL</td>\n",
       "      <td>Female</td>\n",
       "      <td>725.000000</td>\n",
       "      <td>436.0</td>\n",
       "      <td>361</td>\n",
       "      <td>340.0</td>\n",
       "      <td>301</td>\n",
       "      <td>3</td>\n",
       "      <td>18837.0</td>\n",
       "      <td>17</td>\n",
       "      <td>4</td>\n",
       "      <td>C2</td>\n",
       "      <td>5.0</td>\n",
       "    </tr>\n",
       "    <tr>\n",
       "      <th>3</th>\n",
       "      <td>NC</td>\n",
       "      <td>Male</td>\n",
       "      <td>1159.148591</td>\n",
       "      <td>413.0</td>\n",
       "      <td>399</td>\n",
       "      <td>407.0</td>\n",
       "      <td>401</td>\n",
       "      <td>7</td>\n",
       "      <td>14014.0</td>\n",
       "      <td>74</td>\n",
       "      <td>27</td>\n",
       "      <td>T2</td>\n",
       "      <td>38.0</td>\n",
       "    </tr>\n",
       "    <tr>\n",
       "      <th>4</th>\n",
       "      <td>FL</td>\n",
       "      <td>Female</td>\n",
       "      <td>995.000000</td>\n",
       "      <td>348.0</td>\n",
       "      <td>316</td>\n",
       "      <td>280.0</td>\n",
       "      <td>252</td>\n",
       "      <td>0</td>\n",
       "      <td>17991.0</td>\n",
       "      <td>6</td>\n",
       "      <td>6</td>\n",
       "      <td>C2</td>\n",
       "      <td>5.0</td>\n",
       "    </tr>\n",
       "    <tr>\n",
       "      <th>...</th>\n",
       "      <td>...</td>\n",
       "      <td>...</td>\n",
       "      <td>...</td>\n",
       "      <td>...</td>\n",
       "      <td>...</td>\n",
       "      <td>...</td>\n",
       "      <td>...</td>\n",
       "      <td>...</td>\n",
       "      <td>...</td>\n",
       "      <td>...</td>\n",
       "      <td>...</td>\n",
       "      <td>...</td>\n",
       "      <td>...</td>\n",
       "    </tr>\n",
       "    <tr>\n",
       "      <th>1001</th>\n",
       "      <td>FL</td>\n",
       "      <td>Female</td>\n",
       "      <td>742.000000</td>\n",
       "      <td>470.0</td>\n",
       "      <td>450</td>\n",
       "      <td>424.0</td>\n",
       "      <td>396</td>\n",
       "      <td>0</td>\n",
       "      <td>15356.0</td>\n",
       "      <td>37</td>\n",
       "      <td>14</td>\n",
       "      <td>S2</td>\n",
       "      <td>50.0</td>\n",
       "    </tr>\n",
       "    <tr>\n",
       "      <th>1002</th>\n",
       "      <td>FL</td>\n",
       "      <td>Male</td>\n",
       "      <td>599.000000</td>\n",
       "      <td>423.0</td>\n",
       "      <td>200</td>\n",
       "      <td>406.0</td>\n",
       "      <td>100</td>\n",
       "      <td>4</td>\n",
       "      <td>11670.0</td>\n",
       "      <td>27</td>\n",
       "      <td>9</td>\n",
       "      <td>C1</td>\n",
       "      <td>10.0</td>\n",
       "    </tr>\n",
       "    <tr>\n",
       "      <th>1003</th>\n",
       "      <td>ND</td>\n",
       "      <td>Male</td>\n",
       "      <td>593.000000</td>\n",
       "      <td>299.0</td>\n",
       "      <td>274</td>\n",
       "      <td>298.0</td>\n",
       "      <td>258</td>\n",
       "      <td>0</td>\n",
       "      <td>10186.0</td>\n",
       "      <td>70</td>\n",
       "      <td>5</td>\n",
       "      <td>S2</td>\n",
       "      <td>5.0</td>\n",
       "    </tr>\n",
       "    <tr>\n",
       "      <th>1004</th>\n",
       "      <td>WI</td>\n",
       "      <td>U</td>\n",
       "      <td>564.000000</td>\n",
       "      <td>397.0</td>\n",
       "      <td>295</td>\n",
       "      <td>386.0</td>\n",
       "      <td>217</td>\n",
       "      <td>0</td>\n",
       "      <td>12315.0</td>\n",
       "      <td>96</td>\n",
       "      <td>11</td>\n",
       "      <td>T2</td>\n",
       "      <td>14.0</td>\n",
       "    </tr>\n",
       "    <tr>\n",
       "      <th>1005</th>\n",
       "      <td>MI</td>\n",
       "      <td>Male</td>\n",
       "      <td>651.000000</td>\n",
       "      <td>505.0</td>\n",
       "      <td>455</td>\n",
       "      <td>451.0</td>\n",
       "      <td>431</td>\n",
       "      <td>0</td>\n",
       "      <td>14845.0</td>\n",
       "      <td>77</td>\n",
       "      <td>7</td>\n",
       "      <td>S2</td>\n",
       "      <td>9.0</td>\n",
       "    </tr>\n",
       "  </tbody>\n",
       "</table>\n",
       "<p>4020 rows × 13 columns</p>\n",
       "</div>"
      ],
      "text/plain": [
       "     state  gender  median_home_val  avg_fam_income  avg_household_income  \\\n",
       "0       FL    Male      1159.148591           520.0                   466   \n",
       "1       IL    Male       537.000000           473.0                   410   \n",
       "2       FL  Female       725.000000           436.0                   361   \n",
       "3       NC    Male      1159.148591           413.0                   399   \n",
       "4       FL  Female       995.000000           348.0                   316   \n",
       "...    ...     ...              ...             ...                   ...   \n",
       "1001    FL  Female       742.000000           470.0                   450   \n",
       "1002    FL    Male       599.000000           423.0                   200   \n",
       "1003    ND    Male       593.000000           299.0                   274   \n",
       "1004    WI       U       564.000000           397.0                   295   \n",
       "1005    MI    Male       651.000000           505.0                   455   \n",
       "\n",
       "      med_fam_income  median_household_income  hvp1  per_capita_income  pobc2  \\\n",
       "0              430.0                      392     7            21975.0     16   \n",
       "1              415.0                      365     0            19387.0     89   \n",
       "2              340.0                      301     3            18837.0     17   \n",
       "3              407.0                      401     7            14014.0     74   \n",
       "4              280.0                      252     0            17991.0      6   \n",
       "...              ...                      ...   ...                ...    ...   \n",
       "1001           424.0                      396     0            15356.0     37   \n",
       "1002           406.0                      100     4            11670.0     27   \n",
       "1003           298.0                      258     0            10186.0     70   \n",
       "1004           386.0                      217     0            12315.0     96   \n",
       "1005           451.0                      431     0            14845.0     77   \n",
       "\n",
       "      avggift domain  target_d  \n",
       "0          28     C2     100.0  \n",
       "1           5     T2       7.0  \n",
       "2           4     C2       5.0  \n",
       "3          27     T2      38.0  \n",
       "4           6     C2       5.0  \n",
       "...       ...    ...       ...  \n",
       "1001       14     S2      50.0  \n",
       "1002        9     C1      10.0  \n",
       "1003        5     S2       5.0  \n",
       "1004       11     T2      14.0  \n",
       "1005        7     S2       9.0  \n",
       "\n",
       "[4020 rows x 13 columns]"
      ]
     },
     "execution_count": 70,
     "metadata": {},
     "output_type": "execute_result"
    }
   ],
   "source": [
    "hk_df"
   ]
  },
  {
   "cell_type": "markdown",
   "metadata": {},
   "source": [
    "Exercise:<br>\n",
    "<b>For cities create a user defined function and use it with map() to divide the cities into 5 zones - East, west, north, south, and central"
   ]
  },
  {
   "cell_type": "code",
   "execution_count": 70,
   "metadata": {},
   "outputs": [],
   "source": []
  },
  {
   "cell_type": "markdown",
   "metadata": {
    "id": "fRtodbs9xy-e"
   },
   "source": [
    "#### Summary functions\n",
    "\n",
    "sum(), mean(), max()..."
   ]
  },
  {
   "cell_type": "code",
   "execution_count": 71,
   "metadata": {},
   "outputs": [
    {
     "data": {
      "text/plain": [
       "0"
      ]
     },
     "execution_count": 71,
     "metadata": {},
     "output_type": "execute_result"
    }
   ],
   "source": [
    "hk_df.median_household_income.min()"
   ]
  },
  {
   "cell_type": "code",
   "execution_count": 72,
   "metadata": {
    "colab": {
     "base_uri": "https://localhost:8080/"
    },
    "executionInfo": {
     "elapsed": 534,
     "status": "ok",
     "timestamp": 1623071487403,
     "user": {
      "displayName": "Ignacio Soteras",
      "photoUrl": "",
      "userId": "02050793736257155229"
     },
     "user_tz": -120
    },
    "id": "gG_aFTwaxy-e",
    "outputId": "9f0c696d-8ec3-47db-bd27-e7fb0df358c2"
   },
   "outputs": [
    {
     "data": {
      "text/plain": [
       "4659777.337322364"
      ]
     },
     "execution_count": 72,
     "metadata": {},
     "output_type": "execute_result"
    }
   ],
   "source": [
    "hk_df[\"median_home_val\"].sum()"
   ]
  },
  {
   "cell_type": "code",
   "execution_count": 73,
   "metadata": {
    "colab": {
     "base_uri": "https://localhost:8080/"
    },
    "executionInfo": {
     "elapsed": 371,
     "status": "ok",
     "timestamp": 1623071509547,
     "user": {
      "displayName": "Ignacio Soteras",
      "photoUrl": "",
      "userId": "02050793736257155229"
     },
     "user_tz": -120
    },
    "id": "aSiVBHPwmZ2b",
    "outputId": "b42718d5-c6da-48d5-e7bc-9de6958ea387"
   },
   "outputs": [
    {
     "data": {
      "text/plain": [
       "4659777.337322364"
      ]
     },
     "execution_count": 73,
     "metadata": {},
     "output_type": "execute_result"
    }
   ],
   "source": [
    "np.sum(hk_df[\"median_home_val\"])"
   ]
  },
  {
   "cell_type": "markdown",
   "metadata": {},
   "source": [
    "## EDA and Plotting"
   ]
  },
  {
   "cell_type": "code",
   "execution_count": 74,
   "metadata": {},
   "outputs": [
    {
     "data": {
      "text/html": [
       "<div>\n",
       "<style scoped>\n",
       "    .dataframe tbody tr th:only-of-type {\n",
       "        vertical-align: middle;\n",
       "    }\n",
       "\n",
       "    .dataframe tbody tr th {\n",
       "        vertical-align: top;\n",
       "    }\n",
       "\n",
       "    .dataframe thead th {\n",
       "        text-align: right;\n",
       "    }\n",
       "</style>\n",
       "<table border=\"1\" class=\"dataframe\">\n",
       "  <thead>\n",
       "    <tr style=\"text-align: right;\">\n",
       "      <th></th>\n",
       "      <th>state</th>\n",
       "      <th>gender</th>\n",
       "      <th>median_home_val</th>\n",
       "      <th>avg_fam_income</th>\n",
       "      <th>avg_household_income</th>\n",
       "      <th>med_fam_income</th>\n",
       "      <th>median_household_income</th>\n",
       "      <th>hvp1</th>\n",
       "      <th>per_capita_income</th>\n",
       "      <th>pobc2</th>\n",
       "      <th>avggift</th>\n",
       "      <th>domain</th>\n",
       "      <th>target_d</th>\n",
       "    </tr>\n",
       "  </thead>\n",
       "  <tbody>\n",
       "    <tr>\n",
       "      <th>0</th>\n",
       "      <td>FL</td>\n",
       "      <td>Male</td>\n",
       "      <td>1159.148591</td>\n",
       "      <td>520.0</td>\n",
       "      <td>466</td>\n",
       "      <td>430.0</td>\n",
       "      <td>392</td>\n",
       "      <td>7</td>\n",
       "      <td>21975.0</td>\n",
       "      <td>16</td>\n",
       "      <td>28</td>\n",
       "      <td>C2</td>\n",
       "      <td>100.0</td>\n",
       "    </tr>\n",
       "    <tr>\n",
       "      <th>1</th>\n",
       "      <td>IL</td>\n",
       "      <td>Male</td>\n",
       "      <td>537.000000</td>\n",
       "      <td>473.0</td>\n",
       "      <td>410</td>\n",
       "      <td>415.0</td>\n",
       "      <td>365</td>\n",
       "      <td>0</td>\n",
       "      <td>19387.0</td>\n",
       "      <td>89</td>\n",
       "      <td>5</td>\n",
       "      <td>T2</td>\n",
       "      <td>7.0</td>\n",
       "    </tr>\n",
       "    <tr>\n",
       "      <th>2</th>\n",
       "      <td>FL</td>\n",
       "      <td>Female</td>\n",
       "      <td>725.000000</td>\n",
       "      <td>436.0</td>\n",
       "      <td>361</td>\n",
       "      <td>340.0</td>\n",
       "      <td>301</td>\n",
       "      <td>3</td>\n",
       "      <td>18837.0</td>\n",
       "      <td>17</td>\n",
       "      <td>4</td>\n",
       "      <td>C2</td>\n",
       "      <td>5.0</td>\n",
       "    </tr>\n",
       "    <tr>\n",
       "      <th>3</th>\n",
       "      <td>NC</td>\n",
       "      <td>Male</td>\n",
       "      <td>1159.148591</td>\n",
       "      <td>413.0</td>\n",
       "      <td>399</td>\n",
       "      <td>407.0</td>\n",
       "      <td>401</td>\n",
       "      <td>7</td>\n",
       "      <td>14014.0</td>\n",
       "      <td>74</td>\n",
       "      <td>27</td>\n",
       "      <td>T2</td>\n",
       "      <td>38.0</td>\n",
       "    </tr>\n",
       "    <tr>\n",
       "      <th>4</th>\n",
       "      <td>FL</td>\n",
       "      <td>Female</td>\n",
       "      <td>995.000000</td>\n",
       "      <td>348.0</td>\n",
       "      <td>316</td>\n",
       "      <td>280.0</td>\n",
       "      <td>252</td>\n",
       "      <td>0</td>\n",
       "      <td>17991.0</td>\n",
       "      <td>6</td>\n",
       "      <td>6</td>\n",
       "      <td>C2</td>\n",
       "      <td>5.0</td>\n",
       "    </tr>\n",
       "    <tr>\n",
       "      <th>...</th>\n",
       "      <td>...</td>\n",
       "      <td>...</td>\n",
       "      <td>...</td>\n",
       "      <td>...</td>\n",
       "      <td>...</td>\n",
       "      <td>...</td>\n",
       "      <td>...</td>\n",
       "      <td>...</td>\n",
       "      <td>...</td>\n",
       "      <td>...</td>\n",
       "      <td>...</td>\n",
       "      <td>...</td>\n",
       "      <td>...</td>\n",
       "    </tr>\n",
       "    <tr>\n",
       "      <th>1001</th>\n",
       "      <td>FL</td>\n",
       "      <td>Female</td>\n",
       "      <td>742.000000</td>\n",
       "      <td>470.0</td>\n",
       "      <td>450</td>\n",
       "      <td>424.0</td>\n",
       "      <td>396</td>\n",
       "      <td>0</td>\n",
       "      <td>15356.0</td>\n",
       "      <td>37</td>\n",
       "      <td>14</td>\n",
       "      <td>S2</td>\n",
       "      <td>50.0</td>\n",
       "    </tr>\n",
       "    <tr>\n",
       "      <th>1002</th>\n",
       "      <td>FL</td>\n",
       "      <td>Male</td>\n",
       "      <td>599.000000</td>\n",
       "      <td>423.0</td>\n",
       "      <td>200</td>\n",
       "      <td>406.0</td>\n",
       "      <td>100</td>\n",
       "      <td>4</td>\n",
       "      <td>11670.0</td>\n",
       "      <td>27</td>\n",
       "      <td>9</td>\n",
       "      <td>C1</td>\n",
       "      <td>10.0</td>\n",
       "    </tr>\n",
       "    <tr>\n",
       "      <th>1003</th>\n",
       "      <td>ND</td>\n",
       "      <td>Male</td>\n",
       "      <td>593.000000</td>\n",
       "      <td>299.0</td>\n",
       "      <td>274</td>\n",
       "      <td>298.0</td>\n",
       "      <td>258</td>\n",
       "      <td>0</td>\n",
       "      <td>10186.0</td>\n",
       "      <td>70</td>\n",
       "      <td>5</td>\n",
       "      <td>S2</td>\n",
       "      <td>5.0</td>\n",
       "    </tr>\n",
       "    <tr>\n",
       "      <th>1004</th>\n",
       "      <td>WI</td>\n",
       "      <td>U</td>\n",
       "      <td>564.000000</td>\n",
       "      <td>397.0</td>\n",
       "      <td>295</td>\n",
       "      <td>386.0</td>\n",
       "      <td>217</td>\n",
       "      <td>0</td>\n",
       "      <td>12315.0</td>\n",
       "      <td>96</td>\n",
       "      <td>11</td>\n",
       "      <td>T2</td>\n",
       "      <td>14.0</td>\n",
       "    </tr>\n",
       "    <tr>\n",
       "      <th>1005</th>\n",
       "      <td>MI</td>\n",
       "      <td>Male</td>\n",
       "      <td>651.000000</td>\n",
       "      <td>505.0</td>\n",
       "      <td>455</td>\n",
       "      <td>451.0</td>\n",
       "      <td>431</td>\n",
       "      <td>0</td>\n",
       "      <td>14845.0</td>\n",
       "      <td>77</td>\n",
       "      <td>7</td>\n",
       "      <td>S2</td>\n",
       "      <td>9.0</td>\n",
       "    </tr>\n",
       "  </tbody>\n",
       "</table>\n",
       "<p>4020 rows × 13 columns</p>\n",
       "</div>"
      ],
      "text/plain": [
       "     state  gender  median_home_val  avg_fam_income  avg_household_income  \\\n",
       "0       FL    Male      1159.148591           520.0                   466   \n",
       "1       IL    Male       537.000000           473.0                   410   \n",
       "2       FL  Female       725.000000           436.0                   361   \n",
       "3       NC    Male      1159.148591           413.0                   399   \n",
       "4       FL  Female       995.000000           348.0                   316   \n",
       "...    ...     ...              ...             ...                   ...   \n",
       "1001    FL  Female       742.000000           470.0                   450   \n",
       "1002    FL    Male       599.000000           423.0                   200   \n",
       "1003    ND    Male       593.000000           299.0                   274   \n",
       "1004    WI       U       564.000000           397.0                   295   \n",
       "1005    MI    Male       651.000000           505.0                   455   \n",
       "\n",
       "      med_fam_income  median_household_income  hvp1  per_capita_income  pobc2  \\\n",
       "0              430.0                      392     7            21975.0     16   \n",
       "1              415.0                      365     0            19387.0     89   \n",
       "2              340.0                      301     3            18837.0     17   \n",
       "3              407.0                      401     7            14014.0     74   \n",
       "4              280.0                      252     0            17991.0      6   \n",
       "...              ...                      ...   ...                ...    ...   \n",
       "1001           424.0                      396     0            15356.0     37   \n",
       "1002           406.0                      100     4            11670.0     27   \n",
       "1003           298.0                      258     0            10186.0     70   \n",
       "1004           386.0                      217     0            12315.0     96   \n",
       "1005           451.0                      431     0            14845.0     77   \n",
       "\n",
       "      avggift domain  target_d  \n",
       "0          28     C2     100.0  \n",
       "1           5     T2       7.0  \n",
       "2           4     C2       5.0  \n",
       "3          27     T2      38.0  \n",
       "4           6     C2       5.0  \n",
       "...       ...    ...       ...  \n",
       "1001       14     S2      50.0  \n",
       "1002        9     C1      10.0  \n",
       "1003        5     S2       5.0  \n",
       "1004       11     T2      14.0  \n",
       "1005        7     S2       9.0  \n",
       "\n",
       "[4020 rows x 13 columns]"
      ]
     },
     "execution_count": 74,
     "metadata": {},
     "output_type": "execute_result"
    }
   ],
   "source": [
    "hk_df"
   ]
  },
  {
   "cell_type": "code",
   "execution_count": 75,
   "metadata": {},
   "outputs": [
    {
     "data": {
      "text/plain": [
       "Index(['state', 'gender', 'median_home_val', 'avg_fam_income',\n",
       "       'avg_household_income', 'med_fam_income', 'median_household_income',\n",
       "       'hvp1', 'per_capita_income', 'pobc2', 'avggift', 'domain', 'target_d'],\n",
       "      dtype='object')"
      ]
     },
     "execution_count": 75,
     "metadata": {},
     "output_type": "execute_result"
    }
   ],
   "source": [
    "hk_df.columns"
   ]
  },
  {
   "cell_type": "code",
   "execution_count": 76,
   "metadata": {
    "scrolled": true
   },
   "outputs": [
    {
     "data": {
      "image/png": "[encoded data removed]",
      "text/plain": [
       "<Figure size 432x288 with 1 Axes>"
      ]
     },
     "metadata": {
      "needs_background": "light"
     },
     "output_type": "display_data"
    }
   ],
   "source": [
    "plt.scatter(x=hk_df['med_fam_income'], y=hk_df['avg_household_income'])\n",
    "plt.show()"
   ]
  },
  {
   "cell_type": "code",
   "execution_count": 77,
   "metadata": {},
   "outputs": [
    {
     "name": "stderr",
     "output_type": "stream",
     "text": [
      "/Users/antares/.pyenv/versions/mambaforge-4.10.1-4/envs/ih_DA_env/lib/python3.9/site-packages/seaborn/_core.py:1057: FutureWarning: reindexing with a non-unique Index is deprecated and will raise in a future version.\n",
      "  comp_col.loc[orig.index] = pd.to_numeric(axis.convert_units(orig))\n"
     ]
    },
    {
     "ename": "ValueError",
     "evalue": "cannot reindex on an axis with duplicate labels",
     "output_type": "error",
     "traceback": [
      "\u001b[0;31m---------------------------------------------------------------------------\u001b[0m",
      "\u001b[0;31mValueError\u001b[0m                                Traceback (most recent call last)",
      "Input \u001b[0;32mIn [77]\u001b[0m, in \u001b[0;36m<cell line: 1>\u001b[0;34m()\u001b[0m\n\u001b[0;32m----> 1\u001b[0m \u001b[43msns\u001b[49m\u001b[38;5;241;43m.\u001b[39;49m\u001b[43mpairplot\u001b[49m\u001b[43m(\u001b[49m\u001b[43mhk_df\u001b[49m\u001b[43m)\u001b[49m\n",
      "File \u001b[0;32m~/.pyenv/versions/mambaforge-4.10.1-4/envs/ih_DA_env/lib/python3.9/site-packages/seaborn/_decorators.py:46\u001b[0m, in \u001b[0;36m_deprecate_positional_args.<locals>.inner_f\u001b[0;34m(*args, **kwargs)\u001b[0m\n\u001b[1;32m     36\u001b[0m     warnings\u001b[38;5;241m.\u001b[39mwarn(\n\u001b[1;32m     37\u001b[0m         \u001b[38;5;124m\"\u001b[39m\u001b[38;5;124mPass the following variable\u001b[39m\u001b[38;5;132;01m{}\u001b[39;00m\u001b[38;5;124m as \u001b[39m\u001b[38;5;132;01m{}\u001b[39;00m\u001b[38;5;124mkeyword arg\u001b[39m\u001b[38;5;132;01m{}\u001b[39;00m\u001b[38;5;124m: \u001b[39m\u001b[38;5;132;01m{}\u001b[39;00m\u001b[38;5;124m. \u001b[39m\u001b[38;5;124m\"\u001b[39m\n\u001b[1;32m     38\u001b[0m         \u001b[38;5;124m\"\u001b[39m\u001b[38;5;124mFrom version 0.12, the only valid positional argument \u001b[39m\u001b[38;5;124m\"\u001b[39m\n\u001b[0;32m   (...)\u001b[0m\n\u001b[1;32m     43\u001b[0m         \u001b[38;5;167;01mFutureWarning\u001b[39;00m\n\u001b[1;32m     44\u001b[0m     )\n\u001b[1;32m     45\u001b[0m kwargs\u001b[38;5;241m.\u001b[39mupdate({k: arg \u001b[38;5;28;01mfor\u001b[39;00m k, arg \u001b[38;5;129;01min\u001b[39;00m \u001b[38;5;28mzip\u001b[39m(sig\u001b[38;5;241m.\u001b[39mparameters, args)})\n\u001b[0;32m---> 46\u001b[0m \u001b[38;5;28;01mreturn\u001b[39;00m \u001b[43mf\u001b[49m\u001b[43m(\u001b[49m\u001b[38;5;241;43m*\u001b[39;49m\u001b[38;5;241;43m*\u001b[39;49m\u001b[43mkwargs\u001b[49m\u001b[43m)\u001b[49m\n",
      "File \u001b[0;32m~/.pyenv/versions/mambaforge-4.10.1-4/envs/ih_DA_env/lib/python3.9/site-packages/seaborn/axisgrid.py:2126\u001b[0m, in \u001b[0;36mpairplot\u001b[0;34m(data, hue, hue_order, palette, vars, x_vars, y_vars, kind, diag_kind, markers, height, aspect, corner, dropna, plot_kws, diag_kws, grid_kws, size)\u001b[0m\n\u001b[1;32m   2124\u001b[0m diag_kws\u001b[38;5;241m.\u001b[39msetdefault(\u001b[38;5;124m\"\u001b[39m\u001b[38;5;124mlegend\u001b[39m\u001b[38;5;124m\"\u001b[39m, \u001b[38;5;28;01mFalse\u001b[39;00m)\n\u001b[1;32m   2125\u001b[0m \u001b[38;5;28;01mif\u001b[39;00m diag_kind \u001b[38;5;241m==\u001b[39m \u001b[38;5;124m\"\u001b[39m\u001b[38;5;124mhist\u001b[39m\u001b[38;5;124m\"\u001b[39m:\n\u001b[0;32m-> 2126\u001b[0m     \u001b[43mgrid\u001b[49m\u001b[38;5;241;43m.\u001b[39;49m\u001b[43mmap_diag\u001b[49m\u001b[43m(\u001b[49m\u001b[43mhistplot\u001b[49m\u001b[43m,\u001b[49m\u001b[43m \u001b[49m\u001b[38;5;241;43m*\u001b[39;49m\u001b[38;5;241;43m*\u001b[39;49m\u001b[43mdiag_kws\u001b[49m\u001b[43m)\u001b[49m\n\u001b[1;32m   2127\u001b[0m \u001b[38;5;28;01melif\u001b[39;00m diag_kind \u001b[38;5;241m==\u001b[39m \u001b[38;5;124m\"\u001b[39m\u001b[38;5;124mkde\u001b[39m\u001b[38;5;124m\"\u001b[39m:\n\u001b[1;32m   2128\u001b[0m     diag_kws\u001b[38;5;241m.\u001b[39msetdefault(\u001b[38;5;124m\"\u001b[39m\u001b[38;5;124mfill\u001b[39m\u001b[38;5;124m\"\u001b[39m, \u001b[38;5;28;01mTrue\u001b[39;00m)\n",
      "File \u001b[0;32m~/.pyenv/versions/mambaforge-4.10.1-4/envs/ih_DA_env/lib/python3.9/site-packages/seaborn/axisgrid.py:1478\u001b[0m, in \u001b[0;36mPairGrid.map_diag\u001b[0;34m(self, func, **kwargs)\u001b[0m\n\u001b[1;32m   1476\u001b[0m     plot_kwargs\u001b[38;5;241m.\u001b[39msetdefault(\u001b[38;5;124m\"\u001b[39m\u001b[38;5;124mhue_order\u001b[39m\u001b[38;5;124m\"\u001b[39m, \u001b[38;5;28mself\u001b[39m\u001b[38;5;241m.\u001b[39m_hue_order)\n\u001b[1;32m   1477\u001b[0m     plot_kwargs\u001b[38;5;241m.\u001b[39msetdefault(\u001b[38;5;124m\"\u001b[39m\u001b[38;5;124mpalette\u001b[39m\u001b[38;5;124m\"\u001b[39m, \u001b[38;5;28mself\u001b[39m\u001b[38;5;241m.\u001b[39m_orig_palette)\n\u001b[0;32m-> 1478\u001b[0m     \u001b[43mfunc\u001b[49m\u001b[43m(\u001b[49m\u001b[43mx\u001b[49m\u001b[38;5;241;43m=\u001b[39;49m\u001b[43mvector\u001b[49m\u001b[43m,\u001b[49m\u001b[43m \u001b[49m\u001b[38;5;241;43m*\u001b[39;49m\u001b[38;5;241;43m*\u001b[39;49m\u001b[43mplot_kwargs\u001b[49m\u001b[43m)\u001b[49m\n\u001b[1;32m   1479\u001b[0m     ax\u001b[38;5;241m.\u001b[39mlegend_ \u001b[38;5;241m=\u001b[39m \u001b[38;5;28;01mNone\u001b[39;00m\n\u001b[1;32m   1481\u001b[0m \u001b[38;5;28mself\u001b[39m\u001b[38;5;241m.\u001b[39m_add_axis_labels()\n",
      "File \u001b[0;32m~/.pyenv/versions/mambaforge-4.10.1-4/envs/ih_DA_env/lib/python3.9/site-packages/seaborn/distributions.py:1462\u001b[0m, in \u001b[0;36mhistplot\u001b[0;34m(data, x, y, hue, weights, stat, bins, binwidth, binrange, discrete, cumulative, common_bins, common_norm, multiple, element, fill, shrink, kde, kde_kws, line_kws, thresh, pthresh, pmax, cbar, cbar_ax, cbar_kws, palette, hue_order, hue_norm, color, log_scale, legend, ax, **kwargs)\u001b[0m\n\u001b[1;32m   1451\u001b[0m estimate_kws \u001b[38;5;241m=\u001b[39m \u001b[38;5;28mdict\u001b[39m(\n\u001b[1;32m   1452\u001b[0m     stat\u001b[38;5;241m=\u001b[39mstat,\n\u001b[1;32m   1453\u001b[0m     bins\u001b[38;5;241m=\u001b[39mbins,\n\u001b[0;32m   (...)\u001b[0m\n\u001b[1;32m   1457\u001b[0m     cumulative\u001b[38;5;241m=\u001b[39mcumulative,\n\u001b[1;32m   1458\u001b[0m )\n\u001b[1;32m   1460\u001b[0m \u001b[38;5;28;01mif\u001b[39;00m p\u001b[38;5;241m.\u001b[39munivariate:\n\u001b[0;32m-> 1462\u001b[0m     \u001b[43mp\u001b[49m\u001b[38;5;241;43m.\u001b[39;49m\u001b[43mplot_univariate_histogram\u001b[49m\u001b[43m(\u001b[49m\n\u001b[1;32m   1463\u001b[0m \u001b[43m        \u001b[49m\u001b[43mmultiple\u001b[49m\u001b[38;5;241;43m=\u001b[39;49m\u001b[43mmultiple\u001b[49m\u001b[43m,\u001b[49m\n\u001b[1;32m   1464\u001b[0m \u001b[43m        \u001b[49m\u001b[43melement\u001b[49m\u001b[38;5;241;43m=\u001b[39;49m\u001b[43melement\u001b[49m\u001b[43m,\u001b[49m\n\u001b[1;32m   1465\u001b[0m \u001b[43m        \u001b[49m\u001b[43mfill\u001b[49m\u001b[38;5;241;43m=\u001b[39;49m\u001b[43mfill\u001b[49m\u001b[43m,\u001b[49m\n\u001b[1;32m   1466\u001b[0m \u001b[43m        \u001b[49m\u001b[43mshrink\u001b[49m\u001b[38;5;241;43m=\u001b[39;49m\u001b[43mshrink\u001b[49m\u001b[43m,\u001b[49m\n\u001b[1;32m   1467\u001b[0m \u001b[43m        \u001b[49m\u001b[43mcommon_norm\u001b[49m\u001b[38;5;241;43m=\u001b[39;49m\u001b[43mcommon_norm\u001b[49m\u001b[43m,\u001b[49m\n\u001b[1;32m   1468\u001b[0m \u001b[43m        \u001b[49m\u001b[43mcommon_bins\u001b[49m\u001b[38;5;241;43m=\u001b[39;49m\u001b[43mcommon_bins\u001b[49m\u001b[43m,\u001b[49m\n\u001b[1;32m   1469\u001b[0m \u001b[43m        \u001b[49m\u001b[43mkde\u001b[49m\u001b[38;5;241;43m=\u001b[39;49m\u001b[43mkde\u001b[49m\u001b[43m,\u001b[49m\n\u001b[1;32m   1470\u001b[0m \u001b[43m        \u001b[49m\u001b[43mkde_kws\u001b[49m\u001b[38;5;241;43m=\u001b[39;49m\u001b[43mkde_kws\u001b[49m\u001b[43m,\u001b[49m\n\u001b[1;32m   1471\u001b[0m \u001b[43m        \u001b[49m\u001b[43mcolor\u001b[49m\u001b[38;5;241;43m=\u001b[39;49m\u001b[43mcolor\u001b[49m\u001b[43m,\u001b[49m\n\u001b[1;32m   1472\u001b[0m \u001b[43m        \u001b[49m\u001b[43mlegend\u001b[49m\u001b[38;5;241;43m=\u001b[39;49m\u001b[43mlegend\u001b[49m\u001b[43m,\u001b[49m\n\u001b[1;32m   1473\u001b[0m \u001b[43m        \u001b[49m\u001b[43mestimate_kws\u001b[49m\u001b[38;5;241;43m=\u001b[39;49m\u001b[43mestimate_kws\u001b[49m\u001b[43m,\u001b[49m\n\u001b[1;32m   1474\u001b[0m \u001b[43m        \u001b[49m\u001b[43mline_kws\u001b[49m\u001b[38;5;241;43m=\u001b[39;49m\u001b[43mline_kws\u001b[49m\u001b[43m,\u001b[49m\n\u001b[1;32m   1475\u001b[0m \u001b[43m        \u001b[49m\u001b[38;5;241;43m*\u001b[39;49m\u001b[38;5;241;43m*\u001b[39;49m\u001b[43mkwargs\u001b[49m\u001b[43m,\u001b[49m\n\u001b[1;32m   1476\u001b[0m \u001b[43m    \u001b[49m\u001b[43m)\u001b[49m\n\u001b[1;32m   1478\u001b[0m \u001b[38;5;28;01melse\u001b[39;00m:\n\u001b[1;32m   1480\u001b[0m     p\u001b[38;5;241m.\u001b[39mplot_bivariate_histogram(\n\u001b[1;32m   1481\u001b[0m         common_bins\u001b[38;5;241m=\u001b[39mcommon_bins,\n\u001b[1;32m   1482\u001b[0m         common_norm\u001b[38;5;241m=\u001b[39mcommon_norm,\n\u001b[0;32m   (...)\u001b[0m\n\u001b[1;32m   1492\u001b[0m         \u001b[38;5;241m*\u001b[39m\u001b[38;5;241m*\u001b[39mkwargs,\n\u001b[1;32m   1493\u001b[0m     )\n",
      "File \u001b[0;32m~/.pyenv/versions/mambaforge-4.10.1-4/envs/ih_DA_env/lib/python3.9/site-packages/seaborn/distributions.py:428\u001b[0m, in \u001b[0;36m_DistributionPlotter.plot_univariate_histogram\u001b[0;34m(self, multiple, element, fill, common_norm, common_bins, shrink, kde, kde_kws, color, legend, line_kws, estimate_kws, **plot_kws)\u001b[0m\n\u001b[1;32m    418\u001b[0m     densities \u001b[38;5;241m=\u001b[39m \u001b[38;5;28mself\u001b[39m\u001b[38;5;241m.\u001b[39m_compute_univariate_density(\n\u001b[1;32m    419\u001b[0m         \u001b[38;5;28mself\u001b[39m\u001b[38;5;241m.\u001b[39mdata_variable,\n\u001b[1;32m    420\u001b[0m         common_norm,\n\u001b[0;32m   (...)\u001b[0m\n\u001b[1;32m    424\u001b[0m         warn_singular\u001b[38;5;241m=\u001b[39m\u001b[38;5;28;01mFalse\u001b[39;00m,\n\u001b[1;32m    425\u001b[0m     )\n\u001b[1;32m    427\u001b[0m \u001b[38;5;66;03m# First pass through the data to compute the histograms\u001b[39;00m\n\u001b[0;32m--> 428\u001b[0m \u001b[38;5;28;01mfor\u001b[39;00m sub_vars, sub_data \u001b[38;5;129;01min\u001b[39;00m \u001b[38;5;28mself\u001b[39m\u001b[38;5;241m.\u001b[39miter_data(\u001b[38;5;124m\"\u001b[39m\u001b[38;5;124mhue\u001b[39m\u001b[38;5;124m\"\u001b[39m, from_comp_data\u001b[38;5;241m=\u001b[39m\u001b[38;5;28;01mTrue\u001b[39;00m):\n\u001b[1;32m    429\u001b[0m \n\u001b[1;32m    430\u001b[0m     \u001b[38;5;66;03m# Prepare the relevant data\u001b[39;00m\n\u001b[1;32m    431\u001b[0m     key \u001b[38;5;241m=\u001b[39m \u001b[38;5;28mtuple\u001b[39m(sub_vars\u001b[38;5;241m.\u001b[39mitems())\n\u001b[1;32m    432\u001b[0m     sub_data \u001b[38;5;241m=\u001b[39m sub_data\u001b[38;5;241m.\u001b[39mdropna()\n",
      "File \u001b[0;32m~/.pyenv/versions/mambaforge-4.10.1-4/envs/ih_DA_env/lib/python3.9/site-packages/seaborn/_core.py:983\u001b[0m, in \u001b[0;36mVectorPlotter.iter_data\u001b[0;34m(self, grouping_vars, reverse, from_comp_data)\u001b[0m\n\u001b[1;32m    978\u001b[0m grouping_vars \u001b[38;5;241m=\u001b[39m [\n\u001b[1;32m    979\u001b[0m     var \u001b[38;5;28;01mfor\u001b[39;00m var \u001b[38;5;129;01min\u001b[39;00m grouping_vars \u001b[38;5;28;01mif\u001b[39;00m var \u001b[38;5;129;01min\u001b[39;00m \u001b[38;5;28mself\u001b[39m\u001b[38;5;241m.\u001b[39mvariables\n\u001b[1;32m    980\u001b[0m ]\n\u001b[1;32m    982\u001b[0m \u001b[38;5;28;01mif\u001b[39;00m from_comp_data:\n\u001b[0;32m--> 983\u001b[0m     data \u001b[38;5;241m=\u001b[39m \u001b[38;5;28;43mself\u001b[39;49m\u001b[38;5;241;43m.\u001b[39;49m\u001b[43mcomp_data\u001b[49m\n\u001b[1;32m    984\u001b[0m \u001b[38;5;28;01melse\u001b[39;00m:\n\u001b[1;32m    985\u001b[0m     data \u001b[38;5;241m=\u001b[39m \u001b[38;5;28mself\u001b[39m\u001b[38;5;241m.\u001b[39mplot_data\n",
      "File \u001b[0;32m~/.pyenv/versions/mambaforge-4.10.1-4/envs/ih_DA_env/lib/python3.9/site-packages/seaborn/_core.py:1057\u001b[0m, in \u001b[0;36mVectorPlotter.comp_data\u001b[0;34m(self)\u001b[0m\n\u001b[1;32m   1055\u001b[0m     orig \u001b[38;5;241m=\u001b[39m \u001b[38;5;28mself\u001b[39m\u001b[38;5;241m.\u001b[39mplot_data[var]\u001b[38;5;241m.\u001b[39mdropna()\n\u001b[1;32m   1056\u001b[0m comp_col \u001b[38;5;241m=\u001b[39m pd\u001b[38;5;241m.\u001b[39mSeries(index\u001b[38;5;241m=\u001b[39morig\u001b[38;5;241m.\u001b[39mindex, dtype\u001b[38;5;241m=\u001b[39m\u001b[38;5;28mfloat\u001b[39m, name\u001b[38;5;241m=\u001b[39mvar)\n\u001b[0;32m-> 1057\u001b[0m comp_col\u001b[38;5;241m.\u001b[39mloc[orig\u001b[38;5;241m.\u001b[39mindex] \u001b[38;5;241m=\u001b[39m pd\u001b[38;5;241m.\u001b[39mto_numeric(axis\u001b[38;5;241m.\u001b[39mconvert_units(orig))\n\u001b[1;32m   1059\u001b[0m \u001b[38;5;28;01mif\u001b[39;00m axis\u001b[38;5;241m.\u001b[39mget_scale() \u001b[38;5;241m==\u001b[39m \u001b[38;5;124m\"\u001b[39m\u001b[38;5;124mlog\u001b[39m\u001b[38;5;124m\"\u001b[39m:\n\u001b[1;32m   1060\u001b[0m     comp_col \u001b[38;5;241m=\u001b[39m np\u001b[38;5;241m.\u001b[39mlog10(comp_col)\n",
      "File \u001b[0;32m~/.pyenv/versions/mambaforge-4.10.1-4/envs/ih_DA_env/lib/python3.9/site-packages/pandas/core/indexing.py:716\u001b[0m, in \u001b[0;36m_LocationIndexer.__setitem__\u001b[0;34m(self, key, value)\u001b[0m\n\u001b[1;32m    713\u001b[0m \u001b[38;5;28mself\u001b[39m\u001b[38;5;241m.\u001b[39m_has_valid_setitem_indexer(key)\n\u001b[1;32m    715\u001b[0m iloc \u001b[38;5;241m=\u001b[39m \u001b[38;5;28mself\u001b[39m \u001b[38;5;28;01mif\u001b[39;00m \u001b[38;5;28mself\u001b[39m\u001b[38;5;241m.\u001b[39mname \u001b[38;5;241m==\u001b[39m \u001b[38;5;124m\"\u001b[39m\u001b[38;5;124miloc\u001b[39m\u001b[38;5;124m\"\u001b[39m \u001b[38;5;28;01melse\u001b[39;00m \u001b[38;5;28mself\u001b[39m\u001b[38;5;241m.\u001b[39mobj\u001b[38;5;241m.\u001b[39miloc\n\u001b[0;32m--> 716\u001b[0m \u001b[43miloc\u001b[49m\u001b[38;5;241;43m.\u001b[39;49m\u001b[43m_setitem_with_indexer\u001b[49m\u001b[43m(\u001b[49m\u001b[43mindexer\u001b[49m\u001b[43m,\u001b[49m\u001b[43m \u001b[49m\u001b[43mvalue\u001b[49m\u001b[43m,\u001b[49m\u001b[43m \u001b[49m\u001b[38;5;28;43mself\u001b[39;49m\u001b[38;5;241;43m.\u001b[39;49m\u001b[43mname\u001b[49m\u001b[43m)\u001b[49m\n",
      "File \u001b[0;32m~/.pyenv/versions/mambaforge-4.10.1-4/envs/ih_DA_env/lib/python3.9/site-packages/pandas/core/indexing.py:1690\u001b[0m, in \u001b[0;36m_iLocIndexer._setitem_with_indexer\u001b[0;34m(self, indexer, value, name)\u001b[0m\n\u001b[1;32m   1688\u001b[0m     \u001b[38;5;28mself\u001b[39m\u001b[38;5;241m.\u001b[39m_setitem_with_indexer_split_path(indexer, value, name)\n\u001b[1;32m   1689\u001b[0m \u001b[38;5;28;01melse\u001b[39;00m:\n\u001b[0;32m-> 1690\u001b[0m     \u001b[38;5;28;43mself\u001b[39;49m\u001b[38;5;241;43m.\u001b[39;49m\u001b[43m_setitem_single_block\u001b[49m\u001b[43m(\u001b[49m\u001b[43mindexer\u001b[49m\u001b[43m,\u001b[49m\u001b[43m \u001b[49m\u001b[43mvalue\u001b[49m\u001b[43m,\u001b[49m\u001b[43m \u001b[49m\u001b[43mname\u001b[49m\u001b[43m)\u001b[49m\n",
      "File \u001b[0;32m~/.pyenv/versions/mambaforge-4.10.1-4/envs/ih_DA_env/lib/python3.9/site-packages/pandas/core/indexing.py:1929\u001b[0m, in \u001b[0;36m_iLocIndexer._setitem_single_block\u001b[0;34m(self, indexer, value, name)\u001b[0m\n\u001b[1;32m   1923\u001b[0m     indexer \u001b[38;5;241m=\u001b[39m maybe_convert_ix(\u001b[38;5;241m*\u001b[39mindexer)  \u001b[38;5;66;03m# e.g. test_setitem_frame_align\u001b[39;00m\n\u001b[1;32m   1925\u001b[0m \u001b[38;5;28;01mif\u001b[39;00m (\u001b[38;5;28misinstance\u001b[39m(value, ABCSeries) \u001b[38;5;129;01mand\u001b[39;00m name \u001b[38;5;241m!=\u001b[39m \u001b[38;5;124m\"\u001b[39m\u001b[38;5;124miloc\u001b[39m\u001b[38;5;124m\"\u001b[39m) \u001b[38;5;129;01mor\u001b[39;00m \u001b[38;5;28misinstance\u001b[39m(value, \u001b[38;5;28mdict\u001b[39m):\n\u001b[1;32m   1926\u001b[0m     \u001b[38;5;66;03m# TODO(EA): ExtensionBlock.setitem this causes issues with\u001b[39;00m\n\u001b[1;32m   1927\u001b[0m     \u001b[38;5;66;03m# setting for extensionarrays that store dicts. Need to decide\u001b[39;00m\n\u001b[1;32m   1928\u001b[0m     \u001b[38;5;66;03m# if it's worth supporting that.\u001b[39;00m\n\u001b[0;32m-> 1929\u001b[0m     value \u001b[38;5;241m=\u001b[39m \u001b[38;5;28;43mself\u001b[39;49m\u001b[38;5;241;43m.\u001b[39;49m\u001b[43m_align_series\u001b[49m\u001b[43m(\u001b[49m\u001b[43mindexer\u001b[49m\u001b[43m,\u001b[49m\u001b[43m \u001b[49m\u001b[43mSeries\u001b[49m\u001b[43m(\u001b[49m\u001b[43mvalue\u001b[49m\u001b[43m)\u001b[49m\u001b[43m)\u001b[49m\n\u001b[1;32m   1931\u001b[0m \u001b[38;5;28;01melif\u001b[39;00m \u001b[38;5;28misinstance\u001b[39m(value, ABCDataFrame) \u001b[38;5;129;01mand\u001b[39;00m name \u001b[38;5;241m!=\u001b[39m \u001b[38;5;124m\"\u001b[39m\u001b[38;5;124miloc\u001b[39m\u001b[38;5;124m\"\u001b[39m:\n\u001b[1;32m   1932\u001b[0m     value \u001b[38;5;241m=\u001b[39m \u001b[38;5;28mself\u001b[39m\u001b[38;5;241m.\u001b[39m_align_frame(indexer, value)\n",
      "File \u001b[0;32m~/.pyenv/versions/mambaforge-4.10.1-4/envs/ih_DA_env/lib/python3.9/site-packages/pandas/core/indexing.py:2091\u001b[0m, in \u001b[0;36m_iLocIndexer._align_series\u001b[0;34m(self, indexer, ser, multiindex_indexer)\u001b[0m\n\u001b[1;32m   2089\u001b[0m \u001b[38;5;28;01mif\u001b[39;00m obj\u001b[38;5;241m.\u001b[39mndim \u001b[38;5;241m==\u001b[39m \u001b[38;5;241m2\u001b[39m \u001b[38;5;129;01mand\u001b[39;00m is_empty_indexer(indexer[\u001b[38;5;241m0\u001b[39m], ser\u001b[38;5;241m.\u001b[39m_values):\n\u001b[1;32m   2090\u001b[0m     \u001b[38;5;28;01mreturn\u001b[39;00m ser\u001b[38;5;241m.\u001b[39m_values\u001b[38;5;241m.\u001b[39mcopy()\n\u001b[0;32m-> 2091\u001b[0m ser \u001b[38;5;241m=\u001b[39m \u001b[43mser\u001b[49m\u001b[38;5;241;43m.\u001b[39;49m\u001b[43mreindex\u001b[49m\u001b[43m(\u001b[49m\u001b[43mobj\u001b[49m\u001b[38;5;241;43m.\u001b[39;49m\u001b[43maxes\u001b[49m\u001b[43m[\u001b[49m\u001b[38;5;241;43m0\u001b[39;49m\u001b[43m]\u001b[49m\u001b[43m[\u001b[49m\u001b[43mindexer\u001b[49m\u001b[43m[\u001b[49m\u001b[38;5;241;43m0\u001b[39;49m\u001b[43m]\u001b[49m\u001b[43m]\u001b[49m\u001b[43m,\u001b[49m\u001b[43m \u001b[49m\u001b[43mcopy\u001b[49m\u001b[38;5;241;43m=\u001b[39;49m\u001b[38;5;28;43;01mTrue\u001b[39;49;00m\u001b[43m)\u001b[49m\u001b[38;5;241m.\u001b[39m_values\n\u001b[1;32m   2093\u001b[0m \u001b[38;5;66;03m# single indexer\u001b[39;00m\n\u001b[1;32m   2094\u001b[0m \u001b[38;5;28;01mif\u001b[39;00m \u001b[38;5;28mlen\u001b[39m(indexer) \u001b[38;5;241m>\u001b[39m \u001b[38;5;241m1\u001b[39m \u001b[38;5;129;01mand\u001b[39;00m \u001b[38;5;129;01mnot\u001b[39;00m multiindex_indexer:\n",
      "File \u001b[0;32m~/.pyenv/versions/mambaforge-4.10.1-4/envs/ih_DA_env/lib/python3.9/site-packages/pandas/core/series.py:4672\u001b[0m, in \u001b[0;36mSeries.reindex\u001b[0;34m(self, *args, **kwargs)\u001b[0m\n\u001b[1;32m   4668\u001b[0m         \u001b[38;5;28;01mraise\u001b[39;00m \u001b[38;5;167;01mTypeError\u001b[39;00m(\n\u001b[1;32m   4669\u001b[0m             \u001b[38;5;124m\"\u001b[39m\u001b[38;5;124m'\u001b[39m\u001b[38;5;124mindex\u001b[39m\u001b[38;5;124m'\u001b[39m\u001b[38;5;124m passed as both positional and keyword argument\u001b[39m\u001b[38;5;124m\"\u001b[39m\n\u001b[1;32m   4670\u001b[0m         )\n\u001b[1;32m   4671\u001b[0m     kwargs\u001b[38;5;241m.\u001b[39mupdate({\u001b[38;5;124m\"\u001b[39m\u001b[38;5;124mindex\u001b[39m\u001b[38;5;124m\"\u001b[39m: index})\n\u001b[0;32m-> 4672\u001b[0m \u001b[38;5;28;01mreturn\u001b[39;00m \u001b[38;5;28;43msuper\u001b[39;49m\u001b[43m(\u001b[49m\u001b[43m)\u001b[49m\u001b[38;5;241;43m.\u001b[39;49m\u001b[43mreindex\u001b[49m\u001b[43m(\u001b[49m\u001b[38;5;241;43m*\u001b[39;49m\u001b[38;5;241;43m*\u001b[39;49m\u001b[43mkwargs\u001b[49m\u001b[43m)\u001b[49m\n",
      "File \u001b[0;32m~/.pyenv/versions/mambaforge-4.10.1-4/envs/ih_DA_env/lib/python3.9/site-packages/pandas/core/generic.py:4966\u001b[0m, in \u001b[0;36mNDFrame.reindex\u001b[0;34m(self, *args, **kwargs)\u001b[0m\n\u001b[1;32m   4963\u001b[0m     \u001b[38;5;28;01mreturn\u001b[39;00m \u001b[38;5;28mself\u001b[39m\u001b[38;5;241m.\u001b[39m_reindex_multi(axes, copy, fill_value)\n\u001b[1;32m   4965\u001b[0m \u001b[38;5;66;03m# perform the reindex on the axes\u001b[39;00m\n\u001b[0;32m-> 4966\u001b[0m \u001b[38;5;28;01mreturn\u001b[39;00m \u001b[38;5;28;43mself\u001b[39;49m\u001b[38;5;241;43m.\u001b[39;49m\u001b[43m_reindex_axes\u001b[49m\u001b[43m(\u001b[49m\n\u001b[1;32m   4967\u001b[0m \u001b[43m    \u001b[49m\u001b[43maxes\u001b[49m\u001b[43m,\u001b[49m\u001b[43m \u001b[49m\u001b[43mlevel\u001b[49m\u001b[43m,\u001b[49m\u001b[43m \u001b[49m\u001b[43mlimit\u001b[49m\u001b[43m,\u001b[49m\u001b[43m \u001b[49m\u001b[43mtolerance\u001b[49m\u001b[43m,\u001b[49m\u001b[43m \u001b[49m\u001b[43mmethod\u001b[49m\u001b[43m,\u001b[49m\u001b[43m \u001b[49m\u001b[43mfill_value\u001b[49m\u001b[43m,\u001b[49m\u001b[43m \u001b[49m\u001b[43mcopy\u001b[49m\n\u001b[1;32m   4968\u001b[0m \u001b[43m\u001b[49m\u001b[43m)\u001b[49m\u001b[38;5;241m.\u001b[39m__finalize__(\u001b[38;5;28mself\u001b[39m, method\u001b[38;5;241m=\u001b[39m\u001b[38;5;124m\"\u001b[39m\u001b[38;5;124mreindex\u001b[39m\u001b[38;5;124m\"\u001b[39m)\n",
      "File \u001b[0;32m~/.pyenv/versions/mambaforge-4.10.1-4/envs/ih_DA_env/lib/python3.9/site-packages/pandas/core/generic.py:4986\u001b[0m, in \u001b[0;36mNDFrame._reindex_axes\u001b[0;34m(self, axes, level, limit, tolerance, method, fill_value, copy)\u001b[0m\n\u001b[1;32m   4981\u001b[0m new_index, indexer \u001b[38;5;241m=\u001b[39m ax\u001b[38;5;241m.\u001b[39mreindex(\n\u001b[1;32m   4982\u001b[0m     labels, level\u001b[38;5;241m=\u001b[39mlevel, limit\u001b[38;5;241m=\u001b[39mlimit, tolerance\u001b[38;5;241m=\u001b[39mtolerance, method\u001b[38;5;241m=\u001b[39mmethod\n\u001b[1;32m   4983\u001b[0m )\n\u001b[1;32m   4985\u001b[0m axis \u001b[38;5;241m=\u001b[39m \u001b[38;5;28mself\u001b[39m\u001b[38;5;241m.\u001b[39m_get_axis_number(a)\n\u001b[0;32m-> 4986\u001b[0m obj \u001b[38;5;241m=\u001b[39m \u001b[43mobj\u001b[49m\u001b[38;5;241;43m.\u001b[39;49m\u001b[43m_reindex_with_indexers\u001b[49m\u001b[43m(\u001b[49m\n\u001b[1;32m   4987\u001b[0m \u001b[43m    \u001b[49m\u001b[43m{\u001b[49m\u001b[43maxis\u001b[49m\u001b[43m:\u001b[49m\u001b[43m \u001b[49m\u001b[43m[\u001b[49m\u001b[43mnew_index\u001b[49m\u001b[43m,\u001b[49m\u001b[43m \u001b[49m\u001b[43mindexer\u001b[49m\u001b[43m]\u001b[49m\u001b[43m}\u001b[49m\u001b[43m,\u001b[49m\n\u001b[1;32m   4988\u001b[0m \u001b[43m    \u001b[49m\u001b[43mfill_value\u001b[49m\u001b[38;5;241;43m=\u001b[39;49m\u001b[43mfill_value\u001b[49m\u001b[43m,\u001b[49m\n\u001b[1;32m   4989\u001b[0m \u001b[43m    \u001b[49m\u001b[43mcopy\u001b[49m\u001b[38;5;241;43m=\u001b[39;49m\u001b[43mcopy\u001b[49m\u001b[43m,\u001b[49m\n\u001b[1;32m   4990\u001b[0m \u001b[43m    \u001b[49m\u001b[43mallow_dups\u001b[49m\u001b[38;5;241;43m=\u001b[39;49m\u001b[38;5;28;43;01mFalse\u001b[39;49;00m\u001b[43m,\u001b[49m\n\u001b[1;32m   4991\u001b[0m \u001b[43m\u001b[49m\u001b[43m)\u001b[49m\n\u001b[1;32m   4992\u001b[0m \u001b[38;5;66;03m# If we've made a copy once, no need to make another one\u001b[39;00m\n\u001b[1;32m   4993\u001b[0m copy \u001b[38;5;241m=\u001b[39m \u001b[38;5;28;01mFalse\u001b[39;00m\n",
      "File \u001b[0;32m~/.pyenv/versions/mambaforge-4.10.1-4/envs/ih_DA_env/lib/python3.9/site-packages/pandas/core/generic.py:5032\u001b[0m, in \u001b[0;36mNDFrame._reindex_with_indexers\u001b[0;34m(self, reindexers, fill_value, copy, allow_dups)\u001b[0m\n\u001b[1;32m   5029\u001b[0m     indexer \u001b[38;5;241m=\u001b[39m ensure_platform_int(indexer)\n\u001b[1;32m   5031\u001b[0m \u001b[38;5;66;03m# TODO: speed up on homogeneous DataFrame objects (see _reindex_multi)\u001b[39;00m\n\u001b[0;32m-> 5032\u001b[0m new_data \u001b[38;5;241m=\u001b[39m \u001b[43mnew_data\u001b[49m\u001b[38;5;241;43m.\u001b[39;49m\u001b[43mreindex_indexer\u001b[49m\u001b[43m(\u001b[49m\n\u001b[1;32m   5033\u001b[0m \u001b[43m    \u001b[49m\u001b[43mindex\u001b[49m\u001b[43m,\u001b[49m\n\u001b[1;32m   5034\u001b[0m \u001b[43m    \u001b[49m\u001b[43mindexer\u001b[49m\u001b[43m,\u001b[49m\n\u001b[1;32m   5035\u001b[0m \u001b[43m    \u001b[49m\u001b[43maxis\u001b[49m\u001b[38;5;241;43m=\u001b[39;49m\u001b[43mbaxis\u001b[49m\u001b[43m,\u001b[49m\n\u001b[1;32m   5036\u001b[0m \u001b[43m    \u001b[49m\u001b[43mfill_value\u001b[49m\u001b[38;5;241;43m=\u001b[39;49m\u001b[43mfill_value\u001b[49m\u001b[43m,\u001b[49m\n\u001b[1;32m   5037\u001b[0m \u001b[43m    \u001b[49m\u001b[43mallow_dups\u001b[49m\u001b[38;5;241;43m=\u001b[39;49m\u001b[43mallow_dups\u001b[49m\u001b[43m,\u001b[49m\n\u001b[1;32m   5038\u001b[0m \u001b[43m    \u001b[49m\u001b[43mcopy\u001b[49m\u001b[38;5;241;43m=\u001b[39;49m\u001b[43mcopy\u001b[49m\u001b[43m,\u001b[49m\n\u001b[1;32m   5039\u001b[0m \u001b[43m\u001b[49m\u001b[43m)\u001b[49m\n\u001b[1;32m   5040\u001b[0m \u001b[38;5;66;03m# If we've made a copy once, no need to make another one\u001b[39;00m\n\u001b[1;32m   5041\u001b[0m copy \u001b[38;5;241m=\u001b[39m \u001b[38;5;28;01mFalse\u001b[39;00m\n",
      "File \u001b[0;32m~/.pyenv/versions/mambaforge-4.10.1-4/envs/ih_DA_env/lib/python3.9/site-packages/pandas/core/internals/managers.py:679\u001b[0m, in \u001b[0;36mBaseBlockManager.reindex_indexer\u001b[0;34m(self, new_axis, indexer, axis, fill_value, allow_dups, copy, consolidate, only_slice, use_na_proxy)\u001b[0m\n\u001b[1;32m    677\u001b[0m \u001b[38;5;66;03m# some axes don't allow reindexing with dups\u001b[39;00m\n\u001b[1;32m    678\u001b[0m \u001b[38;5;28;01mif\u001b[39;00m \u001b[38;5;129;01mnot\u001b[39;00m allow_dups:\n\u001b[0;32m--> 679\u001b[0m     \u001b[38;5;28;43mself\u001b[39;49m\u001b[38;5;241;43m.\u001b[39;49m\u001b[43maxes\u001b[49m\u001b[43m[\u001b[49m\u001b[43maxis\u001b[49m\u001b[43m]\u001b[49m\u001b[38;5;241;43m.\u001b[39;49m\u001b[43m_validate_can_reindex\u001b[49m\u001b[43m(\u001b[49m\u001b[43mindexer\u001b[49m\u001b[43m)\u001b[49m\n\u001b[1;32m    681\u001b[0m \u001b[38;5;28;01mif\u001b[39;00m axis \u001b[38;5;241m>\u001b[39m\u001b[38;5;241m=\u001b[39m \u001b[38;5;28mself\u001b[39m\u001b[38;5;241m.\u001b[39mndim:\n\u001b[1;32m    682\u001b[0m     \u001b[38;5;28;01mraise\u001b[39;00m \u001b[38;5;167;01mIndexError\u001b[39;00m(\u001b[38;5;124m\"\u001b[39m\u001b[38;5;124mRequested axis not found in manager\u001b[39m\u001b[38;5;124m\"\u001b[39m)\n",
      "File \u001b[0;32m~/.pyenv/versions/mambaforge-4.10.1-4/envs/ih_DA_env/lib/python3.9/site-packages/pandas/core/indexes/base.py:4107\u001b[0m, in \u001b[0;36mIndex._validate_can_reindex\u001b[0;34m(self, indexer)\u001b[0m\n\u001b[1;32m   4105\u001b[0m \u001b[38;5;66;03m# trying to reindex on an axis with duplicates\u001b[39;00m\n\u001b[1;32m   4106\u001b[0m \u001b[38;5;28;01mif\u001b[39;00m \u001b[38;5;129;01mnot\u001b[39;00m \u001b[38;5;28mself\u001b[39m\u001b[38;5;241m.\u001b[39m_index_as_unique \u001b[38;5;129;01mand\u001b[39;00m \u001b[38;5;28mlen\u001b[39m(indexer):\n\u001b[0;32m-> 4107\u001b[0m     \u001b[38;5;28;01mraise\u001b[39;00m \u001b[38;5;167;01mValueError\u001b[39;00m(\u001b[38;5;124m\"\u001b[39m\u001b[38;5;124mcannot reindex on an axis with duplicate labels\u001b[39m\u001b[38;5;124m\"\u001b[39m)\n",
      "\u001b[0;31mValueError\u001b[0m: cannot reindex on an axis with duplicate labels"
     ]
    },
    {
     "data": {
      "image/png": "[encoded data removed]",
      "text/plain": [
       "<Figure size 1800x1800 with 110 Axes>"
      ]
     },
     "metadata": {
      "needs_background": "light"
     },
     "output_type": "display_data"
    }
   ],
   "source": [
    "sns.pairplot(hk_df)"
   ]
  },
  {
   "cell_type": "code",
   "execution_count": null,
   "metadata": {},
   "outputs": [],
   "source": [
    "hk_df.hist(figsize=(12,12))"
   ]
  },
  {
   "cell_type": "code",
   "execution_count": null,
   "metadata": {},
   "outputs": [],
   "source": [
    "sns.distplot((hk_df['median_home_val']), bins=20)"
   ]
  },
  {
   "cell_type": "code",
   "execution_count": null,
   "metadata": {},
   "outputs": [],
   "source": [
    "hk_df"
   ]
  },
  {
   "cell_type": "raw",
   "metadata": {},
   "source": [
    "median_home_val_boxcox=boxcox(hk_df[\"pobc2\"],lmbda=0.04)\n",
    "median_home_val_boxcox\n",
    "sns.displot(median_home_val_boxcox)"
   ]
  },
  {
   "cell_type": "markdown",
   "metadata": {},
   "source": [
    "<b>Power Transformer"
   ]
  },
  {
   "cell_type": "code",
   "execution_count": null,
   "metadata": {},
   "outputs": [],
   "source": [
    "pt = PowerTransformer()\n",
    "med_home_val_transformed=pt.fit_transform(hk_df['median_home_val'].to_numpy().reshape(-1,1))\n",
    "sns.displot(med_home_val_transformed)"
   ]
  },
  {
   "cell_type": "code",
   "execution_count": null,
   "metadata": {},
   "outputs": [],
   "source": [
    "##crud\n",
    "hk_df[\"med_home_val_transformed\"]= med_home_val_transformed\n",
    "hk_df.drop([\"median_home_val\"],axis=1,inplace=True)"
   ]
  },
  {
   "cell_type": "code",
   "execution_count": null,
   "metadata": {},
   "outputs": [],
   "source": [
    "hk_df"
   ]
  },
  {
   "cell_type": "code",
   "execution_count": null,
   "metadata": {},
   "outputs": [],
   "source": [
    "corr = hk_df.corr()\n",
    "mask = np.zeros_like(corr)\n",
    "mask[np.triu_indices_from(mask)] = True\n",
    "with sns.axes_style(\"white\"):\n",
    "    f, ax = plt.subplots(figsize=(9, 7))\n",
    "    ax = sns.heatmap(corr, mask=mask,cmap='coolwarm', vmin=-1,vmax=1,annot=True, square=True)"
   ]
  },
  {
   "cell_type": "markdown",
   "metadata": {},
   "source": [
    "### Highly Correlated Columns"
   ]
  },
  {
   "cell_type": "code",
   "execution_count": null,
   "metadata": {},
   "outputs": [],
   "source": [
    "corr_matrix=hk_df.corr().abs()\n",
    "upper_triangle=corr_matrix.where(np.triu(np.ones(corr_matrix.shape),k=1).astype(bool))\n",
    "[column for column in upper_triangle.columns if any(upper_triangle[column] > 0.80)]"
   ]
  },
  {
   "cell_type": "code",
   "execution_count": null,
   "metadata": {},
   "outputs": [],
   "source": [
    "def drop_high_correlated_columns(hk_df, threshold):\n",
    "    corr_matrix=hk_df.corr().abs()\n",
    "    upper_triangle=corr_matrix.where(np.triu(np.ones(corr_matrix.shape),k=1).astype(bool))\n",
    "    return [column for column in upper_triangle.columns if any(upper_triangle[column] > threshold)]"
   ]
  },
  {
   "cell_type": "markdown",
   "metadata": {},
   "source": [
    "### dropping highly correlated features"
   ]
  },
  {
   "cell_type": "code",
   "execution_count": null,
   "metadata": {},
   "outputs": [],
   "source": [
    "hk_df.drop([\"per_capita_income\",\"hvp1\",\"avg_household_income\",\"median_household_income\",\"med_fam_income\"],axis=1,inplace=True)"
   ]
  },
  {
   "cell_type": "code",
   "execution_count": null,
   "metadata": {},
   "outputs": [],
   "source": [
    "hk_df"
   ]
  },
  {
   "cell_type": "code",
   "execution_count": null,
   "metadata": {},
   "outputs": [],
   "source": [
    "hk_df.corr()"
   ]
  },
  {
   "cell_type": "markdown",
   "metadata": {},
   "source": [
    "## Hot coding Categorical Variables "
   ]
  },
  {
   "cell_type": "code",
   "execution_count": null,
   "metadata": {},
   "outputs": [],
   "source": [
    "categoricals_features= hk_df.select_dtypes(\"object\")\n",
    "categoricals_features"
   ]
  },
  {
   "cell_type": "code",
   "execution_count": null,
   "metadata": {},
   "outputs": [],
   "source": [
    "hk_df.state.value_counts()\n",
    "hk_df.gender.value_counts()\n",
    "hk_df.domain.value_counts()"
   ]
  },
  {
   "cell_type": "code",
   "execution_count": null,
   "metadata": {},
   "outputs": [],
   "source": [
    "categorical_cols=pd.get_dummies(categoricals_features[\"gender\"], drop_first=True)"
   ]
  },
  {
   "cell_type": "code",
   "execution_count": null,
   "metadata": {},
   "outputs": [],
   "source": [
    "categorical_cols"
   ]
  },
  {
   "cell_type": "raw",
   "metadata": {},
   "source": [
    "# get dummies pandas\n",
    "categoricals_features=pd.get_dummies(categoricals_features, drop_first=True)\n",
    "\n",
    "##pd.DataFrame(OneHotEncoder(drop='first').fit_transform(categoricals_features).toarray(),\n",
    "## ##columns=OneHotEncoder(drop='first').fit(categoricals_features).get_feature_names(input_features=categoricals_feature##s.columns)).head()"
   ]
  },
  {
   "cell_type": "markdown",
   "metadata": {},
   "source": [
    "### Predictive Modeling"
   ]
  },
  {
   "cell_type": "markdown",
   "metadata": {},
   "source": [
    "<b> X Y split"
   ]
  },
  {
   "cell_type": "code",
   "execution_count": null,
   "metadata": {},
   "outputs": [],
   "source": [
    "hk_df"
   ]
  },
  {
   "cell_type": "code",
   "execution_count": null,
   "metadata": {},
   "outputs": [],
   "source": [
    "#hk_df.drop([\"dob\",\"tcode\"],axis=1,inplace=True)\n",
    "X=hk_df.drop('target_d', axis=1)\n",
    "y=hk_df.target_d"
   ]
  },
  {
   "cell_type": "code",
   "execution_count": null,
   "metadata": {},
   "outputs": [],
   "source": [
    "#hk_df.drop([\"hvp1\",\"pobc1\",\"pobc2\"],axis=1,inplace=True)"
   ]
  },
  {
   "cell_type": "code",
   "execution_count": null,
   "metadata": {},
   "outputs": [],
   "source": [
    "y=hk_df.target_d"
   ]
  },
  {
   "cell_type": "code",
   "execution_count": null,
   "metadata": {},
   "outputs": [],
   "source": [
    "X=hk_df._get_numeric_data()\n",
    "X=X.drop('target_d', axis=1)"
   ]
  },
  {
   "cell_type": "code",
   "execution_count": null,
   "metadata": {},
   "outputs": [],
   "source": [
    "#X=X.append(categorical_cols, ignore_index=True)"
   ]
  },
  {
   "cell_type": "code",
   "execution_count": null,
   "metadata": {},
   "outputs": [],
   "source": [
    "X.hist(figsize=(14,14))"
   ]
  },
  {
   "cell_type": "markdown",
   "metadata": {},
   "source": [
    "<b>Data Splitting"
   ]
  },
  {
   "cell_type": "code",
   "execution_count": null,
   "metadata": {},
   "outputs": [],
   "source": [
    "X_train, X_test, y_train, y_test=train_test_split(X, y, test_size=.30,random_state=123)"
   ]
  },
  {
   "cell_type": "code",
   "execution_count": null,
   "metadata": {},
   "outputs": [],
   "source": [
    "X_train"
   ]
  },
  {
   "cell_type": "code",
   "execution_count": null,
   "metadata": {},
   "outputs": [],
   "source": [
    "y_train"
   ]
  },
  {
   "cell_type": "code",
   "execution_count": null,
   "metadata": {},
   "outputs": [],
   "source": [
    "X_test"
   ]
  },
  {
   "cell_type": "markdown",
   "metadata": {},
   "source": [
    "<b> Standardize "
   ]
  },
  {
   "cell_type": "code",
   "execution_count": null,
   "metadata": {},
   "outputs": [],
   "source": [
    "std_scaler=StandardScaler().fit(X_train) \n",
    "\n",
    "X_train_scaled=std_scaler.transform(X_train)"
   ]
  },
  {
   "cell_type": "code",
   "execution_count": null,
   "metadata": {},
   "outputs": [],
   "source": [
    "X_test_scaled=std_scaler.transform(X_test)"
   ]
  },
  {
   "cell_type": "code",
   "execution_count": null,
   "metadata": {},
   "outputs": [],
   "source": [
    "print(X_train_scaled)\n",
    "print(\"--------\")\n",
    "print(X_test_scaled)"
   ]
  },
  {
   "cell_type": "code",
   "execution_count": null,
   "metadata": {},
   "outputs": [],
   "source": [
    "hk_df"
   ]
  },
  {
   "cell_type": "markdown",
   "metadata": {},
   "source": [
    "## Apply Linear Regression"
   ]
  },
  {
   "cell_type": "code",
   "execution_count": null,
   "metadata": {},
   "outputs": [],
   "source": [
    "X.columns"
   ]
  },
  {
   "cell_type": "markdown",
   "metadata": {},
   "source": [
    "### Modeling using Statsmodels"
   ]
  },
  {
   "cell_type": "code",
   "execution_count": null,
   "metadata": {},
   "outputs": [],
   "source": [
    "X_train_const_scaled = sm.add_constant(X_train_scaled) # adding a constant\n",
    "\n",
    "model = sm.OLS(y_train, X_train_const_scaled).fit()\n",
    "predictions_train = model.predict(X_train_const_scaled) \n",
    "\n",
    "X_test_const_scaled = sm.add_constant(X_test_scaled) # adding a constant\n",
    "predictions_test = model.predict(X_test_const_scaled) \n",
    "print_model = model.summary()\n",
    "print(print_model)"
   ]
  },
  {
   "cell_type": "code",
   "execution_count": null,
   "metadata": {},
   "outputs": [],
   "source": [
    "predictions_test"
   ]
  },
  {
   "cell_type": "code",
   "execution_count": null,
   "metadata": {},
   "outputs": [],
   "source": [
    "#display adjusted R-squared\n",
    "print(model.rsquared_adj)"
   ]
  },
  {
   "cell_type": "markdown",
   "metadata": {},
   "source": [
    "### Modeling using Scikit Learn"
   ]
  },
  {
   "cell_type": "markdown",
   "metadata": {},
   "source": [
    "Model fitting"
   ]
  },
  {
   "cell_type": "code",
   "execution_count": null,
   "metadata": {},
   "outputs": [],
   "source": [
    "model=LinearRegression()    # model\n",
    "model.fit(X_train,y_train)   # model train"
   ]
  },
  {
   "cell_type": "code",
   "execution_count": null,
   "metadata": {},
   "outputs": [],
   "source": []
  },
  {
   "cell_type": "markdown",
   "metadata": {},
   "source": [
    "<b> model parameters"
   ]
  },
  {
   "cell_type": "code",
   "execution_count": null,
   "metadata": {},
   "outputs": [],
   "source": [
    "model.coef_"
   ]
  },
  {
   "cell_type": "code",
   "execution_count": null,
   "metadata": {},
   "outputs": [],
   "source": [
    "model.intercept_"
   ]
  },
  {
   "cell_type": "code",
   "execution_count": null,
   "metadata": {},
   "outputs": [],
   "source": [
    "model.score(X_test_scaled,y_test)"
   ]
  },
  {
   "cell_type": "markdown",
   "metadata": {},
   "source": [
    "Making prediction"
   ]
  },
  {
   "cell_type": "code",
   "execution_count": null,
   "metadata": {},
   "outputs": [],
   "source": [
    "y_pred=model.predict(X_test_scaled)   # model prediction\n",
    "##y_pred_train=model.predict(X_train)"
   ]
  },
  {
   "cell_type": "code",
   "execution_count": null,
   "metadata": {},
   "outputs": [],
   "source": [
    "y_test"
   ]
  },
  {
   "cell_type": "code",
   "execution_count": null,
   "metadata": {},
   "outputs": [],
   "source": [
    "y_pred"
   ]
  },
  {
   "cell_type": "code",
   "execution_count": null,
   "metadata": {},
   "outputs": [],
   "source": [
    "result=pd.DataFrame({\"y_test\":y_test,\"y_pred\":y_pred})"
   ]
  },
  {
   "cell_type": "code",
   "execution_count": null,
   "metadata": {},
   "outputs": [],
   "source": [
    "# Make an scatter plot y_pred vs y\n",
    "# What kind of plot you will get if all the all the predictions are ok?\n",
    "# A stright line\n",
    "\n",
    "fig, ax = plt.subplots(1,3,figsize=(14,4))\n",
    "ax[0].plot(y_pred, y_test, 'o')\n",
    "ax[0].set_xlabel(\"y_test\")\n",
    "ax[0].set_ylabel(\"y_pred\")\n",
    "ax[0].set_title(\"Test Set -Predicted vs real\")\n",
    "\n",
    "# Get a histogram of the residuals ie: y - y_pred.  Homoscdasticity\n",
    "# It resembles a normal distribution?\n",
    "ax[1].hist(y_test - y_pred)\n",
    "ax[1].set_xlabel(\"Test y-y_pred\")\n",
    "ax[1].set_title(\"Test Set Residual histogram\")\n",
    "\n",
    "ax[2].plot(y_pred,y_test - y_pred,\"o\")\n",
    "ax[2].set_xlabel(\"predited\")\n",
    "ax[2].set_ylabel(\"residuals\")\n",
    "ax[2].set_title(\"Residuals by Predicted\")\n",
    "ax[2].plot(y_pred,np.zeros(len(y_pred)),linestyle='dashed')"
   ]
  },
  {
   "cell_type": "markdown",
   "metadata": {},
   "source": [
    "<b>more fancy using seaborn"
   ]
  },
  {
   "cell_type": "code",
   "execution_count": null,
   "metadata": {},
   "outputs": [],
   "source": [
    "sns.regplot(x='y_pred',y='y_test', data=result, scatter_kws={\"color\": \"red\"}, line_kws={\"color\": \"black\"})"
   ]
  },
  {
   "cell_type": "markdown",
   "metadata": {},
   "source": [
    "<b> Error metrics"
   ]
  },
  {
   "cell_type": "code",
   "execution_count": null,
   "metadata": {},
   "outputs": [],
   "source": [
    "print(mse(y_test,y_pred))\n",
    "print(mae(y_test,y_pred))"
   ]
  },
  {
   "cell_type": "code",
   "execution_count": null,
   "metadata": {},
   "outputs": [],
   "source": [
    "R2=r2_score(y_test,y_pred)\n",
    "R2"
   ]
  },
  {
   "cell_type": "code",
   "execution_count": null,
   "metadata": {},
   "outputs": [],
   "source": [
    "X_test.shape[1]"
   ]
  },
  {
   "cell_type": "code",
   "execution_count": null,
   "metadata": {},
   "outputs": [],
   "source": [
    "Adj_R2= 1 - (1-R2)*(len(y_test)-1)/(len(y_test)-X_test.shape[1]-1)\n",
    "Adj_R2"
   ]
  },
  {
   "cell_type": "markdown",
   "metadata": {},
   "source": [
    "#### Feature Importance"
   ]
  },
  {
   "cell_type": "code",
   "execution_count": null,
   "metadata": {},
   "outputs": [],
   "source": [
    "features_importances = pd.DataFrame(data={\n",
    "    'Attribute': X_train.columns,\n",
    "    'Importance': abs(model.coef_)\n",
    "})\n",
    "features_importances = features_importances.sort_values(by='Importance', ascending=False)"
   ]
  },
  {
   "cell_type": "code",
   "execution_count": null,
   "metadata": {},
   "outputs": [],
   "source": [
    "features_importances"
   ]
  },
  {
   "cell_type": "code",
   "execution_count": null,
   "metadata": {},
   "outputs": [],
   "source": [
    "plt.bar(x=features_importances['Attribute'], height=features_importances['Importance'], color='#087E8B')\n",
    "plt.title('Feature importances obtained from coefficients', size=20)\n",
    "plt.xticks(rotation='vertical')\n",
    "plt.show()"
   ]
  },
  {
   "cell_type": "markdown",
   "metadata": {
    "id": "TKHRqKr9xy-e"
   },
   "source": [
    "#### Write a csv\n",
    "\n",
    "With `to_csv` "
   ]
  },
  {
   "cell_type": "code",
   "execution_count": null,
   "metadata": {
    "id": "y0sCwQhbxy-e"
   },
   "outputs": [],
   "source": [
    "hk_df.to_csv(\"Data/healthcare_for_all_cleaned_data.csv\")"
   ]
  },
  {
   "cell_type": "code",
   "execution_count": null,
   "metadata": {},
   "outputs": [],
   "source": []
  }
 ],
 "metadata": {
  "colab": {
   "name": "Intro to Pandas - \"Healthcare for All\" Code Along - Structure.ipynb",
   "provenance": [],
   "toc_visible": true
  },
  "kernelspec": {
   "display_name": "Python 3 (ipykernel)",
   "language": "python",
   "name": "python3"
  },
  "language_info": {
   "codemirror_mode": {
    "name": "ipython",
    "version": 3
   },
   "file_extension": ".py",
   "mimetype": "text/x-python",
   "name": "python",
   "nbconvert_exporter": "python",
   "pygments_lexer": "ipython3",
   "version": "3.9.13"
  },
  "toc": {
   "base_numbering": 1,
   "nav_menu": {},
   "number_sections": true,
   "sideBar": true,
   "skip_h1_title": false,
   "title_cell": "Table of Contents",
   "title_sidebar": "Contents",
   "toc_cell": false,
   "toc_position": {},
   "toc_section_display": true,
   "toc_window_display": false
  },
  "varInspector": {
   "cols": {
    "lenName": 16,
    "lenType": 16,
    "lenVar": 40
   },
   "kernels_config": {
    "python": {
     "delete_cmd_postfix": "",
     "delete_cmd_prefix": "del ",
     "library": "var_list.py",
     "varRefreshCmd": "print(var_dic_list())"
    },
    "r": {
     "delete_cmd_postfix": ") ",
     "delete_cmd_prefix": "rm(",
     "library": "var_list.r",
     "varRefreshCmd": "cat(var_dic_list()) "
    }
   },
   "types_to_exclude": [
    "module",
    "function",
    "builtin_function_or_method",
    "instance",
    "_Feature"
   ],
   "window_display": false
  }
 },
 "nbformat": 4,
 "nbformat_minor": 1
}
