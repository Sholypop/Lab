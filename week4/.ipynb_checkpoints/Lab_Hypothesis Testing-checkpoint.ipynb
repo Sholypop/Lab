{
 "cells": [
  {
   "cell_type": "markdown",
   "id": "963abe4f",
   "metadata": {},
   "source": [
    "# Test Statistics "
   ]
  },
  {
   "cell_type": "code",
   "execution_count": 1,
   "id": "17d01e1a",
   "metadata": {},
   "outputs": [],
   "source": [
    "import scipy.stats"
   ]
  },
  {
   "cell_type": "code",
   "execution_count": 2,
   "id": "1711912f",
   "metadata": {},
   "outputs": [],
   "source": [
    "u_gen_pop = 120    # general population mean\n",
    "u_honlulu = 130.1  #group/sample mean\n",
    "st_dev = 21.21\n",
    "n = 100\n",
    "# Is the group significantly different (with respect to systolic blood pressure!) from the regular population?"
   ]
  },
  {
   "cell_type": "code",
   "execution_count": 3,
   "id": "d4996d41",
   "metadata": {},
   "outputs": [],
   "source": [
    "# setting up the Hypothesis Test \n",
    "\n",
    "## Ho = 120\n",
    "## Ha = (>120)  # = 130.1"
   ]
  },
  {
   "cell_type": "code",
   "execution_count": 4,
   "id": "b9f7ef3f",
   "metadata": {},
   "outputs": [],
   "source": [
    "### general mean of the population is 120\n",
    "### mean at honolulu is 130.1\n",
    "### will be checking statistically if there is realy any differnce in the sample of the population\n",
    "### st_dev of the population is not known, but that of the honlulu(sample) is known. therefore we use the t Formula"
   ]
  },
  {
   "cell_type": "code",
   "execution_count": 5,
   "id": "a085cb59",
   "metadata": {},
   "outputs": [],
   "source": [
    "# calculating the test statistic \n",
    "\n",
    "a = u_honlulu - u_gen_pop\n",
    "b = st_dev/pow(100,0.5)\n",
    "t = a/b"
   ]
  },
  {
   "cell_type": "code",
   "execution_count": 6,
   "id": "78ceab29",
   "metadata": {},
   "outputs": [
    {
     "data": {
      "text/plain": [
       "4.761904761904759"
      ]
     },
     "execution_count": 6,
     "metadata": {},
     "output_type": "execute_result"
    }
   ],
   "source": [
    "t"
   ]
  },
  {
   "cell_type": "markdown",
   "id": "ed9f6213",
   "metadata": {},
   "source": [
    "### From the table of \"Upper critical values of Student's t distribution with degrees of freedom\", using the column of 0.05 of \"Probability of exceeding the critical value\" in the row of 99 degrees of freedom. The critical points/value for testing our hypothesis are is +-1.66 critical value.\n"
   ]
  },
  {
   "cell_type": "code",
   "execution_count": 7,
   "id": "aa34c00e",
   "metadata": {},
   "outputs": [],
   "source": [
    "#       0.10 0.05  0.025  0.01   0.005  0.001 \n",
    "#  99. 1.290 1.660 1.984  2.365  2.626  3.175"
   ]
  },
  {
   "cell_type": "code",
   "execution_count": 8,
   "id": "1668a1dd",
   "metadata": {},
   "outputs": [],
   "source": [
    "tc = +- scipy.stats.t.ppf(0.95, df=99)"
   ]
  },
  {
   "cell_type": "code",
   "execution_count": 9,
   "id": "ecb817dd",
   "metadata": {},
   "outputs": [
    {
     "data": {
      "text/plain": [
       "-1.6603911559963895"
      ]
     },
     "execution_count": 9,
     "metadata": {},
     "output_type": "execute_result"
    }
   ],
   "source": [
    "tc"
   ]
  },
  {
   "cell_type": "code",
   "execution_count": 10,
   "id": "64b03752",
   "metadata": {},
   "outputs": [
    {
     "data": {
      "text/plain": [
       "True"
      ]
     },
     "execution_count": 10,
     "metadata": {},
     "output_type": "execute_result"
    }
   ],
   "source": [
    "t > tc"
   ]
  },
  {
   "cell_type": "markdown",
   "id": "6f0aa39b",
   "metadata": {},
   "source": [
    "I reject the H0 because the calculated t> t_critical and therefore, the given sample lies outside the confidence\n",
    "interval.\n",
    "\n",
    "confidence level = the space of distribution, where I cannot reject HO (within the 95% area)\n",
    "\n",
    "staistical significance level = the space of distribution, where I have to reject my HO(within the 5% area)"
   ]
  },
  {
   "cell_type": "code",
   "execution_count": 11,
   "id": "55111f48",
   "metadata": {},
   "outputs": [],
   "source": [
    "# CONCLUSION : the group is significantly different with a confidence level above 95%."
   ]
  },
  {
   "cell_type": "code",
   "execution_count": 12,
   "id": "ed70281a",
   "metadata": {},
   "outputs": [],
   "source": [
    "# zc = +- scipy.stats.norm.ppf(0.95)"
   ]
  },
  {
   "cell_type": "code",
   "execution_count": null,
   "id": "221d5237",
   "metadata": {},
   "outputs": [],
   "source": []
  }
 ],
 "metadata": {
  "kernelspec": {
   "display_name": "Python 3 (ipykernel)",
   "language": "python",
   "name": "python3"
  },
  "language_info": {
   "codemirror_mode": {
    "name": "ipython",
    "version": 3
   },
   "file_extension": ".py",
   "mimetype": "text/x-python",
   "name": "python",
   "nbconvert_exporter": "python",
   "pygments_lexer": "ipython3",
   "version": "3.9.13"
  }
 },
 "nbformat": 4,
 "nbformat_minor": 5
}
