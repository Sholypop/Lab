{
 "cells": [
  {
   "cell_type": "markdown",
   "id": "1900958c",
   "metadata": {},
   "source": [
    "# Test Statistics "
   ]
  },
  {
   "cell_type": "code",
   "execution_count": 1,
   "id": "22281adb",
   "metadata": {},
   "outputs": [],
   "source": [
    "u_gen_pop = 120    # general population mean\n",
    "u_honlulu = 130.1  #group mean\n",
    "st_dev = 21.21\n",
    "n = 100\n",
    "# Is the group significantly different (with respect to systolic blood pressure!) from the regular population?"
   ]
  },
  {
   "cell_type": "code",
   "execution_count": 2,
   "id": "e7bed160",
   "metadata": {},
   "outputs": [],
   "source": [
    "# statistic_test \n",
    "# Ho = 120\n",
    "# Ha = (>120)  # = 130.1"
   ]
  },
  {
   "cell_type": "code",
   "execution_count": 3,
   "id": "679cd99b",
   "metadata": {},
   "outputs": [],
   "source": [
    "a = u_honlulu - u_gen_pop\n",
    "b = st_dev/pow(100,0.5)\n",
    "t = a/b"
   ]
  },
  {
   "cell_type": "code",
   "execution_count": 4,
   "id": "386ee67a",
   "metadata": {},
   "outputs": [
    {
     "data": {
      "text/plain": [
       "4.761904761904759"
      ]
     },
     "execution_count": 4,
     "metadata": {},
     "output_type": "execute_result"
    }
   ],
   "source": [
    "t"
   ]
  },
  {
   "cell_type": "code",
   "execution_count": 5,
   "id": "d0e8417e",
   "metadata": {},
   "outputs": [],
   "source": [
    "#       0.10 0.05  0.025  0.01   0.005  0.001 \n",
    "#  99. 1.290 1.660 1.984  2.365  2.626  3.175 "
   ]
  },
  {
   "cell_type": "code",
   "execution_count": 6,
   "id": "81f881ee",
   "metadata": {},
   "outputs": [],
   "source": [
    "# CONCLUSION : the group is significantly different with a confidence level above 99%."
   ]
  },
  {
   "cell_type": "code",
   "execution_count": null,
   "id": "aa8a6e80",
   "metadata": {},
   "outputs": [],
   "source": []
  },
  {
   "cell_type": "code",
   "execution_count": null,
   "id": "aecb8fbc",
   "metadata": {},
   "outputs": [],
   "source": []
  }
 ],
 "metadata": {
  "kernelspec": {
   "display_name": "Python 3 (ipykernel)",
   "language": "python",
   "name": "python3"
  },
  "language_info": {
   "codemirror_mode": {
    "name": "ipython",
    "version": 3
   },
   "file_extension": ".py",
   "mimetype": "text/x-python",
   "name": "python",
   "nbconvert_exporter": "python",
   "pygments_lexer": "ipython3",
   "version": "3.9.13"
  }
 },
 "nbformat": 4,
 "nbformat_minor": 5
}
