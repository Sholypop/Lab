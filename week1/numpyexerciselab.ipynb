{
 "cells": [
  {
   "cell_type": "markdown",
   "id": "9a675d6d",
   "metadata": {},
   "source": [
    "1. Import the numpy package under the name np (★☆☆)\n",
    "hint: import … as\n",
    "\n",
    "2. Create a null vector of size 10 (★☆☆)\n",
    "hint: np.zeros\n",
    "\n",
    "3. Create a null vector of size 10 but the fifth value which is 1 (★☆☆)\n",
    "hint: array[4]\n",
    "\n",
    "4. Create a vector with values ranging from 10 to 49 (★☆☆)\n",
    "hint: arange\n",
    "\n",
    "5. Create a 3x3 matrix with values ranging from 0 to 8 (★☆☆)\n",
    "hint: reshape\n",
    "\n",
    "6. Find indices of non-zero elements from [1,2,0,0,4,0] (★☆☆)\n",
    "hint: np.nonzero\n",
    "\n",
    "7. Create a 3x3 identity matrix (★☆☆)\n",
    "hint: np.eye\n",
    "\n",
    "8. Create a 3x3x3 array with random values (★☆☆)\n",
    "hint: np.random.random\n",
    "\n",
    "9. Create a 10x10 array with random values and find the minimum and maximum values (★☆☆)\n",
    "hint: min, max\n",
    "\n",
    "10. Create a random vector of size 30 and find the mean value (★☆☆)\n",
    "hint: mean\n",
    "\n",
    "11. Create a 5x5 matrix with values 1,2,3,4 just below the diagonal (★☆☆)\n",
    "hint: np.diag\n",
    "\n",
    "12. Normalize a 5x5 random matrix (★☆☆)\n",
    "hint: (x -mean)/std\n",
    "\n",
    "13. How to find common values between two arrays? (★☆☆)\n",
    "hint: np.intersect1d\n",
    "\n",
    "14. Create a random vector of size 10 and sort it (★★☆)\n",
    "hint: sort\n",
    "\n",
    "15. Create random vector of size 10 and replace the maximum value by 0 (★★☆)\n",
    "hint: argmax\n",
    "\n",
    "16. Subtract the mean of each row of a matrix (★★☆)\n",
    "hint: mean(axis=,keepdims=)\n",
    "\n",
    "17. How to get the n largest values of an array (★★★)\n",
    "Z = np.arange(10000) np.random.shuffle(Z) n = 5 hint: np.argsort | np.argpartition\n",
    "\n",
    "18. Create a random 5*3 matrix and replace items that are larger than 4 by their squares ( Example: 6 --> 36)\n",
    "hint: np.where"
   ]
  },
  {
   "cell_type": "code",
   "execution_count": 1,
   "id": "bd787d32",
   "metadata": {},
   "outputs": [],
   "source": [
    "# 1\n",
    "import numpy as np"
   ]
  },
  {
   "cell_type": "code",
   "execution_count": 2,
   "id": "3525ac51",
   "metadata": {},
   "outputs": [
    {
     "data": {
      "text/plain": [
       "array([0., 0., 0., 0., 0., 0., 0., 0., 0., 0.])"
      ]
     },
     "execution_count": 2,
     "metadata": {},
     "output_type": "execute_result"
    }
   ],
   "source": [
    "# 2\n",
    "np.zeros((5,2)).reshape(-1)"
   ]
  },
  {
   "cell_type": "code",
   "execution_count": 3,
   "id": "b4b5baa5",
   "metadata": {},
   "outputs": [
    {
     "data": {
      "text/plain": [
       "array([0., 0., 0., 0., 1., 0., 0., 0., 0., 0.])"
      ]
     },
     "execution_count": 3,
     "metadata": {},
     "output_type": "execute_result"
    }
   ],
   "source": [
    "# 3\n",
    "array = np.zeros((5,2)).reshape(-1)\n",
    "array[4] = 1\n",
    "array"
   ]
  },
  {
   "cell_type": "code",
   "execution_count": 4,
   "id": "d8d79354",
   "metadata": {},
   "outputs": [
    {
     "data": {
      "text/plain": [
       "array([10, 11, 12, 13, 14, 15, 16, 17, 18, 19, 20, 21, 22, 23, 24, 25, 26,\n",
       "       27, 28, 29, 30, 31, 32, 33, 34, 35, 36, 37, 38, 39, 40, 41, 42, 43,\n",
       "       44, 45, 46, 47, 48])"
      ]
     },
     "execution_count": 4,
     "metadata": {},
     "output_type": "execute_result"
    }
   ],
   "source": [
    "#4\n",
    "np.arange(10,49)"
   ]
  },
  {
   "cell_type": "code",
   "execution_count": 5,
   "id": "51d1f80c",
   "metadata": {},
   "outputs": [
    {
     "data": {
      "text/plain": [
       "array([[6, 0, 5],\n",
       "       [6, 0, 6],\n",
       "       [3, 1, 1]])"
      ]
     },
     "execution_count": 5,
     "metadata": {},
     "output_type": "execute_result"
    }
   ],
   "source": [
    "# 5. Create a 3x3 matrix with values ranging from 0 to 8\n",
    "np.random.randint(0, 8, (3,3))"
   ]
  },
  {
   "cell_type": "code",
   "execution_count": 6,
   "id": "be6c060b",
   "metadata": {},
   "outputs": [
    {
     "data": {
      "text/plain": [
       "(array([0, 1, 4]),)"
      ]
     },
     "execution_count": 6,
     "metadata": {},
     "output_type": "execute_result"
    }
   ],
   "source": [
    "# 6. Find indices of non-zero elements from [1,2,0,0,4,0]\n",
    "np.nonzero([1,2,0,0,4,0])"
   ]
  },
  {
   "cell_type": "code",
   "execution_count": 7,
   "id": "177a4102",
   "metadata": {},
   "outputs": [
    {
     "data": {
      "text/plain": [
       "array([[1., 0., 0.],\n",
       "       [0., 1., 0.],\n",
       "       [0., 0., 1.]])"
      ]
     },
     "execution_count": 7,
     "metadata": {},
     "output_type": "execute_result"
    }
   ],
   "source": [
    "# 7. Create a 3x3 identity matrix \n",
    "np.eye(3)"
   ]
  },
  {
   "cell_type": "code",
   "execution_count": 8,
   "id": "021fee64",
   "metadata": {},
   "outputs": [
    {
     "data": {
      "text/plain": [
       "array([[[0.47064666, 0.59327448, 0.64837245],\n",
       "        [0.07946703, 0.36364687, 0.66356602],\n",
       "        [0.24506904, 0.31294102, 0.52256895]],\n",
       "\n",
       "       [[0.31062928, 0.57610684, 0.22390274],\n",
       "        [0.57454442, 0.09818962, 0.4721829 ],\n",
       "        [0.91381431, 0.1427565 , 0.34769078]],\n",
       "\n",
       "       [[0.09293569, 0.14694726, 0.79242671],\n",
       "        [0.24032819, 0.99361167, 0.65065152],\n",
       "        [0.15886714, 0.74303365, 0.28551707]]])"
      ]
     },
     "execution_count": 8,
     "metadata": {},
     "output_type": "execute_result"
    }
   ],
   "source": [
    "# 8. Create a 3x3x3 array with random values \n",
    "np.random.random((3,3,3))"
   ]
  },
  {
   "cell_type": "code",
   "execution_count": 9,
   "id": "85c66569",
   "metadata": {},
   "outputs": [
    {
     "data": {
      "text/plain": [
       "array([[28, 14, 16, 27, 17, 19,  2, 24, 25,  3],\n",
       "       [ 4, 21, 10,  4, 16, 27,  7, 20, 16, 19],\n",
       "       [21, 15, 11, 19,  7, 19,  8, 17, 15, 25],\n",
       "       [26,  2, 20, 20, 28, 23,  0, 27, 13, 16],\n",
       "       [16,  9,  4, 27,  1,  0,  3,  1, 26, 25],\n",
       "       [28,  5,  4, 18,  3, 14, 22,  8, 23, 10],\n",
       "       [13, 21, 20, 18, 11,  7,  7,  1, 29, 26],\n",
       "       [29,  3, 22,  0, 15, 17,  2, 23, 17,  0],\n",
       "       [13, 14, 11,  4, 28, 25, 25,  6,  5, 22],\n",
       "       [ 8,  6, 13, 26, 11, 29, 20, 15, 20, 10]])"
      ]
     },
     "execution_count": 9,
     "metadata": {},
     "output_type": "execute_result"
    }
   ],
   "source": [
    "# 9. Create a 10x10 array with random values and find the minimum and maximum values\n",
    "array = np.random.randint(0,30, (10,10))\n",
    "array"
   ]
  },
  {
   "cell_type": "code",
   "execution_count": 10,
   "id": "0e951211",
   "metadata": {},
   "outputs": [
    {
     "data": {
      "text/plain": [
       "0"
      ]
     },
     "execution_count": 10,
     "metadata": {},
     "output_type": "execute_result"
    }
   ],
   "source": [
    "np.min(array)"
   ]
  },
  {
   "cell_type": "code",
   "execution_count": 11,
   "id": "81fadc52",
   "metadata": {},
   "outputs": [
    {
     "data": {
      "text/plain": [
       "29"
      ]
     },
     "execution_count": 11,
     "metadata": {},
     "output_type": "execute_result"
    }
   ],
   "source": [
    "np.max(array)"
   ]
  },
  {
   "cell_type": "code",
   "execution_count": 12,
   "id": "d5398c98",
   "metadata": {},
   "outputs": [
    {
     "data": {
      "text/plain": [
       "array([0.83965123, 0.97644467, 0.30245759, 0.30043075, 0.60773282,\n",
       "       0.58334184, 0.79651915, 0.44356946, 0.16888273, 0.95046447,\n",
       "       0.99831329, 0.13502634, 0.14374118, 0.18094155, 0.8359489 ,\n",
       "       0.29055247, 0.89873541, 0.40615702, 0.62389672, 0.66135424,\n",
       "       0.29135179, 0.44454122, 0.46611287, 0.48271493, 0.79027539,\n",
       "       0.88800112, 0.93029218, 0.46086531, 0.36452669, 0.17071348])"
      ]
     },
     "execution_count": 12,
     "metadata": {},
     "output_type": "execute_result"
    }
   ],
   "source": [
    "# 10. Create a random vector of size 30 and find the mean value\n",
    "array = np.random.random(30)\n",
    "array"
   ]
  },
  {
   "cell_type": "code",
   "execution_count": 13,
   "id": "92c49cdc",
   "metadata": {},
   "outputs": [
    {
     "data": {
      "text/plain": [
       "0.5477852266297865"
      ]
     },
     "execution_count": 13,
     "metadata": {},
     "output_type": "execute_result"
    }
   ],
   "source": [
    "np.mean(array)"
   ]
  },
  {
   "cell_type": "code",
   "execution_count": 14,
   "id": "fa072c63",
   "metadata": {},
   "outputs": [
    {
     "data": {
      "text/plain": [
       "array([[1, 0, 0, 0, 0],\n",
       "       [0, 2, 0, 0, 0],\n",
       "       [0, 0, 3, 0, 0],\n",
       "       [0, 0, 0, 4, 0],\n",
       "       [0, 0, 0, 0, 1]])"
      ]
     },
     "execution_count": 14,
     "metadata": {},
     "output_type": "execute_result"
    }
   ],
   "source": [
    "# 11. Create a 5x5 matrix with values 1,2,3,4 just below the diagonal\n",
    "array = np.array([1,2,3,4,1])\n",
    "array_2 = np.diag(array)\n",
    "array_2"
   ]
  },
  {
   "cell_type": "code",
   "execution_count": 15,
   "id": "d9aca63c",
   "metadata": {},
   "outputs": [
    {
     "data": {
      "text/plain": [
       "array([[21.50731188,  5.50731188,  7.50731188,  2.50731188,  5.50731188],\n",
       "       [ 8.50731188, 20.50731188,  7.50731188,  8.50731188, 15.50731188],\n",
       "       [23.50731188, 11.50731188, 16.50731188,  2.50731188, -0.49268812],\n",
       "       [-1.49268812, -1.49268812, 12.50731188,  2.50731188, 13.50731188],\n",
       "       [ 5.50731188, 14.50731188,  9.50731188, 24.50731188, 25.50731188]])"
      ]
     },
     "execution_count": 15,
     "metadata": {},
     "output_type": "execute_result"
    }
   ],
   "source": [
    "# 12. Normalize a 5x5 random matrix\n",
    "#hint: (x -mean)/std\n",
    "array = np.random.randint(0,30, (5,5))\n",
    "mean = np.mean(array)\n",
    "st_dev = np.std(array)\n",
    "array-mean/st_dev"
   ]
  },
  {
   "cell_type": "code",
   "execution_count": 16,
   "id": "8d4b9948",
   "metadata": {},
   "outputs": [
    {
     "data": {
      "text/plain": [
       "array([1, 2, 3])"
      ]
     },
     "execution_count": 16,
     "metadata": {},
     "output_type": "execute_result"
    }
   ],
   "source": [
    "# 13. How to find common values between two arrays?\n",
    "array1 = np.array([1,2,3,9,12,45])\n",
    "array2 = np.array([1,2,3,19,14,32])\n",
    "np.intersect1d(array1,array2)"
   ]
  },
  {
   "cell_type": "code",
   "execution_count": 17,
   "id": "603eb4e3",
   "metadata": {},
   "outputs": [
    {
     "data": {
      "text/plain": [
       "array([0.50332098, 0.62944657, 0.23362012, 0.03193907, 0.20717797,\n",
       "       0.11511539, 0.37860236, 0.94655763, 0.51580966, 0.88590979])"
      ]
     },
     "execution_count": 17,
     "metadata": {},
     "output_type": "execute_result"
    }
   ],
   "source": [
    "# 14. Create a random vector of size 10 and sort it\n",
    "array = np.random.random(10)\n",
    "array"
   ]
  },
  {
   "cell_type": "code",
   "execution_count": 18,
   "id": "97e55930",
   "metadata": {},
   "outputs": [
    {
     "data": {
      "text/plain": [
       "array([0.03193907, 0.11511539, 0.20717797, 0.23362012, 0.37860236,\n",
       "       0.50332098, 0.51580966, 0.62944657, 0.88590979, 0.94655763])"
      ]
     },
     "execution_count": 18,
     "metadata": {},
     "output_type": "execute_result"
    }
   ],
   "source": [
    "np.sort(array)"
   ]
  },
  {
   "cell_type": "code",
   "execution_count": 19,
   "id": "ed3fc78e",
   "metadata": {},
   "outputs": [
    {
     "data": {
      "text/plain": [
       "array([0.66245277, 0.75833843, 0.4179898 , 0.87487565, 0.39353832,\n",
       "       0.12014331, 0.98885514, 0.02240761, 0.65070122, 0.84645263])"
      ]
     },
     "execution_count": 19,
     "metadata": {},
     "output_type": "execute_result"
    }
   ],
   "source": [
    "# 15. Create random vector of size 10 and replace the maximum value by 0\n",
    "array = np.random.random(10)\n",
    "array"
   ]
  },
  {
   "cell_type": "code",
   "execution_count": 20,
   "id": "3d54a9ba",
   "metadata": {},
   "outputs": [
    {
     "data": {
      "text/plain": [
       "6"
      ]
     },
     "execution_count": 20,
     "metadata": {},
     "output_type": "execute_result"
    }
   ],
   "source": [
    "x = np.argmax(array)\n",
    "x"
   ]
  },
  {
   "cell_type": "code",
   "execution_count": 21,
   "id": "c8e3a46a",
   "metadata": {},
   "outputs": [],
   "source": [
    "array[x] = 0"
   ]
  },
  {
   "cell_type": "code",
   "execution_count": 22,
   "id": "07d6699f",
   "metadata": {},
   "outputs": [
    {
     "data": {
      "text/plain": [
       "array([0.66245277, 0.75833843, 0.4179898 , 0.87487565, 0.39353832,\n",
       "       0.12014331, 0.        , 0.02240761, 0.65070122, 0.84645263])"
      ]
     },
     "execution_count": 22,
     "metadata": {},
     "output_type": "execute_result"
    }
   ],
   "source": [
    "array"
   ]
  },
  {
   "cell_type": "code",
   "execution_count": 23,
   "id": "9be706b1",
   "metadata": {},
   "outputs": [
    {
     "data": {
      "text/plain": [
       "array([[ 1,  2,  3,  4,  5],\n",
       "       [ 6,  7,  8,  9, 10]])"
      ]
     },
     "execution_count": 23,
     "metadata": {},
     "output_type": "execute_result"
    }
   ],
   "source": [
    "# 16. Subtract the mean of each row of a matrix (★★☆)\n",
    "#hint: mean(axis=,keepdims=)\n",
    "\n",
    "array = np.array([[1,2,3,4,5], [6,7,8,9,10]])\n",
    "array"
   ]
  },
  {
   "cell_type": "code",
   "execution_count": 24,
   "id": "8ca36260",
   "metadata": {},
   "outputs": [
    {
     "data": {
      "text/plain": [
       "array([3., 8.])"
      ]
     },
     "execution_count": 24,
     "metadata": {},
     "output_type": "execute_result"
    }
   ],
   "source": [
    "array.mean(axis = 1)"
   ]
  },
  {
   "cell_type": "code",
   "execution_count": 25,
   "id": "acd5e9f1",
   "metadata": {},
   "outputs": [
    {
     "data": {
      "text/plain": [
       "array([   0,    1,    2, ..., 9997, 9998, 9999])"
      ]
     },
     "execution_count": 25,
     "metadata": {},
     "output_type": "execute_result"
    }
   ],
   "source": [
    "# 17. How to get the n largest values of an array (★★★)\n",
    "# Z = np.arange(10000) np.random.shuffle(Z) n = 5 hint: np.argsort | np.argpartition\n",
    "\n",
    "z = np.arange(10000)\n",
    "z"
   ]
  },
  {
   "cell_type": "code",
   "execution_count": 26,
   "id": "51f683e0",
   "metadata": {},
   "outputs": [],
   "source": [
    "np.random.shuffle(z)"
   ]
  },
  {
   "cell_type": "code",
   "execution_count": 27,
   "id": "05d2752d",
   "metadata": {},
   "outputs": [
    {
     "data": {
      "text/plain": [
       "array([3619, 6202, 6749, ..., 3942,  146, 9118])"
      ]
     },
     "execution_count": 27,
     "metadata": {},
     "output_type": "execute_result"
    }
   ],
   "source": [
    "z"
   ]
  },
  {
   "cell_type": "code",
   "execution_count": 28,
   "id": "01322ae3",
   "metadata": {},
   "outputs": [
    {
     "data": {
      "text/plain": [
       "array([9586, 2668, 2849, ..., 1480, 1280, 2763])"
      ]
     },
     "execution_count": 28,
     "metadata": {},
     "output_type": "execute_result"
    }
   ],
   "source": [
    "np.argsort(z)"
   ]
  },
  {
   "cell_type": "code",
   "execution_count": 29,
   "id": "c7f83973",
   "metadata": {},
   "outputs": [
    {
     "data": {
      "text/plain": [
       "array([[0, 5, 6],\n",
       "       [1, 8, 9],\n",
       "       [6, 5, 5],\n",
       "       [9, 4, 3],\n",
       "       [8, 7, 4]])"
      ]
     },
     "execution_count": 29,
     "metadata": {},
     "output_type": "execute_result"
    }
   ],
   "source": [
    "# 18. Create a random 5*3 matrix and replace items that are larger than 4 by their squares ( Example: 6 --> 36)\n",
    "#hint: np.where\n",
    "array = np.random.randint(0,10, (5,3))\n",
    "array"
   ]
  },
  {
   "cell_type": "code",
   "execution_count": 30,
   "id": "6916ac19",
   "metadata": {},
   "outputs": [
    {
     "data": {
      "text/plain": [
       "array([[ 0, 25, 36],\n",
       "       [ 1, 64, 81],\n",
       "       [36, 25, 25],\n",
       "       [81,  4,  3],\n",
       "       [64, 49,  4]])"
      ]
     },
     "execution_count": 30,
     "metadata": {},
     "output_type": "execute_result"
    }
   ],
   "source": [
    "array = np.where(array > 4, array**2, array)\n",
    "array"
   ]
  },
  {
   "cell_type": "code",
   "execution_count": null,
   "id": "3f5ca25d",
   "metadata": {},
   "outputs": [],
   "source": []
  }
 ],
 "metadata": {
  "kernelspec": {
   "display_name": "Python 3 (ipykernel)",
   "language": "python",
   "name": "python3"
  },
  "language_info": {
   "codemirror_mode": {
    "name": "ipython",
    "version": 3
   },
   "file_extension": ".py",
   "mimetype": "text/x-python",
   "name": "python",
   "nbconvert_exporter": "python",
   "pygments_lexer": "ipython3",
   "version": "3.9.13"
  }
 },
 "nbformat": 4,
 "nbformat_minor": 5
}
