{
 "cells": [
  {
   "cell_type": "markdown",
   "id": "9a675d6d",
   "metadata": {},
   "source": [
    "1. Import the numpy package under the name np (★☆☆)\n",
    "hint: import … as\n",
    "\n",
    "2. Create a null vector of size 10 (★☆☆)\n",
    "hint: np.zeros\n",
    "\n",
    "3. Create a null vector of size 10 but the fifth value which is 1 (★☆☆)\n",
    "hint: array[4]\n",
    "\n",
    "4. Create a vector with values ranging from 10 to 49 (★☆☆)\n",
    "hint: arange\n",
    "\n",
    "5. Create a 3x3 matrix with values ranging from 0 to 8 (★☆☆)\n",
    "hint: reshape\n",
    "\n",
    "6. Find indices of non-zero elements from [1,2,0,0,4,0] (★☆☆)\n",
    "hint: np.nonzero\n",
    "\n",
    "7. Create a 3x3 identity matrix (★☆☆)\n",
    "hint: np.eye\n",
    "\n",
    "8. Create a 3x3x3 array with random values (★☆☆)\n",
    "hint: np.random.random\n",
    "\n",
    "9. Create a 10x10 array with random values and find the minimum and maximum values (★☆☆)\n",
    "hint: min, max\n",
    "\n",
    "10. Create a random vector of size 30 and find the mean value (★☆☆)\n",
    "hint: mean\n",
    "\n",
    "11. Create a 5x5 matrix with values 1,2,3,4 just below the diagonal (★☆☆)\n",
    "hint: np.diag\n",
    "\n",
    "12. Normalize a 5x5 random matrix (★☆☆)\n",
    "hint: (x -mean)/std\n",
    "\n",
    "13. How to find common values between two arrays? (★☆☆)\n",
    "hint: np.intersect1d\n",
    "\n",
    "14. Create a random vector of size 10 and sort it (★★☆)\n",
    "hint: sort\n",
    "\n",
    "15. Create random vector of size 10 and replace the maximum value by 0 (★★☆)\n",
    "hint: argmax\n",
    "\n",
    "16. Subtract the mean of each row of a matrix (★★☆)\n",
    "hint: mean(axis=,keepdims=)\n",
    "\n",
    "17. How to get the n largest values of an array (★★★)\n",
    "Z = np.arange(10000) np.random.shuffle(Z) n = 5 hint: np.argsort | np.argpartition\n",
    "\n",
    "18. Create a random 5*3 matrix and replace items that are larger than 4 by their squares ( Example: 6 --> 36)\n",
    "hint: np.where"
   ]
  },
  {
   "cell_type": "code",
   "execution_count": 1,
   "id": "bd787d32",
   "metadata": {},
   "outputs": [],
   "source": [
    "# 1\n",
    "import numpy as np"
   ]
  },
  {
   "cell_type": "code",
   "execution_count": 2,
   "id": "3525ac51",
   "metadata": {},
   "outputs": [
    {
     "data": {
      "text/plain": [
       "array([0., 0., 0., 0., 0., 0., 0., 0., 0., 0.])"
      ]
     },
     "execution_count": 2,
     "metadata": {},
     "output_type": "execute_result"
    }
   ],
   "source": [
    "# 2\n",
    "np.zeros((5,2)).reshape(-1)"
   ]
  },
  {
   "cell_type": "code",
   "execution_count": 3,
   "id": "b4b5baa5",
   "metadata": {},
   "outputs": [
    {
     "data": {
      "text/plain": [
       "array([0., 0., 0., 0., 1., 0., 0., 0., 0., 0.])"
      ]
     },
     "execution_count": 3,
     "metadata": {},
     "output_type": "execute_result"
    }
   ],
   "source": [
    "# 3\n",
    "array = np.zeros((5,2)).reshape(-1)\n",
    "array[4] = 1\n",
    "array"
   ]
  },
  {
   "cell_type": "code",
   "execution_count": 4,
   "id": "d8d79354",
   "metadata": {},
   "outputs": [
    {
     "data": {
      "text/plain": [
       "array([10, 11, 12, 13, 14, 15, 16, 17, 18, 19, 20, 21, 22, 23, 24, 25, 26,\n",
       "       27, 28, 29, 30, 31, 32, 33, 34, 35, 36, 37, 38, 39, 40, 41, 42, 43,\n",
       "       44, 45, 46, 47, 48])"
      ]
     },
     "execution_count": 4,
     "metadata": {},
     "output_type": "execute_result"
    }
   ],
   "source": [
    "#4\n",
    "np.arange(10,49)"
   ]
  },
  {
   "cell_type": "code",
   "execution_count": 5,
   "id": "51d1f80c",
   "metadata": {},
   "outputs": [
    {
     "data": {
      "text/plain": [
       "array([[3, 5, 6],\n",
       "       [7, 2, 0],\n",
       "       [0, 0, 5]])"
      ]
     },
     "execution_count": 5,
     "metadata": {},
     "output_type": "execute_result"
    }
   ],
   "source": [
    "# 5. Create a 3x3 matrix with values ranging from 0 to 8\n",
    "np.random.randint(0, 8, (3,3))"
   ]
  },
  {
   "cell_type": "code",
   "execution_count": 6,
   "id": "be6c060b",
   "metadata": {},
   "outputs": [
    {
     "data": {
      "text/plain": [
       "(array([0, 1, 4]),)"
      ]
     },
     "execution_count": 6,
     "metadata": {},
     "output_type": "execute_result"
    }
   ],
   "source": [
    "# 6. Find indices of non-zero elements from [1,2,0,0,4,0]\n",
    "np.nonzero([1,2,0,0,4,0])"
   ]
  },
  {
   "cell_type": "code",
   "execution_count": 7,
   "id": "177a4102",
   "metadata": {},
   "outputs": [
    {
     "data": {
      "text/plain": [
       "array([[1., 0., 0.],\n",
       "       [0., 1., 0.],\n",
       "       [0., 0., 1.]])"
      ]
     },
     "execution_count": 7,
     "metadata": {},
     "output_type": "execute_result"
    }
   ],
   "source": [
    "# 7. Create a 3x3 identity matrix \n",
    "np.eye(3)"
   ]
  },
  {
   "cell_type": "code",
   "execution_count": 8,
   "id": "021fee64",
   "metadata": {},
   "outputs": [
    {
     "data": {
      "text/plain": [
       "array([[[0.1439762 , 0.490436  , 0.6228182 ],\n",
       "        [0.30790564, 0.9810013 , 0.88842567],\n",
       "        [0.7214001 , 0.21536441, 0.30047349]],\n",
       "\n",
       "       [[0.47019396, 0.81663831, 0.79412756],\n",
       "        [0.89481561, 0.55600702, 0.45014259],\n",
       "        [0.97232777, 0.29581213, 0.60239173]],\n",
       "\n",
       "       [[0.32312876, 0.34930233, 0.53322893],\n",
       "        [0.83692778, 0.84914769, 0.49683816],\n",
       "        [0.16128345, 0.84618899, 0.37964626]]])"
      ]
     },
     "execution_count": 8,
     "metadata": {},
     "output_type": "execute_result"
    }
   ],
   "source": [
    "# 8. Create a 3x3x3 array with random values \n",
    "np.random.random((3,3,3))"
   ]
  },
  {
   "cell_type": "code",
   "execution_count": 9,
   "id": "85c66569",
   "metadata": {},
   "outputs": [
    {
     "data": {
      "text/plain": [
       "array([[26, 12,  0, 18, 14, 10,  4,  8, 15,  2],\n",
       "       [28, 27, 28,  3,  7, 16, 29, 22, 11, 17],\n",
       "       [ 5, 29, 18, 26, 24, 12, 20, 14, 24, 12],\n",
       "       [16, 17, 21, 19,  9,  1, 15, 20, 22, 19],\n",
       "       [18,  8, 29, 21, 15,  1, 19,  1, 14, 23],\n",
       "       [11, 18,  4, 24, 15,  7, 29, 23, 24,  6],\n",
       "       [20, 24, 24,  8, 28, 13, 17,  2, 10,  6],\n",
       "       [ 1, 16, 10, 22, 26, 10, 12, 10, 20,  9],\n",
       "       [ 2, 16, 10, 11, 23,  4,  7, 15, 12, 29],\n",
       "       [14, 15, 17, 29, 15, 14, 15, 29, 28, 29]])"
      ]
     },
     "execution_count": 9,
     "metadata": {},
     "output_type": "execute_result"
    }
   ],
   "source": [
    "# 9. Create a 10x10 array with random values and find the minimum and maximum values\n",
    "array = np.random.randint(0,30, (10,10))\n",
    "array"
   ]
  },
  {
   "cell_type": "code",
   "execution_count": 10,
   "id": "0e951211",
   "metadata": {},
   "outputs": [
    {
     "data": {
      "text/plain": [
       "0"
      ]
     },
     "execution_count": 10,
     "metadata": {},
     "output_type": "execute_result"
    }
   ],
   "source": [
    "np.min(array)"
   ]
  },
  {
   "cell_type": "code",
   "execution_count": 11,
   "id": "81fadc52",
   "metadata": {},
   "outputs": [
    {
     "data": {
      "text/plain": [
       "29"
      ]
     },
     "execution_count": 11,
     "metadata": {},
     "output_type": "execute_result"
    }
   ],
   "source": [
    "np.max(array)"
   ]
  },
  {
   "cell_type": "code",
   "execution_count": 12,
   "id": "d5398c98",
   "metadata": {},
   "outputs": [
    {
     "data": {
      "text/plain": [
       "array([0.63854243, 0.26615556, 0.85577445, 0.10089303, 0.50721842,\n",
       "       0.50620482, 0.97680875, 0.89999326, 0.04242367, 0.64267228,\n",
       "       0.83338406, 0.6756505 , 0.63737643, 0.3143513 , 0.02806347,\n",
       "       0.34749926, 0.68223798, 0.09472251, 0.48105922, 0.12270509,\n",
       "       0.30695541, 0.50867877, 0.51822056, 0.36792721, 0.63062364,\n",
       "       0.2226714 , 0.48486407, 0.33886663, 0.77882557, 0.60656077])"
      ]
     },
     "execution_count": 12,
     "metadata": {},
     "output_type": "execute_result"
    }
   ],
   "source": [
    "# 10. Create a random vector of size 30 and find the mean value\n",
    "array = np.random.random(30)\n",
    "array"
   ]
  },
  {
   "cell_type": "code",
   "execution_count": 13,
   "id": "92c49cdc",
   "metadata": {},
   "outputs": [
    {
     "data": {
      "text/plain": [
       "0.48059768367165223"
      ]
     },
     "execution_count": 13,
     "metadata": {},
     "output_type": "execute_result"
    }
   ],
   "source": [
    "np.mean(array)"
   ]
  },
  {
   "cell_type": "code",
   "execution_count": 14,
   "id": "fa072c63",
   "metadata": {},
   "outputs": [
    {
     "data": {
      "text/plain": [
       "array([[1, 0, 0, 0, 0],\n",
       "       [0, 2, 0, 0, 0],\n",
       "       [0, 0, 3, 0, 0],\n",
       "       [0, 0, 0, 4, 0],\n",
       "       [0, 0, 0, 0, 1]])"
      ]
     },
     "execution_count": 14,
     "metadata": {},
     "output_type": "execute_result"
    }
   ],
   "source": [
    "# 11. Create a 5x5 matrix with values 1,2,3,4 just below the diagonal\n",
    "array = np.array([1,2,3,4,1])\n",
    "array_2 = np.diag(array)\n",
    "array_2"
   ]
  },
  {
   "cell_type": "code",
   "execution_count": 15,
   "id": "d9aca63c",
   "metadata": {},
   "outputs": [
    {
     "data": {
      "text/plain": [
       "array([[26.23204056, 26.23204056, 25.23204056, 13.23204056,  3.23204056],\n",
       "       [23.23204056, 23.23204056, 14.23204056,  1.23204056,  3.23204056],\n",
       "       [12.23204056,  9.23204056, 20.23204056, 24.23204056,  8.23204056],\n",
       "       [ 3.23204056, -0.76795944, 26.23204056, -1.76795944, 10.23204056],\n",
       "       [13.23204056, 21.23204056, 26.23204056, 22.23204056, 17.23204056]])"
      ]
     },
     "execution_count": 15,
     "metadata": {},
     "output_type": "execute_result"
    }
   ],
   "source": [
    "# 12. Normalize a 5x5 random matrix\n",
    "#hint: (x -mean)/std\n",
    "array = np.random.randint(0,30, (5,5))\n",
    "mean = np.mean(array)\n",
    "st_dev = np.std(array)\n",
    "array-mean/st_dev"
   ]
  },
  {
   "cell_type": "code",
   "execution_count": 16,
   "id": "8d4b9948",
   "metadata": {},
   "outputs": [
    {
     "data": {
      "text/plain": [
       "array([1, 2, 3])"
      ]
     },
     "execution_count": 16,
     "metadata": {},
     "output_type": "execute_result"
    }
   ],
   "source": [
    "# 13. How to find common values between two arrays?\n",
    "array1 = np.array([1,2,3,9,12,45])\n",
    "array2 = np.array([1,2,3,19,14,32])\n",
    "np.intersect1d(array1,array2)"
   ]
  },
  {
   "cell_type": "code",
   "execution_count": 17,
   "id": "603eb4e3",
   "metadata": {},
   "outputs": [
    {
     "data": {
      "text/plain": [
       "array([0.57444971, 0.67261663, 0.4539633 , 0.46479464, 0.39415319,\n",
       "       0.16198754, 0.80913718, 0.73254766, 0.63785483, 0.26175   ])"
      ]
     },
     "execution_count": 17,
     "metadata": {},
     "output_type": "execute_result"
    }
   ],
   "source": [
    "# 14. Create a random vector of size 10 and sort it\n",
    "array = np.random.random(10)\n",
    "array"
   ]
  },
  {
   "cell_type": "code",
   "execution_count": 18,
   "id": "97e55930",
   "metadata": {},
   "outputs": [
    {
     "data": {
      "text/plain": [
       "array([0.16198754, 0.26175   , 0.39415319, 0.4539633 , 0.46479464,\n",
       "       0.57444971, 0.63785483, 0.67261663, 0.73254766, 0.80913718])"
      ]
     },
     "execution_count": 18,
     "metadata": {},
     "output_type": "execute_result"
    }
   ],
   "source": [
    "np.sort(array)"
   ]
  },
  {
   "cell_type": "code",
   "execution_count": 19,
   "id": "ed3fc78e",
   "metadata": {},
   "outputs": [
    {
     "data": {
      "text/plain": [
       "array([0.00987768, 0.86899459, 0.58217513, 0.67489962, 0.90380167,\n",
       "       0.84804568, 0.03370596, 0.56224155, 0.19250602, 0.83944053])"
      ]
     },
     "execution_count": 19,
     "metadata": {},
     "output_type": "execute_result"
    }
   ],
   "source": [
    "# 15. Create random vector of size 10 and replace the maximum value by 0\n",
    "array = np.random.random(10)\n",
    "array"
   ]
  },
  {
   "cell_type": "code",
   "execution_count": 20,
   "id": "3d54a9ba",
   "metadata": {},
   "outputs": [
    {
     "data": {
      "text/plain": [
       "4"
      ]
     },
     "execution_count": 20,
     "metadata": {},
     "output_type": "execute_result"
    }
   ],
   "source": [
    "x = np.argmax(array)\n",
    "x"
   ]
  },
  {
   "cell_type": "code",
   "execution_count": 21,
   "id": "c8e3a46a",
   "metadata": {},
   "outputs": [],
   "source": [
    "array[x] = 0"
   ]
  },
  {
   "cell_type": "code",
   "execution_count": 22,
   "id": "07d6699f",
   "metadata": {},
   "outputs": [
    {
     "data": {
      "text/plain": [
       "array([0.00987768, 0.86899459, 0.58217513, 0.67489962, 0.        ,\n",
       "       0.84804568, 0.03370596, 0.56224155, 0.19250602, 0.83944053])"
      ]
     },
     "execution_count": 22,
     "metadata": {},
     "output_type": "execute_result"
    }
   ],
   "source": [
    "array"
   ]
  },
  {
   "cell_type": "code",
   "execution_count": 23,
   "id": "9be706b1",
   "metadata": {},
   "outputs": [
    {
     "data": {
      "text/plain": [
       "array([[ 1,  2,  3,  4,  5],\n",
       "       [ 6,  7,  8,  9, 10]])"
      ]
     },
     "execution_count": 23,
     "metadata": {},
     "output_type": "execute_result"
    }
   ],
   "source": [
    "# 16. Subtract the mean of each row of a matrix (★★☆)\n",
    "#hint: mean(axis=,keepdims=)\n",
    "\n",
    "array = np.array([[1,2,3,4,5], [6,7,8,9,10]])\n",
    "array"
   ]
  },
  {
   "cell_type": "code",
   "execution_count": 24,
   "id": "8ca36260",
   "metadata": {},
   "outputs": [
    {
     "data": {
      "text/plain": [
       "array([3., 8.])"
      ]
     },
     "execution_count": 24,
     "metadata": {},
     "output_type": "execute_result"
    }
   ],
   "source": [
    "array.mean(axis = 1)"
   ]
  },
  {
   "cell_type": "code",
   "execution_count": 25,
   "id": "acd5e9f1",
   "metadata": {},
   "outputs": [
    {
     "data": {
      "text/plain": [
       "array([   0,    1,    2, ..., 9997, 9998, 9999])"
      ]
     },
     "execution_count": 25,
     "metadata": {},
     "output_type": "execute_result"
    }
   ],
   "source": [
    "# 17. How to get the n largest values of an array (★★★)\n",
    "# Z = np.arange(10000) np.random.shuffle(Z) n = 5 hint: np.argsort | np.argpartition\n",
    "\n",
    "z = np.arange(10000)\n",
    "z"
   ]
  },
  {
   "cell_type": "code",
   "execution_count": 26,
   "id": "51f683e0",
   "metadata": {},
   "outputs": [],
   "source": [
    "np.random.shuffle(z)"
   ]
  },
  {
   "cell_type": "code",
   "execution_count": 27,
   "id": "05d2752d",
   "metadata": {},
   "outputs": [
    {
     "data": {
      "text/plain": [
       "array([ 837,  881,  159, ..., 8257, 8152, 3775])"
      ]
     },
     "execution_count": 27,
     "metadata": {},
     "output_type": "execute_result"
    }
   ],
   "source": [
    "z"
   ]
  },
  {
   "cell_type": "code",
   "execution_count": 28,
   "id": "01322ae3",
   "metadata": {},
   "outputs": [
    {
     "data": {
      "text/plain": [
       "array([5795, 9106,  312, ..., 1310, 7666, 1953])"
      ]
     },
     "execution_count": 28,
     "metadata": {},
     "output_type": "execute_result"
    }
   ],
   "source": [
    "np.argsort(z)"
   ]
  },
  {
   "cell_type": "code",
   "execution_count": 29,
   "id": "c7f83973",
   "metadata": {},
   "outputs": [
    {
     "data": {
      "text/plain": [
       "array([[15,  3, 10],\n",
       "       [ 0,  1, 13],\n",
       "       [ 9,  2,  8],\n",
       "       [13,  6,  8],\n",
       "       [ 8,  4,  5]])"
      ]
     },
     "execution_count": 29,
     "metadata": {},
     "output_type": "execute_result"
    }
   ],
   "source": [
    "# 18. Create a random 5*3 matrix and replace items that are larger than 4 by their squares ( Example: 6 --> 36)\n",
    "#hint: np.where\n",
    "array = np.random.randint(0,20, (5,3))\n",
    "array"
   ]
  },
  {
   "cell_type": "code",
   "execution_count": null,
   "id": "9f272a75",
   "metadata": {},
   "outputs": [],
   "source": [
    "for i in array:\n",
    "    array[i] = np.where(array[i] > 4, i**2,\n",
    "                    array[i]"
   ]
  },
  {
   "cell_type": "code",
   "execution_count": 73,
   "id": "f6c88795",
   "metadata": {},
   "outputs": [
    {
     "data": {
      "text/plain": [
       "array([[  0,  49, 169],\n",
       "       [  0,  49,   3],\n",
       "       [  0,  49,   4],\n",
       "       [  0,  49, 169],\n",
       "       [  0,  49, 169]])"
      ]
     },
     "execution_count": 73,
     "metadata": {},
     "output_type": "execute_result"
    }
   ],
   "source": [
    "array"
   ]
  },
  {
   "cell_type": "code",
   "execution_count": null,
   "id": "3f5ca25d",
   "metadata": {},
   "outputs": [],
   "source": []
  }
 ],
 "metadata": {
  "kernelspec": {
   "display_name": "Python 3 (ipykernel)",
   "language": "python",
   "name": "python3"
  },
  "language_info": {
   "codemirror_mode": {
    "name": "ipython",
    "version": 3
   },
   "file_extension": ".py",
   "mimetype": "text/x-python",
   "name": "python",
   "nbconvert_exporter": "python",
   "pygments_lexer": "ipython3",
   "version": "3.9.13"
  }
 },
 "nbformat": 4,
 "nbformat_minor": 5
}
